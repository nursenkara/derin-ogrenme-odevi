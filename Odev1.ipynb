{
 "cells": [
  {
   "cell_type": "code",
   "execution_count": 1,
   "metadata": {
    "id": "lMDTFeUbecVB"
   },
   "outputs": [],
   "source": [
    "import numpy as np\n",
    "import seaborn as sns\n",
    "import pandas as pd"
   ]
  },
  {
   "cell_type": "code",
   "execution_count": 2,
   "metadata": {
    "id": "9bx8lTP8DHwe"
   },
   "outputs": [],
   "source": [
    "df = pd.read_csv(\"heart_failure_clinical_records_dataset (1).csv\")"
   ]
  },
  {
   "cell_type": "code",
   "execution_count": 3,
   "metadata": {
    "colab": {
     "base_uri": "https://localhost:8080/",
     "height": 224
    },
    "id": "OseA1Mi7Ffo3",
    "outputId": "adb3845d-8028-4f10-dbe6-2a703f3cf70d"
   },
   "outputs": [
    {
     "data": {
      "text/html": [
       "<div>\n",
       "<style scoped>\n",
       "    .dataframe tbody tr th:only-of-type {\n",
       "        vertical-align: middle;\n",
       "    }\n",
       "\n",
       "    .dataframe tbody tr th {\n",
       "        vertical-align: top;\n",
       "    }\n",
       "\n",
       "    .dataframe thead th {\n",
       "        text-align: right;\n",
       "    }\n",
       "</style>\n",
       "<table border=\"1\" class=\"dataframe\">\n",
       "  <thead>\n",
       "    <tr style=\"text-align: right;\">\n",
       "      <th></th>\n",
       "      <th>age</th>\n",
       "      <th>anaemia</th>\n",
       "      <th>creatinine_phosphokinase</th>\n",
       "      <th>diabetes</th>\n",
       "      <th>ejection_fraction</th>\n",
       "      <th>high_blood_pressure</th>\n",
       "      <th>platelets</th>\n",
       "      <th>serum_creatinine</th>\n",
       "      <th>serum_sodium</th>\n",
       "      <th>sex</th>\n",
       "      <th>smoking</th>\n",
       "      <th>time</th>\n",
       "      <th>DEATH_EVENT</th>\n",
       "    </tr>\n",
       "  </thead>\n",
       "  <tbody>\n",
       "    <tr>\n",
       "      <th>0</th>\n",
       "      <td>75.0</td>\n",
       "      <td>0</td>\n",
       "      <td>582</td>\n",
       "      <td>0</td>\n",
       "      <td>20</td>\n",
       "      <td>1</td>\n",
       "      <td>265000.00</td>\n",
       "      <td>1.9</td>\n",
       "      <td>130</td>\n",
       "      <td>1</td>\n",
       "      <td>0</td>\n",
       "      <td>4</td>\n",
       "      <td>1</td>\n",
       "    </tr>\n",
       "    <tr>\n",
       "      <th>1</th>\n",
       "      <td>55.0</td>\n",
       "      <td>0</td>\n",
       "      <td>7861</td>\n",
       "      <td>0</td>\n",
       "      <td>38</td>\n",
       "      <td>0</td>\n",
       "      <td>263358.03</td>\n",
       "      <td>1.1</td>\n",
       "      <td>136</td>\n",
       "      <td>1</td>\n",
       "      <td>0</td>\n",
       "      <td>6</td>\n",
       "      <td>1</td>\n",
       "    </tr>\n",
       "    <tr>\n",
       "      <th>2</th>\n",
       "      <td>65.0</td>\n",
       "      <td>0</td>\n",
       "      <td>146</td>\n",
       "      <td>0</td>\n",
       "      <td>20</td>\n",
       "      <td>0</td>\n",
       "      <td>162000.00</td>\n",
       "      <td>1.3</td>\n",
       "      <td>129</td>\n",
       "      <td>1</td>\n",
       "      <td>1</td>\n",
       "      <td>7</td>\n",
       "      <td>1</td>\n",
       "    </tr>\n",
       "    <tr>\n",
       "      <th>3</th>\n",
       "      <td>50.0</td>\n",
       "      <td>1</td>\n",
       "      <td>111</td>\n",
       "      <td>0</td>\n",
       "      <td>20</td>\n",
       "      <td>0</td>\n",
       "      <td>210000.00</td>\n",
       "      <td>1.9</td>\n",
       "      <td>137</td>\n",
       "      <td>1</td>\n",
       "      <td>0</td>\n",
       "      <td>7</td>\n",
       "      <td>1</td>\n",
       "    </tr>\n",
       "    <tr>\n",
       "      <th>4</th>\n",
       "      <td>65.0</td>\n",
       "      <td>1</td>\n",
       "      <td>160</td>\n",
       "      <td>1</td>\n",
       "      <td>20</td>\n",
       "      <td>0</td>\n",
       "      <td>327000.00</td>\n",
       "      <td>2.7</td>\n",
       "      <td>116</td>\n",
       "      <td>0</td>\n",
       "      <td>0</td>\n",
       "      <td>8</td>\n",
       "      <td>1</td>\n",
       "    </tr>\n",
       "  </tbody>\n",
       "</table>\n",
       "</div>"
      ],
      "text/plain": [
       "    age  anaemia  creatinine_phosphokinase  diabetes  ejection_fraction  \\\n",
       "0  75.0        0                       582         0                 20   \n",
       "1  55.0        0                      7861         0                 38   \n",
       "2  65.0        0                       146         0                 20   \n",
       "3  50.0        1                       111         0                 20   \n",
       "4  65.0        1                       160         1                 20   \n",
       "\n",
       "   high_blood_pressure  platelets  serum_creatinine  serum_sodium  sex  \\\n",
       "0                    1  265000.00               1.9           130    1   \n",
       "1                    0  263358.03               1.1           136    1   \n",
       "2                    0  162000.00               1.3           129    1   \n",
       "3                    0  210000.00               1.9           137    1   \n",
       "4                    0  327000.00               2.7           116    0   \n",
       "\n",
       "   smoking  time  DEATH_EVENT  \n",
       "0        0     4            1  \n",
       "1        0     6            1  \n",
       "2        1     7            1  \n",
       "3        0     7            1  \n",
       "4        0     8            1  "
      ]
     },
     "execution_count": 3,
     "metadata": {},
     "output_type": "execute_result"
    }
   ],
   "source": [
    "df.head()"
   ]
  },
  {
   "cell_type": "code",
   "execution_count": 4,
   "metadata": {
    "colab": {
     "base_uri": "https://localhost:8080/"
    },
    "id": "g4rPoGC2FvZb",
    "outputId": "4304a109-005d-4c99-b628-627f7eea4426"
   },
   "outputs": [
    {
     "data": {
      "text/plain": [
       "(299, 13)"
      ]
     },
     "execution_count": 4,
     "metadata": {},
     "output_type": "execute_result"
    }
   ],
   "source": [
    "df.shape"
   ]
  },
  {
   "cell_type": "markdown",
   "metadata": {
    "id": "VUgTYyEOLI7U"
   },
   "source": [
    "299 gözlem ve 13 öznitelikten oluşuyor"
   ]
  },
  {
   "cell_type": "code",
   "execution_count": 5,
   "metadata": {
    "colab": {
     "base_uri": "https://localhost:8080/"
    },
    "id": "axTINtWYLmEM",
    "outputId": "74a436f0-2c8c-40a2-cb6b-948bdfc51880"
   },
   "outputs": [
    {
     "name": "stdout",
     "output_type": "stream",
     "text": [
      "<class 'pandas.core.frame.DataFrame'>\n",
      "RangeIndex: 299 entries, 0 to 298\n",
      "Data columns (total 13 columns):\n",
      " #   Column                    Non-Null Count  Dtype  \n",
      "---  ------                    --------------  -----  \n",
      " 0   age                       299 non-null    float64\n",
      " 1   anaemia                   299 non-null    int64  \n",
      " 2   creatinine_phosphokinase  299 non-null    int64  \n",
      " 3   diabetes                  299 non-null    int64  \n",
      " 4   ejection_fraction         299 non-null    int64  \n",
      " 5   high_blood_pressure       299 non-null    int64  \n",
      " 6   platelets                 299 non-null    float64\n",
      " 7   serum_creatinine          299 non-null    float64\n",
      " 8   serum_sodium              299 non-null    int64  \n",
      " 9   sex                       299 non-null    int64  \n",
      " 10  smoking                   299 non-null    int64  \n",
      " 11  time                      299 non-null    int64  \n",
      " 12  DEATH_EVENT               299 non-null    int64  \n",
      "dtypes: float64(3), int64(10)\n",
      "memory usage: 30.5 KB\n"
     ]
    }
   ],
   "source": [
    "df.info()"
   ]
  },
  {
   "cell_type": "code",
   "execution_count": 6,
   "metadata": {
    "colab": {
     "base_uri": "https://localhost:8080/",
     "height": 452
    },
    "id": "NLTaRif_LpWo",
    "outputId": "f5dc49c9-b535-4bc1-a03d-09fb8f42db67"
   },
   "outputs": [
    {
     "data": {
      "text/html": [
       "<div>\n",
       "<style scoped>\n",
       "    .dataframe tbody tr th:only-of-type {\n",
       "        vertical-align: middle;\n",
       "    }\n",
       "\n",
       "    .dataframe tbody tr th {\n",
       "        vertical-align: top;\n",
       "    }\n",
       "\n",
       "    .dataframe thead th {\n",
       "        text-align: right;\n",
       "    }\n",
       "</style>\n",
       "<table border=\"1\" class=\"dataframe\">\n",
       "  <thead>\n",
       "    <tr style=\"text-align: right;\">\n",
       "      <th></th>\n",
       "      <th>count</th>\n",
       "      <th>mean</th>\n",
       "      <th>std</th>\n",
       "      <th>min</th>\n",
       "      <th>25%</th>\n",
       "      <th>50%</th>\n",
       "      <th>75%</th>\n",
       "      <th>max</th>\n",
       "    </tr>\n",
       "  </thead>\n",
       "  <tbody>\n",
       "    <tr>\n",
       "      <th>age</th>\n",
       "      <td>299.0</td>\n",
       "      <td>60.833893</td>\n",
       "      <td>11.894809</td>\n",
       "      <td>40.0</td>\n",
       "      <td>51.0</td>\n",
       "      <td>60.0</td>\n",
       "      <td>70.0</td>\n",
       "      <td>95.0</td>\n",
       "    </tr>\n",
       "    <tr>\n",
       "      <th>anaemia</th>\n",
       "      <td>299.0</td>\n",
       "      <td>0.431438</td>\n",
       "      <td>0.496107</td>\n",
       "      <td>0.0</td>\n",
       "      <td>0.0</td>\n",
       "      <td>0.0</td>\n",
       "      <td>1.0</td>\n",
       "      <td>1.0</td>\n",
       "    </tr>\n",
       "    <tr>\n",
       "      <th>creatinine_phosphokinase</th>\n",
       "      <td>299.0</td>\n",
       "      <td>581.839465</td>\n",
       "      <td>970.287881</td>\n",
       "      <td>23.0</td>\n",
       "      <td>116.5</td>\n",
       "      <td>250.0</td>\n",
       "      <td>582.0</td>\n",
       "      <td>7861.0</td>\n",
       "    </tr>\n",
       "    <tr>\n",
       "      <th>diabetes</th>\n",
       "      <td>299.0</td>\n",
       "      <td>0.418060</td>\n",
       "      <td>0.494067</td>\n",
       "      <td>0.0</td>\n",
       "      <td>0.0</td>\n",
       "      <td>0.0</td>\n",
       "      <td>1.0</td>\n",
       "      <td>1.0</td>\n",
       "    </tr>\n",
       "    <tr>\n",
       "      <th>ejection_fraction</th>\n",
       "      <td>299.0</td>\n",
       "      <td>38.083612</td>\n",
       "      <td>11.834841</td>\n",
       "      <td>14.0</td>\n",
       "      <td>30.0</td>\n",
       "      <td>38.0</td>\n",
       "      <td>45.0</td>\n",
       "      <td>80.0</td>\n",
       "    </tr>\n",
       "    <tr>\n",
       "      <th>high_blood_pressure</th>\n",
       "      <td>299.0</td>\n",
       "      <td>0.351171</td>\n",
       "      <td>0.478136</td>\n",
       "      <td>0.0</td>\n",
       "      <td>0.0</td>\n",
       "      <td>0.0</td>\n",
       "      <td>1.0</td>\n",
       "      <td>1.0</td>\n",
       "    </tr>\n",
       "    <tr>\n",
       "      <th>platelets</th>\n",
       "      <td>299.0</td>\n",
       "      <td>263358.029264</td>\n",
       "      <td>97804.236869</td>\n",
       "      <td>25100.0</td>\n",
       "      <td>212500.0</td>\n",
       "      <td>262000.0</td>\n",
       "      <td>303500.0</td>\n",
       "      <td>850000.0</td>\n",
       "    </tr>\n",
       "    <tr>\n",
       "      <th>serum_creatinine</th>\n",
       "      <td>299.0</td>\n",
       "      <td>1.393880</td>\n",
       "      <td>1.034510</td>\n",
       "      <td>0.5</td>\n",
       "      <td>0.9</td>\n",
       "      <td>1.1</td>\n",
       "      <td>1.4</td>\n",
       "      <td>9.4</td>\n",
       "    </tr>\n",
       "    <tr>\n",
       "      <th>serum_sodium</th>\n",
       "      <td>299.0</td>\n",
       "      <td>136.625418</td>\n",
       "      <td>4.412477</td>\n",
       "      <td>113.0</td>\n",
       "      <td>134.0</td>\n",
       "      <td>137.0</td>\n",
       "      <td>140.0</td>\n",
       "      <td>148.0</td>\n",
       "    </tr>\n",
       "    <tr>\n",
       "      <th>sex</th>\n",
       "      <td>299.0</td>\n",
       "      <td>0.648829</td>\n",
       "      <td>0.478136</td>\n",
       "      <td>0.0</td>\n",
       "      <td>0.0</td>\n",
       "      <td>1.0</td>\n",
       "      <td>1.0</td>\n",
       "      <td>1.0</td>\n",
       "    </tr>\n",
       "    <tr>\n",
       "      <th>smoking</th>\n",
       "      <td>299.0</td>\n",
       "      <td>0.321070</td>\n",
       "      <td>0.467670</td>\n",
       "      <td>0.0</td>\n",
       "      <td>0.0</td>\n",
       "      <td>0.0</td>\n",
       "      <td>1.0</td>\n",
       "      <td>1.0</td>\n",
       "    </tr>\n",
       "    <tr>\n",
       "      <th>time</th>\n",
       "      <td>299.0</td>\n",
       "      <td>130.260870</td>\n",
       "      <td>77.614208</td>\n",
       "      <td>4.0</td>\n",
       "      <td>73.0</td>\n",
       "      <td>115.0</td>\n",
       "      <td>203.0</td>\n",
       "      <td>285.0</td>\n",
       "    </tr>\n",
       "    <tr>\n",
       "      <th>DEATH_EVENT</th>\n",
       "      <td>299.0</td>\n",
       "      <td>0.321070</td>\n",
       "      <td>0.467670</td>\n",
       "      <td>0.0</td>\n",
       "      <td>0.0</td>\n",
       "      <td>0.0</td>\n",
       "      <td>1.0</td>\n",
       "      <td>1.0</td>\n",
       "    </tr>\n",
       "  </tbody>\n",
       "</table>\n",
       "</div>"
      ],
      "text/plain": [
       "                          count           mean           std      min  \\\n",
       "age                       299.0      60.833893     11.894809     40.0   \n",
       "anaemia                   299.0       0.431438      0.496107      0.0   \n",
       "creatinine_phosphokinase  299.0     581.839465    970.287881     23.0   \n",
       "diabetes                  299.0       0.418060      0.494067      0.0   \n",
       "ejection_fraction         299.0      38.083612     11.834841     14.0   \n",
       "high_blood_pressure       299.0       0.351171      0.478136      0.0   \n",
       "platelets                 299.0  263358.029264  97804.236869  25100.0   \n",
       "serum_creatinine          299.0       1.393880      1.034510      0.5   \n",
       "serum_sodium              299.0     136.625418      4.412477    113.0   \n",
       "sex                       299.0       0.648829      0.478136      0.0   \n",
       "smoking                   299.0       0.321070      0.467670      0.0   \n",
       "time                      299.0     130.260870     77.614208      4.0   \n",
       "DEATH_EVENT               299.0       0.321070      0.467670      0.0   \n",
       "\n",
       "                               25%       50%       75%       max  \n",
       "age                           51.0      60.0      70.0      95.0  \n",
       "anaemia                        0.0       0.0       1.0       1.0  \n",
       "creatinine_phosphokinase     116.5     250.0     582.0    7861.0  \n",
       "diabetes                       0.0       0.0       1.0       1.0  \n",
       "ejection_fraction             30.0      38.0      45.0      80.0  \n",
       "high_blood_pressure            0.0       0.0       1.0       1.0  \n",
       "platelets                 212500.0  262000.0  303500.0  850000.0  \n",
       "serum_creatinine               0.9       1.1       1.4       9.4  \n",
       "serum_sodium                 134.0     137.0     140.0     148.0  \n",
       "sex                            0.0       1.0       1.0       1.0  \n",
       "smoking                        0.0       0.0       1.0       1.0  \n",
       "time                          73.0     115.0     203.0     285.0  \n",
       "DEATH_EVENT                    0.0       0.0       1.0       1.0  "
      ]
     },
     "execution_count": 6,
     "metadata": {},
     "output_type": "execute_result"
    }
   ],
   "source": [
    "df.describe().T"
   ]
  },
  {
   "cell_type": "code",
   "execution_count": 7,
   "metadata": {
    "colab": {
     "base_uri": "https://localhost:8080/"
    },
    "id": "0d95Y3ZyMFnK",
    "outputId": "7a3fece7-791e-4c38-b61f-d88e695839a6"
   },
   "outputs": [
    {
     "data": {
      "text/plain": [
       "age                         0\n",
       "anaemia                     0\n",
       "creatinine_phosphokinase    0\n",
       "diabetes                    0\n",
       "ejection_fraction           0\n",
       "high_blood_pressure         0\n",
       "platelets                   0\n",
       "serum_creatinine            0\n",
       "serum_sodium                0\n",
       "sex                         0\n",
       "smoking                     0\n",
       "time                        0\n",
       "DEATH_EVENT                 0\n",
       "dtype: int64"
      ]
     },
     "execution_count": 7,
     "metadata": {},
     "output_type": "execute_result"
    }
   ],
   "source": [
    "df.isna().sum()"
   ]
  },
  {
   "cell_type": "markdown",
   "metadata": {
    "id": "94wRHF2wMh4N"
   },
   "source": [
    "Hiç eksik gözlem bulunmamaktadır.\n"
   ]
  },
  {
   "cell_type": "code",
   "execution_count": 8,
   "metadata": {
    "colab": {
     "base_uri": "https://localhost:8080/",
     "height": 472
    },
    "id": "a3eEJMagRrJC",
    "outputId": "620c910c-88ed-417c-814a-ffb499946c7e"
   },
   "outputs": [
    {
     "data": {
      "text/html": [
       "<div>\n",
       "<style scoped>\n",
       "    .dataframe tbody tr th:only-of-type {\n",
       "        vertical-align: middle;\n",
       "    }\n",
       "\n",
       "    .dataframe tbody tr th {\n",
       "        vertical-align: top;\n",
       "    }\n",
       "\n",
       "    .dataframe thead th {\n",
       "        text-align: right;\n",
       "    }\n",
       "</style>\n",
       "<table border=\"1\" class=\"dataframe\">\n",
       "  <thead>\n",
       "    <tr style=\"text-align: right;\">\n",
       "      <th></th>\n",
       "      <th>age</th>\n",
       "      <th>anaemia</th>\n",
       "      <th>creatinine_phosphokinase</th>\n",
       "      <th>diabetes</th>\n",
       "      <th>ejection_fraction</th>\n",
       "      <th>high_blood_pressure</th>\n",
       "      <th>platelets</th>\n",
       "      <th>serum_creatinine</th>\n",
       "      <th>serum_sodium</th>\n",
       "      <th>sex</th>\n",
       "      <th>smoking</th>\n",
       "      <th>time</th>\n",
       "      <th>DEATH_EVENT</th>\n",
       "    </tr>\n",
       "  </thead>\n",
       "  <tbody>\n",
       "    <tr>\n",
       "      <th>age</th>\n",
       "      <td>1.000000</td>\n",
       "      <td>0.088006</td>\n",
       "      <td>-0.081584</td>\n",
       "      <td>-0.101012</td>\n",
       "      <td>0.060098</td>\n",
       "      <td>0.093289</td>\n",
       "      <td>-0.052354</td>\n",
       "      <td>0.159187</td>\n",
       "      <td>-0.045966</td>\n",
       "      <td>0.065430</td>\n",
       "      <td>0.018668</td>\n",
       "      <td>-0.224068</td>\n",
       "      <td>0.253729</td>\n",
       "    </tr>\n",
       "    <tr>\n",
       "      <th>anaemia</th>\n",
       "      <td>0.088006</td>\n",
       "      <td>1.000000</td>\n",
       "      <td>-0.190741</td>\n",
       "      <td>-0.012729</td>\n",
       "      <td>0.031557</td>\n",
       "      <td>0.038182</td>\n",
       "      <td>-0.043786</td>\n",
       "      <td>0.052174</td>\n",
       "      <td>0.041882</td>\n",
       "      <td>-0.094769</td>\n",
       "      <td>-0.107290</td>\n",
       "      <td>-0.141414</td>\n",
       "      <td>0.066270</td>\n",
       "    </tr>\n",
       "    <tr>\n",
       "      <th>creatinine_phosphokinase</th>\n",
       "      <td>-0.081584</td>\n",
       "      <td>-0.190741</td>\n",
       "      <td>1.000000</td>\n",
       "      <td>-0.009639</td>\n",
       "      <td>-0.044080</td>\n",
       "      <td>-0.070590</td>\n",
       "      <td>0.024463</td>\n",
       "      <td>-0.016408</td>\n",
       "      <td>0.059550</td>\n",
       "      <td>0.079791</td>\n",
       "      <td>0.002421</td>\n",
       "      <td>-0.009346</td>\n",
       "      <td>0.062728</td>\n",
       "    </tr>\n",
       "    <tr>\n",
       "      <th>diabetes</th>\n",
       "      <td>-0.101012</td>\n",
       "      <td>-0.012729</td>\n",
       "      <td>-0.009639</td>\n",
       "      <td>1.000000</td>\n",
       "      <td>-0.004850</td>\n",
       "      <td>-0.012732</td>\n",
       "      <td>0.092193</td>\n",
       "      <td>-0.046975</td>\n",
       "      <td>-0.089551</td>\n",
       "      <td>-0.157730</td>\n",
       "      <td>-0.147173</td>\n",
       "      <td>0.033726</td>\n",
       "      <td>-0.001943</td>\n",
       "    </tr>\n",
       "    <tr>\n",
       "      <th>ejection_fraction</th>\n",
       "      <td>0.060098</td>\n",
       "      <td>0.031557</td>\n",
       "      <td>-0.044080</td>\n",
       "      <td>-0.004850</td>\n",
       "      <td>1.000000</td>\n",
       "      <td>0.024445</td>\n",
       "      <td>0.072177</td>\n",
       "      <td>-0.011302</td>\n",
       "      <td>0.175902</td>\n",
       "      <td>-0.148386</td>\n",
       "      <td>-0.067315</td>\n",
       "      <td>0.041729</td>\n",
       "      <td>-0.268603</td>\n",
       "    </tr>\n",
       "    <tr>\n",
       "      <th>high_blood_pressure</th>\n",
       "      <td>0.093289</td>\n",
       "      <td>0.038182</td>\n",
       "      <td>-0.070590</td>\n",
       "      <td>-0.012732</td>\n",
       "      <td>0.024445</td>\n",
       "      <td>1.000000</td>\n",
       "      <td>0.049963</td>\n",
       "      <td>-0.004935</td>\n",
       "      <td>0.037109</td>\n",
       "      <td>-0.104615</td>\n",
       "      <td>-0.055711</td>\n",
       "      <td>-0.196439</td>\n",
       "      <td>0.079351</td>\n",
       "    </tr>\n",
       "    <tr>\n",
       "      <th>platelets</th>\n",
       "      <td>-0.052354</td>\n",
       "      <td>-0.043786</td>\n",
       "      <td>0.024463</td>\n",
       "      <td>0.092193</td>\n",
       "      <td>0.072177</td>\n",
       "      <td>0.049963</td>\n",
       "      <td>1.000000</td>\n",
       "      <td>-0.041198</td>\n",
       "      <td>0.062125</td>\n",
       "      <td>-0.125120</td>\n",
       "      <td>0.028234</td>\n",
       "      <td>0.010514</td>\n",
       "      <td>-0.049139</td>\n",
       "    </tr>\n",
       "    <tr>\n",
       "      <th>serum_creatinine</th>\n",
       "      <td>0.159187</td>\n",
       "      <td>0.052174</td>\n",
       "      <td>-0.016408</td>\n",
       "      <td>-0.046975</td>\n",
       "      <td>-0.011302</td>\n",
       "      <td>-0.004935</td>\n",
       "      <td>-0.041198</td>\n",
       "      <td>1.000000</td>\n",
       "      <td>-0.189095</td>\n",
       "      <td>0.006970</td>\n",
       "      <td>-0.027414</td>\n",
       "      <td>-0.149315</td>\n",
       "      <td>0.294278</td>\n",
       "    </tr>\n",
       "    <tr>\n",
       "      <th>serum_sodium</th>\n",
       "      <td>-0.045966</td>\n",
       "      <td>0.041882</td>\n",
       "      <td>0.059550</td>\n",
       "      <td>-0.089551</td>\n",
       "      <td>0.175902</td>\n",
       "      <td>0.037109</td>\n",
       "      <td>0.062125</td>\n",
       "      <td>-0.189095</td>\n",
       "      <td>1.000000</td>\n",
       "      <td>-0.027566</td>\n",
       "      <td>0.004813</td>\n",
       "      <td>0.087640</td>\n",
       "      <td>-0.195204</td>\n",
       "    </tr>\n",
       "    <tr>\n",
       "      <th>sex</th>\n",
       "      <td>0.065430</td>\n",
       "      <td>-0.094769</td>\n",
       "      <td>0.079791</td>\n",
       "      <td>-0.157730</td>\n",
       "      <td>-0.148386</td>\n",
       "      <td>-0.104615</td>\n",
       "      <td>-0.125120</td>\n",
       "      <td>0.006970</td>\n",
       "      <td>-0.027566</td>\n",
       "      <td>1.000000</td>\n",
       "      <td>0.445892</td>\n",
       "      <td>-0.015608</td>\n",
       "      <td>-0.004316</td>\n",
       "    </tr>\n",
       "    <tr>\n",
       "      <th>smoking</th>\n",
       "      <td>0.018668</td>\n",
       "      <td>-0.107290</td>\n",
       "      <td>0.002421</td>\n",
       "      <td>-0.147173</td>\n",
       "      <td>-0.067315</td>\n",
       "      <td>-0.055711</td>\n",
       "      <td>0.028234</td>\n",
       "      <td>-0.027414</td>\n",
       "      <td>0.004813</td>\n",
       "      <td>0.445892</td>\n",
       "      <td>1.000000</td>\n",
       "      <td>-0.022839</td>\n",
       "      <td>-0.012623</td>\n",
       "    </tr>\n",
       "    <tr>\n",
       "      <th>time</th>\n",
       "      <td>-0.224068</td>\n",
       "      <td>-0.141414</td>\n",
       "      <td>-0.009346</td>\n",
       "      <td>0.033726</td>\n",
       "      <td>0.041729</td>\n",
       "      <td>-0.196439</td>\n",
       "      <td>0.010514</td>\n",
       "      <td>-0.149315</td>\n",
       "      <td>0.087640</td>\n",
       "      <td>-0.015608</td>\n",
       "      <td>-0.022839</td>\n",
       "      <td>1.000000</td>\n",
       "      <td>-0.526964</td>\n",
       "    </tr>\n",
       "    <tr>\n",
       "      <th>DEATH_EVENT</th>\n",
       "      <td>0.253729</td>\n",
       "      <td>0.066270</td>\n",
       "      <td>0.062728</td>\n",
       "      <td>-0.001943</td>\n",
       "      <td>-0.268603</td>\n",
       "      <td>0.079351</td>\n",
       "      <td>-0.049139</td>\n",
       "      <td>0.294278</td>\n",
       "      <td>-0.195204</td>\n",
       "      <td>-0.004316</td>\n",
       "      <td>-0.012623</td>\n",
       "      <td>-0.526964</td>\n",
       "      <td>1.000000</td>\n",
       "    </tr>\n",
       "  </tbody>\n",
       "</table>\n",
       "</div>"
      ],
      "text/plain": [
       "                               age   anaemia  creatinine_phosphokinase  \\\n",
       "age                       1.000000  0.088006                 -0.081584   \n",
       "anaemia                   0.088006  1.000000                 -0.190741   \n",
       "creatinine_phosphokinase -0.081584 -0.190741                  1.000000   \n",
       "diabetes                 -0.101012 -0.012729                 -0.009639   \n",
       "ejection_fraction         0.060098  0.031557                 -0.044080   \n",
       "high_blood_pressure       0.093289  0.038182                 -0.070590   \n",
       "platelets                -0.052354 -0.043786                  0.024463   \n",
       "serum_creatinine          0.159187  0.052174                 -0.016408   \n",
       "serum_sodium             -0.045966  0.041882                  0.059550   \n",
       "sex                       0.065430 -0.094769                  0.079791   \n",
       "smoking                   0.018668 -0.107290                  0.002421   \n",
       "time                     -0.224068 -0.141414                 -0.009346   \n",
       "DEATH_EVENT               0.253729  0.066270                  0.062728   \n",
       "\n",
       "                          diabetes  ejection_fraction  high_blood_pressure  \\\n",
       "age                      -0.101012           0.060098             0.093289   \n",
       "anaemia                  -0.012729           0.031557             0.038182   \n",
       "creatinine_phosphokinase -0.009639          -0.044080            -0.070590   \n",
       "diabetes                  1.000000          -0.004850            -0.012732   \n",
       "ejection_fraction        -0.004850           1.000000             0.024445   \n",
       "high_blood_pressure      -0.012732           0.024445             1.000000   \n",
       "platelets                 0.092193           0.072177             0.049963   \n",
       "serum_creatinine         -0.046975          -0.011302            -0.004935   \n",
       "serum_sodium             -0.089551           0.175902             0.037109   \n",
       "sex                      -0.157730          -0.148386            -0.104615   \n",
       "smoking                  -0.147173          -0.067315            -0.055711   \n",
       "time                      0.033726           0.041729            -0.196439   \n",
       "DEATH_EVENT              -0.001943          -0.268603             0.079351   \n",
       "\n",
       "                          platelets  serum_creatinine  serum_sodium       sex  \\\n",
       "age                       -0.052354          0.159187     -0.045966  0.065430   \n",
       "anaemia                   -0.043786          0.052174      0.041882 -0.094769   \n",
       "creatinine_phosphokinase   0.024463         -0.016408      0.059550  0.079791   \n",
       "diabetes                   0.092193         -0.046975     -0.089551 -0.157730   \n",
       "ejection_fraction          0.072177         -0.011302      0.175902 -0.148386   \n",
       "high_blood_pressure        0.049963         -0.004935      0.037109 -0.104615   \n",
       "platelets                  1.000000         -0.041198      0.062125 -0.125120   \n",
       "serum_creatinine          -0.041198          1.000000     -0.189095  0.006970   \n",
       "serum_sodium               0.062125         -0.189095      1.000000 -0.027566   \n",
       "sex                       -0.125120          0.006970     -0.027566  1.000000   \n",
       "smoking                    0.028234         -0.027414      0.004813  0.445892   \n",
       "time                       0.010514         -0.149315      0.087640 -0.015608   \n",
       "DEATH_EVENT               -0.049139          0.294278     -0.195204 -0.004316   \n",
       "\n",
       "                           smoking      time  DEATH_EVENT  \n",
       "age                       0.018668 -0.224068     0.253729  \n",
       "anaemia                  -0.107290 -0.141414     0.066270  \n",
       "creatinine_phosphokinase  0.002421 -0.009346     0.062728  \n",
       "diabetes                 -0.147173  0.033726    -0.001943  \n",
       "ejection_fraction        -0.067315  0.041729    -0.268603  \n",
       "high_blood_pressure      -0.055711 -0.196439     0.079351  \n",
       "platelets                 0.028234  0.010514    -0.049139  \n",
       "serum_creatinine         -0.027414 -0.149315     0.294278  \n",
       "serum_sodium              0.004813  0.087640    -0.195204  \n",
       "sex                       0.445892 -0.015608    -0.004316  \n",
       "smoking                   1.000000 -0.022839    -0.012623  \n",
       "time                     -0.022839  1.000000    -0.526964  \n",
       "DEATH_EVENT              -0.012623 -0.526964     1.000000  "
      ]
     },
     "execution_count": 8,
     "metadata": {},
     "output_type": "execute_result"
    }
   ],
   "source": [
    "df.corr()"
   ]
  },
  {
   "cell_type": "markdown",
   "metadata": {
    "id": "VCWsvRojSB11"
   },
   "source": [
    "DEATH_EVENT özniteliği ile en yüksek pozitif korelasyon sırasıyla serum_creatinine, sonra age özniteliğiyle; en yüksek negatif korelasyon sırasıyla time , sonra da ejection_fraction,serum_sodium özniteliğiyledir."
   ]
  },
  {
   "cell_type": "code",
   "execution_count": 9,
   "metadata": {
    "colab": {
     "base_uri": "https://localhost:8080/",
     "height": 389
    },
    "id": "DDXkEchQUSvf",
    "outputId": "df16060f-bd7d-4a59-aaeb-2a4b52dc1cd2"
   },
   "outputs": [
    {
     "data": {
      "image/png": "[encoded data removed]",
      "text/plain": [
       "<Figure size 432x288 with 2 Axes>"
      ]
     },
     "metadata": {
      "needs_background": "light"
     },
     "output_type": "display_data"
    }
   ],
   "source": [
    "corr = df.corr()\n",
    "sns.heatmap(corr, \n",
    "            xticklabels=corr.columns.values,\n",
    "            yticklabels=corr.columns.values);"
   ]
  },
  {
   "cell_type": "code",
   "execution_count": 10,
   "metadata": {
    "colab": {
     "base_uri": "https://localhost:8080/"
    },
    "id": "6Rg-ifKXVY98",
    "outputId": "f46ffaa7-3f1f-46b2-e179-d8a73fe2e4c2"
   },
   "outputs": [
    {
     "data": {
      "text/plain": [
       "array([0, 1], dtype=int64)"
      ]
     },
     "execution_count": 10,
     "metadata": {},
     "output_type": "execute_result"
    }
   ],
   "source": [
    "df[\"smoking\"].unique()"
   ]
  },
  {
   "cell_type": "markdown",
   "metadata": {
    "id": "UGpTq5IHGLr1"
   },
   "source": [
    "smoking özniteliği kategoriktir.\n",
    "0 = Sigara içmiyor, 1 = Sigara içiyor"
   ]
  },
  {
   "cell_type": "code",
   "execution_count": 12,
   "metadata": {
    "colab": {
     "base_uri": "https://localhost:8080/"
    },
    "id": "MoJXPROEWJqJ",
    "outputId": "a59810dc-b50c-4d40-912e-b327189b122c"
   },
   "outputs": [
    {
     "data": {
      "text/plain": [
       "array([  4,   6,   7,   8,  10,  11,  12,  13,  14,  15,  16,  20,  22,\n",
       "        23,  24,  26,  27,  28,  29,  30,  31,  32,  33,  35,  38,  40,\n",
       "        41,  42,  43,  44,  45,  50,  54,  55,  59,  60,  61,  63,  64,\n",
       "        65,  66,  67,  68,  71,  72,  73,  74,  75,  76,  77,  78,  79,\n",
       "        80,  82,  83,  85,  86,  87,  88,  90,  91,  94,  95,  96,  97,\n",
       "       100, 104, 105, 106, 107, 108, 109, 110, 111, 112, 113, 115, 117,\n",
       "       118, 119, 120, 121, 123, 126, 129, 130, 134, 135, 140, 145, 146,\n",
       "       147, 148, 150, 154, 162, 170, 171, 172, 174, 175, 180, 185, 186,\n",
       "       187, 188, 192, 193, 194, 195, 196, 197, 198, 200, 201, 205, 206,\n",
       "       207, 208, 209, 210, 211, 212, 213, 214, 215, 216, 220, 230, 231,\n",
       "       233, 235, 237, 240, 241, 244, 245, 246, 247, 250, 256, 257, 258,\n",
       "       270, 271, 278, 280, 285], dtype=int64)"
      ]
     },
     "execution_count": 12,
     "metadata": {},
     "output_type": "execute_result"
    }
   ],
   "source": [
    "df.time.unique()"
   ]
  },
  {
   "cell_type": "markdown",
   "metadata": {
    "id": "qTboXzOW0wGs"
   },
   "source": [
    "time özniteliği kategorik değildir."
   ]
  },
  {
   "cell_type": "code",
   "execution_count": 13,
   "metadata": {
    "colab": {
     "base_uri": "https://localhost:8080/"
    },
    "id": "fXg89x_zFxCO",
    "outputId": "59ef4947-8670-4681-b521-faa3d6353f87"
   },
   "outputs": [
    {
     "data": {
      "text/plain": [
       "array([0, 1], dtype=int64)"
      ]
     },
     "execution_count": 13,
     "metadata": {},
     "output_type": "execute_result"
    }
   ],
   "source": [
    "df.diabetes.unique()"
   ]
  },
  {
   "cell_type": "markdown",
   "metadata": {
    "id": "Orv9aZ9tF6ku"
   },
   "source": [
    "Diabetes özniteliği kategoriktir.\n",
    "0 = Diabetes değil , 1 = Diabetes"
   ]
  },
  {
   "cell_type": "code",
   "execution_count": 14,
   "metadata": {
    "colab": {
     "base_uri": "https://localhost:8080/"
    },
    "id": "WcchXy6vXPK-",
    "outputId": "5a8f2547-ba45-45a9-90a3-3a4f7c1c53bd"
   },
   "outputs": [
    {
     "data": {
      "text/plain": [
       "array([75.   , 55.   , 65.   , 50.   , 90.   , 60.   , 80.   , 62.   ,\n",
       "       45.   , 49.   , 82.   , 87.   , 70.   , 48.   , 68.   , 53.   ,\n",
       "       95.   , 58.   , 94.   , 85.   , 69.   , 72.   , 51.   , 57.   ,\n",
       "       42.   , 41.   , 67.   , 79.   , 59.   , 44.   , 63.   , 86.   ,\n",
       "       66.   , 43.   , 46.   , 61.   , 81.   , 52.   , 64.   , 40.   ,\n",
       "       60.667, 73.   , 77.   , 78.   , 54.   , 47.   , 56.   ])"
      ]
     },
     "execution_count": 14,
     "metadata": {},
     "output_type": "execute_result"
    }
   ],
   "source": [
    "df[\"age\"].unique()"
   ]
  },
  {
   "cell_type": "markdown",
   "metadata": {
    "id": "KKVjpZ5a9Giv"
   },
   "source": [
    "age özniteliğinde gürültülü bir veri var. Yaş değeri 60.667 olamaz."
   ]
  },
  {
   "cell_type": "code",
   "execution_count": 15,
   "metadata": {
    "colab": {
     "base_uri": "https://localhost:8080/"
    },
    "id": "5utvIA9MGwiE",
    "outputId": "bbfaa2ce-a34e-469b-ac8a-e77d95579626"
   },
   "outputs": [
    {
     "data": {
      "text/plain": [
       "array([1, 0], dtype=int64)"
      ]
     },
     "execution_count": 15,
     "metadata": {},
     "output_type": "execute_result"
    }
   ],
   "source": [
    "df[\"sex\"].unique()"
   ]
  },
  {
   "cell_type": "markdown",
   "metadata": {
    "id": "nINLQj3SG1HU"
   },
   "source": [
    "sex özniteliği kategoriktir.\n",
    "1 = Male , 0 = Female"
   ]
  },
  {
   "cell_type": "code",
   "execution_count": 16,
   "metadata": {
    "colab": {
     "base_uri": "https://localhost:8080/"
    },
    "id": "l4N0IdqTI0Tj",
    "outputId": "99c1064a-bc2c-43ba-8f15-909790f5d014"
   },
   "outputs": [
    {
     "data": {
      "text/plain": [
       "array([0, 1], dtype=int64)"
      ]
     },
     "execution_count": 16,
     "metadata": {},
     "output_type": "execute_result"
    }
   ],
   "source": [
    "df[\"anaemia\"].unique()"
   ]
  },
  {
   "cell_type": "markdown",
   "metadata": {
    "id": "GYvWhqg-JnaA"
   },
   "source": [
    "anaemia özniteliği de kategoriktir. 0 = Anaemia değil, 1 = Anaemia"
   ]
  },
  {
   "cell_type": "code",
   "execution_count": 17,
   "metadata": {
    "colab": {
     "base_uri": "https://localhost:8080/"
    },
    "id": "f-vwMjbdJFpU",
    "outputId": "1ef8ab83-b625-468d-83a8-def37fb26ddc"
   },
   "outputs": [
    {
     "data": {
      "text/plain": [
       "array([1, 0], dtype=int64)"
      ]
     },
     "execution_count": 17,
     "metadata": {},
     "output_type": "execute_result"
    }
   ],
   "source": [
    "df[\"high_blood_pressure\"].unique()"
   ]
  },
  {
   "cell_type": "markdown",
   "metadata": {
    "id": "y0dPgykuKlUQ"
   },
   "source": [
    "high_blood_pressure özniteliği de kategoriktir.\n",
    "1 = Yüksek tansiyonlu 0 = Değil\n"
   ]
  },
  {
   "cell_type": "markdown",
   "metadata": {
    "id": "gpjW9ClvG9dL"
   },
   "source": [
    "Kategorik değişkenlerin hedef değişkene göre ilişkilerini araştıralım."
   ]
  },
  {
   "cell_type": "code",
   "execution_count": 18,
   "metadata": {
    "colab": {
     "base_uri": "https://localhost:8080/",
     "height": 142
    },
    "id": "hLAdUcIeE6Nt",
    "outputId": "e02eda7e-c310-4cc6-da49-f9968dbd297d"
   },
   "outputs": [
    {
     "data": {
      "text/html": [
       "<div>\n",
       "<style scoped>\n",
       "    .dataframe tbody tr th:only-of-type {\n",
       "        vertical-align: middle;\n",
       "    }\n",
       "\n",
       "    .dataframe tbody tr th {\n",
       "        vertical-align: top;\n",
       "    }\n",
       "\n",
       "    .dataframe thead th {\n",
       "        text-align: right;\n",
       "    }\n",
       "</style>\n",
       "<table border=\"1\" class=\"dataframe\">\n",
       "  <thead>\n",
       "    <tr style=\"text-align: right;\">\n",
       "      <th></th>\n",
       "      <th>count</th>\n",
       "      <th>mean</th>\n",
       "      <th>std</th>\n",
       "      <th>min</th>\n",
       "      <th>25%</th>\n",
       "      <th>50%</th>\n",
       "      <th>75%</th>\n",
       "      <th>max</th>\n",
       "    </tr>\n",
       "    <tr>\n",
       "      <th>sex</th>\n",
       "      <th></th>\n",
       "      <th></th>\n",
       "      <th></th>\n",
       "      <th></th>\n",
       "      <th></th>\n",
       "      <th></th>\n",
       "      <th></th>\n",
       "      <th></th>\n",
       "    </tr>\n",
       "  </thead>\n",
       "  <tbody>\n",
       "    <tr>\n",
       "      <th>0</th>\n",
       "      <td>105.0</td>\n",
       "      <td>0.323810</td>\n",
       "      <td>0.470173</td>\n",
       "      <td>0.0</td>\n",
       "      <td>0.0</td>\n",
       "      <td>0.0</td>\n",
       "      <td>1.0</td>\n",
       "      <td>1.0</td>\n",
       "    </tr>\n",
       "    <tr>\n",
       "      <th>1</th>\n",
       "      <td>194.0</td>\n",
       "      <td>0.319588</td>\n",
       "      <td>0.467523</td>\n",
       "      <td>0.0</td>\n",
       "      <td>0.0</td>\n",
       "      <td>0.0</td>\n",
       "      <td>1.0</td>\n",
       "      <td>1.0</td>\n",
       "    </tr>\n",
       "  </tbody>\n",
       "</table>\n",
       "</div>"
      ],
      "text/plain": [
       "     count      mean       std  min  25%  50%  75%  max\n",
       "sex                                                    \n",
       "0    105.0  0.323810  0.470173  0.0  0.0  0.0  1.0  1.0\n",
       "1    194.0  0.319588  0.467523  0.0  0.0  0.0  1.0  1.0"
      ]
     },
     "execution_count": 18,
     "metadata": {},
     "output_type": "execute_result"
    }
   ],
   "source": [
    "df.groupby([\"sex\"]).describe()[\"DEATH_EVENT\"]"
   ]
  },
  {
   "cell_type": "markdown",
   "metadata": {
    "id": "J3ComnT-HVW-"
   },
   "source": [
    "Male = 1 , Female = 0 \n"
   ]
  },
  {
   "cell_type": "code",
   "execution_count": 19,
   "metadata": {
    "colab": {
     "base_uri": "https://localhost:8080/",
     "height": 142
    },
    "id": "wbbjNIkiFBGl",
    "outputId": "e771cf7e-5432-4252-9fd1-3322e388e8da"
   },
   "outputs": [
    {
     "data": {
      "text/html": [
       "<div>\n",
       "<style scoped>\n",
       "    .dataframe tbody tr th:only-of-type {\n",
       "        vertical-align: middle;\n",
       "    }\n",
       "\n",
       "    .dataframe tbody tr th {\n",
       "        vertical-align: top;\n",
       "    }\n",
       "\n",
       "    .dataframe thead th {\n",
       "        text-align: right;\n",
       "    }\n",
       "</style>\n",
       "<table border=\"1\" class=\"dataframe\">\n",
       "  <thead>\n",
       "    <tr style=\"text-align: right;\">\n",
       "      <th></th>\n",
       "      <th>count</th>\n",
       "      <th>mean</th>\n",
       "      <th>std</th>\n",
       "      <th>min</th>\n",
       "      <th>25%</th>\n",
       "      <th>50%</th>\n",
       "      <th>75%</th>\n",
       "      <th>max</th>\n",
       "    </tr>\n",
       "    <tr>\n",
       "      <th>smoking</th>\n",
       "      <th></th>\n",
       "      <th></th>\n",
       "      <th></th>\n",
       "      <th></th>\n",
       "      <th></th>\n",
       "      <th></th>\n",
       "      <th></th>\n",
       "      <th></th>\n",
       "    </tr>\n",
       "  </thead>\n",
       "  <tbody>\n",
       "    <tr>\n",
       "      <th>0</th>\n",
       "      <td>203.0</td>\n",
       "      <td>0.325123</td>\n",
       "      <td>0.469579</td>\n",
       "      <td>0.0</td>\n",
       "      <td>0.0</td>\n",
       "      <td>0.0</td>\n",
       "      <td>1.0</td>\n",
       "      <td>1.0</td>\n",
       "    </tr>\n",
       "    <tr>\n",
       "      <th>1</th>\n",
       "      <td>96.0</td>\n",
       "      <td>0.312500</td>\n",
       "      <td>0.465946</td>\n",
       "      <td>0.0</td>\n",
       "      <td>0.0</td>\n",
       "      <td>0.0</td>\n",
       "      <td>1.0</td>\n",
       "      <td>1.0</td>\n",
       "    </tr>\n",
       "  </tbody>\n",
       "</table>\n",
       "</div>"
      ],
      "text/plain": [
       "         count      mean       std  min  25%  50%  75%  max\n",
       "smoking                                                    \n",
       "0        203.0  0.325123  0.469579  0.0  0.0  0.0  1.0  1.0\n",
       "1         96.0  0.312500  0.465946  0.0  0.0  0.0  1.0  1.0"
      ]
     },
     "execution_count": 19,
     "metadata": {},
     "output_type": "execute_result"
    }
   ],
   "source": [
    "df.groupby([\"smoking\"]).describe()[\"DEATH_EVENT\"]"
   ]
  },
  {
   "cell_type": "code",
   "execution_count": 20,
   "metadata": {
    "colab": {
     "base_uri": "https://localhost:8080/",
     "height": 142
    },
    "id": "fstS1SbMFpe2",
    "outputId": "de98f972-3ac2-4114-a065-17820f4e759f"
   },
   "outputs": [
    {
     "data": {
      "text/html": [
       "<div>\n",
       "<style scoped>\n",
       "    .dataframe tbody tr th:only-of-type {\n",
       "        vertical-align: middle;\n",
       "    }\n",
       "\n",
       "    .dataframe tbody tr th {\n",
       "        vertical-align: top;\n",
       "    }\n",
       "\n",
       "    .dataframe thead th {\n",
       "        text-align: right;\n",
       "    }\n",
       "</style>\n",
       "<table border=\"1\" class=\"dataframe\">\n",
       "  <thead>\n",
       "    <tr style=\"text-align: right;\">\n",
       "      <th></th>\n",
       "      <th>count</th>\n",
       "      <th>mean</th>\n",
       "      <th>std</th>\n",
       "      <th>min</th>\n",
       "      <th>25%</th>\n",
       "      <th>50%</th>\n",
       "      <th>75%</th>\n",
       "      <th>max</th>\n",
       "    </tr>\n",
       "    <tr>\n",
       "      <th>diabetes</th>\n",
       "      <th></th>\n",
       "      <th></th>\n",
       "      <th></th>\n",
       "      <th></th>\n",
       "      <th></th>\n",
       "      <th></th>\n",
       "      <th></th>\n",
       "      <th></th>\n",
       "    </tr>\n",
       "  </thead>\n",
       "  <tbody>\n",
       "    <tr>\n",
       "      <th>0</th>\n",
       "      <td>174.0</td>\n",
       "      <td>0.321839</td>\n",
       "      <td>0.468530</td>\n",
       "      <td>0.0</td>\n",
       "      <td>0.0</td>\n",
       "      <td>0.0</td>\n",
       "      <td>1.0</td>\n",
       "      <td>1.0</td>\n",
       "    </tr>\n",
       "    <tr>\n",
       "      <th>1</th>\n",
       "      <td>125.0</td>\n",
       "      <td>0.320000</td>\n",
       "      <td>0.468353</td>\n",
       "      <td>0.0</td>\n",
       "      <td>0.0</td>\n",
       "      <td>0.0</td>\n",
       "      <td>1.0</td>\n",
       "      <td>1.0</td>\n",
       "    </tr>\n",
       "  </tbody>\n",
       "</table>\n",
       "</div>"
      ],
      "text/plain": [
       "          count      mean       std  min  25%  50%  75%  max\n",
       "diabetes                                                    \n",
       "0         174.0  0.321839  0.468530  0.0  0.0  0.0  1.0  1.0\n",
       "1         125.0  0.320000  0.468353  0.0  0.0  0.0  1.0  1.0"
      ]
     },
     "execution_count": 20,
     "metadata": {},
     "output_type": "execute_result"
    }
   ],
   "source": [
    "df.groupby([\"diabetes\"]).describe()[\"DEATH_EVENT\"]"
   ]
  },
  {
   "cell_type": "markdown",
   "metadata": {
    "id": "CPyj-1dy4-QF"
   },
   "source": [
    "### Genel Dağılımlar"
   ]
  },
  {
   "cell_type": "code",
   "execution_count": 21,
   "metadata": {
    "colab": {
     "base_uri": "https://localhost:8080/",
     "height": 333
    },
    "id": "QlrXvvCR2FfM",
    "outputId": "9aa5dc3e-28da-467a-88a7-1687a5d92360"
   },
   "outputs": [
    {
     "name": "stderr",
     "output_type": "stream",
     "text": [
      "C:\\Users\\asus\\anaconda3\\lib\\site-packages\\seaborn\\distributions.py:2619: FutureWarning: `distplot` is a deprecated function and will be removed in a future version. Please adapt your code to use either `displot` (a figure-level function with similar flexibility) or `histplot` (an axes-level function for histograms).\n",
      "  warnings.warn(msg, FutureWarning)\n"
     ]
    },
    {
     "data": {
      "image/png": "[encoded data removed]",
      "text/plain": [
       "<Figure size 432x288 with 1 Axes>"
      ]
     },
     "metadata": {
      "needs_background": "light"
     },
     "output_type": "display_data"
    }
   ],
   "source": [
    "sns.distplot(df[\"time\"], bins=16, color=\"purple\");"
   ]
  },
  {
   "cell_type": "code",
   "execution_count": 22,
   "metadata": {
    "colab": {
     "base_uri": "https://localhost:8080/"
    },
    "id": "xmqHM-V2P7GG",
    "outputId": "761c3d76-c76a-455a-9260-f3b48fdee1f6"
   },
   "outputs": [
    {
     "data": {
      "text/plain": [
       "0    187\n",
       "1    250\n",
       "dtype: int64"
      ]
     },
     "execution_count": 22,
     "metadata": {},
     "output_type": "execute_result"
    }
   ],
   "source": [
    "df[\"time\"].mode()"
   ]
  },
  {
   "cell_type": "code",
   "execution_count": 23,
   "metadata": {
    "colab": {
     "base_uri": "https://localhost:8080/",
     "height": 333
    },
    "id": "pvQ5u--2Bes1",
    "outputId": "99b896ed-1e6d-4902-dd51-1d7d093e068d"
   },
   "outputs": [
    {
     "name": "stderr",
     "output_type": "stream",
     "text": [
      "C:\\Users\\asus\\anaconda3\\lib\\site-packages\\seaborn\\distributions.py:2619: FutureWarning: `distplot` is a deprecated function and will be removed in a future version. Please adapt your code to use either `displot` (a figure-level function with similar flexibility) or `histplot` (an axes-level function for histograms).\n",
      "  warnings.warn(msg, FutureWarning)\n"
     ]
    },
    {
     "data": {
      "image/png": "[encoded data removed]",
      "text/plain": [
       "<Figure size 432x288 with 1 Axes>"
      ]
     },
     "metadata": {
      "needs_background": "light"
     },
     "output_type": "display_data"
    }
   ],
   "source": [
    "sns.distplot(df[\"age\"], bins=20, color=\"green\");"
   ]
  },
  {
   "cell_type": "code",
   "execution_count": 24,
   "metadata": {
    "colab": {
     "base_uri": "https://localhost:8080/"
    },
    "id": "lcdX5b3UQI7T",
    "outputId": "3ead99b2-7cad-4ac1-d45c-3d5f30cef9b9"
   },
   "outputs": [
    {
     "data": {
      "text/plain": [
       "0    60.0\n",
       "dtype: float64"
      ]
     },
     "execution_count": 24,
     "metadata": {},
     "output_type": "execute_result"
    }
   ],
   "source": [
    "df[\"age\"].mode()"
   ]
  },
  {
   "cell_type": "code",
   "execution_count": 25,
   "metadata": {
    "colab": {
     "base_uri": "https://localhost:8080/"
    },
    "id": "Q3Nuu0IhNF21",
    "outputId": "6a4831e9-14b9-4fbf-9e78-2e2ff68835bb"
   },
   "outputs": [
    {
     "name": "stdout",
     "output_type": "stream",
     "text": [
      "<class 'pandas.core.frame.DataFrame'>\n",
      "RangeIndex: 299 entries, 0 to 298\n",
      "Data columns (total 13 columns):\n",
      " #   Column                    Non-Null Count  Dtype  \n",
      "---  ------                    --------------  -----  \n",
      " 0   age                       299 non-null    float64\n",
      " 1   anaemia                   299 non-null    int64  \n",
      " 2   creatinine_phosphokinase  299 non-null    int64  \n",
      " 3   diabetes                  299 non-null    int64  \n",
      " 4   ejection_fraction         299 non-null    int64  \n",
      " 5   high_blood_pressure       299 non-null    int64  \n",
      " 6   platelets                 299 non-null    float64\n",
      " 7   serum_creatinine          299 non-null    float64\n",
      " 8   serum_sodium              299 non-null    int64  \n",
      " 9   sex                       299 non-null    int64  \n",
      " 10  smoking                   299 non-null    int64  \n",
      " 11  time                      299 non-null    int64  \n",
      " 12  DEATH_EVENT               299 non-null    int64  \n",
      "dtypes: float64(3), int64(10)\n",
      "memory usage: 30.5 KB\n"
     ]
    }
   ],
   "source": [
    "df.info()"
   ]
  },
  {
   "cell_type": "code",
   "execution_count": 26,
   "metadata": {
    "colab": {
     "base_uri": "https://localhost:8080/",
     "height": 334
    },
    "id": "eoviGZOlCu0k",
    "outputId": "e161853a-d272-41f5-d7a2-b70bf55921bd"
   },
   "outputs": [
    {
     "name": "stderr",
     "output_type": "stream",
     "text": [
      "C:\\Users\\asus\\anaconda3\\lib\\site-packages\\seaborn\\distributions.py:2619: FutureWarning: `distplot` is a deprecated function and will be removed in a future version. Please adapt your code to use either `displot` (a figure-level function with similar flexibility) or `histplot` (an axes-level function for histograms).\n",
      "  warnings.warn(msg, FutureWarning)\n"
     ]
    },
    {
     "data": {
      "image/png": "[encoded data removed]",
      "text/plain": [
       "<Figure size 432x288 with 1 Axes>"
      ]
     },
     "metadata": {
      "needs_background": "light"
     },
     "output_type": "display_data"
    }
   ],
   "source": [
    "sns.distplot(df[\"serum_creatinine\"], bins=16, color=\"orange\");"
   ]
  },
  {
   "cell_type": "code",
   "execution_count": 27,
   "metadata": {
    "colab": {
     "base_uri": "https://localhost:8080/"
    },
    "id": "nXCSEgwYOzEh",
    "outputId": "a5d1562b-337b-49e3-a492-0d521dbe99a4"
   },
   "outputs": [
    {
     "data": {
      "text/plain": [
       "0    1.0\n",
       "dtype: float64"
      ]
     },
     "execution_count": 27,
     "metadata": {},
     "output_type": "execute_result"
    }
   ],
   "source": [
    "df[\"serum_creatinine\"].mode()"
   ]
  },
  {
   "cell_type": "code",
   "execution_count": 28,
   "metadata": {
    "colab": {
     "base_uri": "https://localhost:8080/",
     "height": 334
    },
    "id": "z8RT3Q4BNTP8",
    "outputId": "471e6454-7262-4b14-902d-fc31e712c6fb"
   },
   "outputs": [
    {
     "name": "stderr",
     "output_type": "stream",
     "text": [
      "C:\\Users\\asus\\anaconda3\\lib\\site-packages\\seaborn\\distributions.py:2619: FutureWarning: `distplot` is a deprecated function and will be removed in a future version. Please adapt your code to use either `displot` (a figure-level function with similar flexibility) or `histplot` (an axes-level function for histograms).\n",
      "  warnings.warn(msg, FutureWarning)\n"
     ]
    },
    {
     "data": {
      "image/png": "[encoded data removed]",
      "text/plain": [
       "<Figure size 432x288 with 1 Axes>"
      ]
     },
     "metadata": {
      "needs_background": "light"
     },
     "output_type": "display_data"
    }
   ],
   "source": [
    "sns.distplot(df[\"serum_sodium\"], bins=16, color=\"orange\");"
   ]
  },
  {
   "cell_type": "code",
   "execution_count": 29,
   "metadata": {
    "colab": {
     "base_uri": "https://localhost:8080/"
    },
    "id": "vMqpOAEQOrhD",
    "outputId": "c739357c-3f7f-467e-adcf-c826afe3dde8"
   },
   "outputs": [
    {
     "data": {
      "text/plain": [
       "0    136\n",
       "dtype: int64"
      ]
     },
     "execution_count": 29,
     "metadata": {},
     "output_type": "execute_result"
    }
   ],
   "source": [
    "df[\"serum_sodium\"].mode()"
   ]
  },
  {
   "cell_type": "code",
   "execution_count": 30,
   "metadata": {
    "colab": {
     "base_uri": "https://localhost:8080/",
     "height": 344
    },
    "id": "lD247hAeNjx4",
    "outputId": "eb44afeb-4f35-4658-fa73-7ef16d80ca10"
   },
   "outputs": [
    {
     "name": "stderr",
     "output_type": "stream",
     "text": [
      "C:\\Users\\asus\\anaconda3\\lib\\site-packages\\seaborn\\distributions.py:2619: FutureWarning: `distplot` is a deprecated function and will be removed in a future version. Please adapt your code to use either `displot` (a figure-level function with similar flexibility) or `histplot` (an axes-level function for histograms).\n",
      "  warnings.warn(msg, FutureWarning)\n"
     ]
    },
    {
     "data": {
      "image/png": "[encoded data removed]",
      "text/plain": [
       "<Figure size 432x288 with 1 Axes>"
      ]
     },
     "metadata": {
      "needs_background": "light"
     },
     "output_type": "display_data"
    }
   ],
   "source": [
    "sns.distplot(df[\"platelets\"], bins = 16, color = \"pink\");"
   ]
  },
  {
   "cell_type": "code",
   "execution_count": 31,
   "metadata": {
    "colab": {
     "base_uri": "https://localhost:8080/"
    },
    "id": "oj04vzRnNjtj",
    "outputId": "d530c7ea-440d-47fd-c729-7b941d2125d3"
   },
   "outputs": [
    {
     "data": {
      "text/plain": [
       "0    263358.03\n",
       "dtype: float64"
      ]
     },
     "execution_count": 31,
     "metadata": {},
     "output_type": "execute_result"
    }
   ],
   "source": [
    "df[\"platelets\"].mode()"
   ]
  },
  {
   "cell_type": "code",
   "execution_count": 32,
   "metadata": {
    "colab": {
     "base_uri": "https://localhost:8080/",
     "height": 334
    },
    "id": "rsS1V9UcNjob",
    "outputId": "d41d10e5-168d-4bd4-e579-aa03f049ff6f"
   },
   "outputs": [
    {
     "name": "stderr",
     "output_type": "stream",
     "text": [
      "C:\\Users\\asus\\anaconda3\\lib\\site-packages\\seaborn\\distributions.py:2619: FutureWarning: `distplot` is a deprecated function and will be removed in a future version. Please adapt your code to use either `displot` (a figure-level function with similar flexibility) or `histplot` (an axes-level function for histograms).\n",
      "  warnings.warn(msg, FutureWarning)\n"
     ]
    },
    {
     "data": {
      "image/png": "[encoded data removed]",
      "text/plain": [
       "<Figure size 432x288 with 1 Axes>"
      ]
     },
     "metadata": {
      "needs_background": "light"
     },
     "output_type": "display_data"
    }
   ],
   "source": [
    "sns.distplot(df[\"creatinine_phosphokinase\"], bins = 16, color = \"purple\");"
   ]
  },
  {
   "cell_type": "code",
   "execution_count": 33,
   "metadata": {
    "colab": {
     "base_uri": "https://localhost:8080/"
    },
    "id": "qC64e58BQ1lg",
    "outputId": "8e7f4d85-a55a-4f90-cbdf-0111a6d6ee52"
   },
   "outputs": [
    {
     "data": {
      "text/plain": [
       "0    582\n",
       "dtype: int64"
      ]
     },
     "execution_count": 33,
     "metadata": {},
     "output_type": "execute_result"
    }
   ],
   "source": [
    "df[\"creatinine_phosphokinase\"].mode()"
   ]
  },
  {
   "cell_type": "code",
   "execution_count": 34,
   "metadata": {
    "colab": {
     "base_uri": "https://localhost:8080/",
     "height": 334
    },
    "id": "D5KClOb9RKql",
    "outputId": "bed728aa-83d2-41cf-880f-94fa13fd2155"
   },
   "outputs": [
    {
     "name": "stderr",
     "output_type": "stream",
     "text": [
      "C:\\Users\\asus\\anaconda3\\lib\\site-packages\\seaborn\\distributions.py:2619: FutureWarning: `distplot` is a deprecated function and will be removed in a future version. Please adapt your code to use either `displot` (a figure-level function with similar flexibility) or `histplot` (an axes-level function for histograms).\n",
      "  warnings.warn(msg, FutureWarning)\n"
     ]
    },
    {
     "data": {
      "image/png": "[encoded data removed]",
      "text/plain": [
       "<Figure size 432x288 with 1 Axes>"
      ]
     },
     "metadata": {
      "needs_background": "light"
     },
     "output_type": "display_data"
    }
   ],
   "source": [
    "sns.distplot(df[\"ejection_fraction\"], bins = 16, color = \"purple\");"
   ]
  },
  {
   "cell_type": "code",
   "execution_count": 35,
   "metadata": {
    "colab": {
     "base_uri": "https://localhost:8080/"
    },
    "id": "wDbGXxOU13S5",
    "outputId": "1281554f-f0d2-47bf-84d1-a76b0eb33fbc"
   },
   "outputs": [
    {
     "data": {
      "text/plain": [
       "0    35\n",
       "dtype: int64"
      ]
     },
     "execution_count": 35,
     "metadata": {},
     "output_type": "execute_result"
    }
   ],
   "source": [
    "df[\"ejection_fraction\"].mode()"
   ]
  },
  {
   "cell_type": "code",
   "execution_count": 36,
   "metadata": {
    "colab": {
     "base_uri": "https://localhost:8080/",
     "height": 279
    },
    "id": "zgKrDBqbBeoN",
    "outputId": "b5f6f389-dab4-4d71-f1a3-4d91402be9e7"
   },
   "outputs": [
    {
     "data": {
      "image/png": "[encoded data removed]",
      "text/plain": [
       "<Figure size 432x288 with 1 Axes>"
      ]
     },
     "metadata": {
      "needs_background": "light"
     },
     "output_type": "display_data"
    }
   ],
   "source": [
    "sns.countplot(x = \"sex\", data = df);"
   ]
  },
  {
   "cell_type": "markdown",
   "metadata": {
    "id": "iLPJRACnMr6W"
   },
   "source": [
    "Veri setinde erkekler kadınlara göre daha fazladır."
   ]
  },
  {
   "cell_type": "code",
   "execution_count": 37,
   "metadata": {
    "colab": {
     "base_uri": "https://localhost:8080/",
     "height": 279
    },
    "id": "EY79WGcM2kNs",
    "outputId": "de5e9ba6-c56d-48a8-dc0b-bd214dd8a4e1"
   },
   "outputs": [
    {
     "data": {
      "image/png": "[encoded data removed]",
      "text/plain": [
       "<Figure size 432x288 with 1 Axes>"
      ]
     },
     "metadata": {
      "needs_background": "light"
     },
     "output_type": "display_data"
    }
   ],
   "source": [
    "sns.countplot(x = \"smoking\" , data = df);"
   ]
  },
  {
   "cell_type": "markdown",
   "metadata": {
    "id": "aRCGwsSY2siU"
   },
   "source": [
    "Veri setinde sigara içmeyen sayısı daha fazladır."
   ]
  },
  {
   "cell_type": "code",
   "execution_count": 38,
   "metadata": {
    "colab": {
     "base_uri": "https://localhost:8080/",
     "height": 279
    },
    "id": "92Nhu2OK252j",
    "outputId": "02b0ef26-7ccf-4471-b799-c5c5a6fa42fd"
   },
   "outputs": [
    {
     "data": {
      "image/png": "[encoded data removed]",
      "text/plain": [
       "<Figure size 432x288 with 1 Axes>"
      ]
     },
     "metadata": {
      "needs_background": "light"
     },
     "output_type": "display_data"
    }
   ],
   "source": [
    "sns.countplot(x = \"diabetes\", data = df );"
   ]
  },
  {
   "cell_type": "markdown",
   "metadata": {
    "id": "Y6OCY29a3OFp"
   },
   "source": [
    "Diabetes olmayan sayısı daha fazladır."
   ]
  },
  {
   "cell_type": "code",
   "execution_count": 39,
   "metadata": {
    "colab": {
     "base_uri": "https://localhost:8080/",
     "height": 280
    },
    "id": "M_csYHxL25pu",
    "outputId": "7fdf2c14-d30f-486d-891d-7a7475b3e84f"
   },
   "outputs": [
    {
     "data": {
      "image/png": "[encoded data removed]",
      "text/plain": [
       "<Figure size 432x288 with 1 Axes>"
      ]
     },
     "metadata": {
      "needs_background": "light"
     },
     "output_type": "display_data"
    }
   ],
   "source": [
    "sns.countplot( x = \"DEATH_EVENT\", data = df);"
   ]
  },
  {
   "cell_type": "code",
   "execution_count": 40,
   "metadata": {
    "colab": {
     "base_uri": "https://localhost:8080/",
     "height": 280
    },
    "id": "uZMrHRjF3kH2",
    "outputId": "a028d75d-4591-442f-e3c1-bbaef2f04074"
   },
   "outputs": [
    {
     "data": {
      "image/png": "[encoded data removed]",
      "text/plain": [
       "<Figure size 432x288 with 1 Axes>"
      ]
     },
     "metadata": {
      "needs_background": "light"
     },
     "output_type": "display_data"
    }
   ],
   "source": [
    "sns.countplot(x = \"high_blood_pressure\", data = df);"
   ]
  },
  {
   "cell_type": "code",
   "execution_count": 41,
   "metadata": {
    "colab": {
     "base_uri": "https://localhost:8080/",
     "height": 279
    },
    "id": "jPZepZW-5OLX",
    "outputId": "4286b3b3-4dde-4c40-e1de-6409c68006af"
   },
   "outputs": [
    {
     "data": {
      "image/png": "[encoded data removed]",
      "text/plain": [
       "<Figure size 432x288 with 1 Axes>"
      ]
     },
     "metadata": {
      "needs_background": "light"
     },
     "output_type": "display_data"
    }
   ],
   "source": [
    "sns.countplot(x = \"anaemia\", data = df);"
   ]
  },
  {
   "cell_type": "code",
   "execution_count": 42,
   "metadata": {
    "colab": {
     "base_uri": "https://localhost:8080/",
     "height": 279
    },
    "id": "NJ96QdbhBej1",
    "outputId": "ff85a2bc-a028-4107-a9fe-229163eb4ade"
   },
   "outputs": [
    {
     "data": {
      "image/png": "[encoded data removed]",
      "text/plain": [
       "<Figure size 432x288 with 1 Axes>"
      ]
     },
     "metadata": {
      "needs_background": "light"
     },
     "output_type": "display_data"
    }
   ],
   "source": [
    "sns.barplot(x = \"smoking\", y = \"DEATH_EVENT\", data = df);"
   ]
  },
  {
   "cell_type": "code",
   "execution_count": null,
   "metadata": {
    "colab": {
     "base_uri": "https://localhost:8080/",
     "height": 279
    },
    "id": "jzzZaKVp2Fb7",
    "outputId": "7817c994-2d19-49cc-fc23-94ca859a5d8a"
   },
   "outputs": [
    {
     "data": {
      "image/png": "[encoded data removed]",
      "text/plain": [
       "<Figure size 432x288 with 1 Axes>"
      ]
     },
     "metadata": {
      "needs_background": "light"
     },
     "output_type": "display_data"
    }
   ],
   "source": [
    "sns.barplot(x =\"sex\" , y = \"DEATH_EVENT\" , data = df);"
   ]
  },
  {
   "cell_type": "code",
   "execution_count": null,
   "metadata": {
    "colab": {
     "base_uri": "https://localhost:8080/",
     "height": 279
    },
    "id": "6ezsIzUx2FYy",
    "outputId": "8e1cc7bc-43f5-4591-a68c-a163ee3b56ba"
   },
   "outputs": [
    {
     "data": {
      "image/png": "[encoded data removed]",
      "text/plain": [
       "<Figure size 432x288 with 1 Axes>"
      ]
     },
     "metadata": {
      "needs_background": "light"
     },
     "output_type": "display_data"
    }
   ],
   "source": [
    "sns.violinplot(x = \"smoking\", y = \"DEATH_EVENT\", data = df);"
   ]
  },
  {
   "cell_type": "markdown",
   "metadata": {
    "id": "HECAFaoDARQB"
   },
   "source": [
    "Sigara içmeyen kişilerde ölmeyen sayısı daha çok, ölen sayısı ona göre daha azdır. Sigara içenlerde de kendi içinde ölenlerin sayısı daha az, ölmeyenlerin sayısı daha çok.  "
   ]
  },
  {
   "cell_type": "code",
   "execution_count": null,
   "metadata": {
    "colab": {
     "base_uri": "https://localhost:8080/",
     "height": 279
    },
    "id": "7eWS1_PM2FUD",
    "outputId": "3d972303-c442-47b5-cf0b-69530b995528"
   },
   "outputs": [
    {
     "data": {
      "image/png": "[encoded data removed]",
      "text/plain": [
       "<Figure size 432x288 with 1 Axes>"
      ]
     },
     "metadata": {
      "needs_background": "light"
     },
     "output_type": "display_data"
    }
   ],
   "source": [
    "sns.violinplot(x = \"sex\", y = \"DEATH_EVENT\", data = df);"
   ]
  },
  {
   "cell_type": "markdown",
   "metadata": {
    "id": "CuekuN368wlE"
   },
   "source": [
    "Erkeklerde ölüm daha fazla olmuştur."
   ]
  },
  {
   "cell_type": "code",
   "execution_count": null,
   "metadata": {
    "colab": {
     "base_uri": "https://localhost:8080/",
     "height": 279
    },
    "id": "xUCFw1Ug2FQk",
    "outputId": "49b78614-6887-4d52-be4b-bad6feb7f710"
   },
   "outputs": [
    {
     "data": {
      "image/png": "[encoded data removed]",
      "text/plain": [
       "<Figure size 432x288 with 1 Axes>"
      ]
     },
     "metadata": {
      "needs_background": "light"
     },
     "output_type": "display_data"
    }
   ],
   "source": [
    "sns.violinplot(x = \"diabetes\", y = \"DEATH_EVENT\", data = df);"
   ]
  },
  {
   "cell_type": "markdown",
   "metadata": {
    "id": "NwxrdlZt9m4u"
   },
   "source": []
  },
  {
   "cell_type": "code",
   "execution_count": null,
   "metadata": {
    "colab": {
     "base_uri": "https://localhost:8080/",
     "height": 457
    },
    "id": "h49ou24p9jlV",
    "outputId": "f3020264-6fce-45e5-c791-a7ee476c195c"
   },
   "outputs": [
    {
     "name": "stderr",
     "output_type": "stream",
     "text": [
      "/usr/local/lib/python3.7/dist-packages/seaborn/categorical.py:3717: UserWarning: The `factorplot` function has been renamed to `catplot`. The original name will be removed in a future release. Please update your code. Note that the default `kind` in `factorplot` (`'point'`) has changed `'strip'` in `catplot`.\n",
      "  warnings.warn(msg)\n",
      "/usr/local/lib/python3.7/dist-packages/seaborn/_decorators.py:43: FutureWarning: Pass the following variables as keyword args: x, y. From version 0.12, the only valid positional argument will be `data`, and passing other arguments without an explicit keyword will result in an error or misinterpretation.\n",
      "  FutureWarning\n"
     ]
    },
    {
     "data": {
      "image/png": "[encoded data removed]",
      "text/plain": [
       "<Figure size 360x360 with 1 Axes>"
      ]
     },
     "metadata": {
      "needs_background": "light"
     },
     "output_type": "display_data"
    }
   ],
   "source": [
    "sns.factorplot(\"smoking\", \"DEATH_EVENT\", data = df, kind = \"bar\");"
   ]
  },
  {
   "cell_type": "code",
   "execution_count": null,
   "metadata": {
    "colab": {
     "base_uri": "https://localhost:8080/",
     "height": 457
    },
    "id": "pcniTqm-2FL-",
    "outputId": "6fb595f8-4a53-453f-a4d4-115b1bc84be9"
   },
   "outputs": [
    {
     "name": "stderr",
     "output_type": "stream",
     "text": [
      "/usr/local/lib/python3.7/dist-packages/seaborn/categorical.py:3717: UserWarning: The `factorplot` function has been renamed to `catplot`. The original name will be removed in a future release. Please update your code. Note that the default `kind` in `factorplot` (`'point'`) has changed `'strip'` in `catplot`.\n",
      "  warnings.warn(msg)\n",
      "/usr/local/lib/python3.7/dist-packages/seaborn/_decorators.py:43: FutureWarning: Pass the following variables as keyword args: x, y, hue. From version 0.12, the only valid positional argument will be `data`, and passing other arguments without an explicit keyword will result in an error or misinterpretation.\n",
      "  FutureWarning\n"
     ]
    },
    {
     "data": {
      "image/png": "[encoded data removed]",
      "text/plain": [
       "<Figure size 410.25x360 with 1 Axes>"
      ]
     },
     "metadata": {
      "needs_background": "light"
     },
     "output_type": "display_data"
    }
   ],
   "source": [
    "sns.factorplot(\"sex\", \"DEATH_EVENT\", \"smoking\", data = df, kind = \"bar\");"
   ]
  },
  {
   "cell_type": "markdown",
   "metadata": {
    "id": "AUBggJv38Jks"
   },
   "source": [
    "Kadınlarda sigara içenlerde ölüm oranı daha fazladır.Erkeklerde eşit dağılmış gibi görünüyor."
   ]
  },
  {
   "cell_type": "code",
   "execution_count": null,
   "metadata": {
    "id": "GpD3vexL2FH0"
   },
   "outputs": [],
   "source": [
    "#df.pivot_table(\"YasiyorMu\", [\"Cinsiyet\", yas], \"YolcuSinifi\")"
   ]
  },
  {
   "cell_type": "code",
   "execution_count": null,
   "metadata": {
    "colab": {
     "base_uri": "https://localhost:8080/",
     "height": 279
    },
    "id": "gs0AxUU82FEL",
    "outputId": "30621111-c016-4993-ce95-129437934e84"
   },
   "outputs": [
    {
     "data": {
      "image/png": "[encoded data removed]",
      "text/plain": [
       "<Figure size 432x288 with 1 Axes>"
      ]
     },
     "metadata": {
      "needs_background": "light"
     },
     "output_type": "display_data"
    }
   ],
   "source": [
    "sns.violinplot(x = \"sex\", y = \"smoking\", data = df);"
   ]
  },
  {
   "cell_type": "markdown",
   "metadata": {
    "id": "H41xj2pEE0ku"
   },
   "source": [
    "Kadınlarda sigara içmeyen sayısı daha fazladır, sigara içenlere göre. Erkeklerde bu sayılar eşit dağılmış gibi görünüyor."
   ]
  },
  {
   "cell_type": "code",
   "execution_count": null,
   "metadata": {
    "colab": {
     "base_uri": "https://localhost:8080/",
     "height": 279
    },
    "id": "_XvbS7qk2E8D",
    "outputId": "7b79aa85-d0ce-4b65-a917-cc6f19f85476"
   },
   "outputs": [
    {
     "data": {
      "image/png": "[encoded data removed]",
      "text/plain": [
       "<Figure size 432x288 with 1 Axes>"
      ]
     },
     "metadata": {
      "needs_background": "light"
     },
     "output_type": "display_data"
    }
   ],
   "source": [
    "sns.violinplot(x = \"smoking\", y = \"diabetes\", data = df);"
   ]
  },
  {
   "cell_type": "markdown",
   "metadata": {
    "id": "Pgp4XsOFJNA_"
   },
   "source": [
    "Sigara içme ile diyabet olma arasındaki ilişkiye bakmak istersek; çok belirgin bir fark olmasa da sigara kullananlarda diyabet olanların sayısı olmayanlara göre daha azdır.Sigara içmeyenlerde ise diyabet olanlarla olmayanların sayısı yakın gibi görünüyor."
   ]
  },
  {
   "cell_type": "code",
   "execution_count": null,
   "metadata": {
    "colab": {
     "base_uri": "https://localhost:8080/",
     "height": 279
    },
    "id": "Pm2gZdHv8dun",
    "outputId": "c08a8699-8941-441c-d1dc-d30eb73ce615"
   },
   "outputs": [
    {
     "data": {
      "image/png": "[encoded data removed]",
      "text/plain": [
       "<Figure size 432x288 with 1 Axes>"
      ]
     },
     "metadata": {
      "needs_background": "light"
     },
     "output_type": "display_data"
    }
   ],
   "source": [
    "sns.scatterplot(x = \"platelets\", y = \"serum_creatinine\", data = df);"
   ]
  },
  {
   "cell_type": "markdown",
   "metadata": {
    "id": "2IkMSJHT_pMM"
   },
   "source": [
    "İki sürekli değişken olan platelets ve serum_creatinine değişkenlerinin arasındaki ilişkiyi scatterplot ile çizdirdim, bir aralıkta ne kadar yoğunlaştığını görmüş olduk."
   ]
  },
  {
   "cell_type": "code",
   "execution_count": null,
   "metadata": {
    "colab": {
     "base_uri": "https://localhost:8080/"
    },
    "id": "LqDYahmy9Yvl",
    "outputId": "924105e7-45d8-47e8-ca90-af8ef6923d7e"
   },
   "outputs": [
    {
     "data": {
      "text/plain": [
       "age                         299\n",
       "anaemia                     299\n",
       "creatinine_phosphokinase    299\n",
       "diabetes                    299\n",
       "ejection_fraction           299\n",
       "high_blood_pressure         299\n",
       "platelets                   299\n",
       "serum_creatinine            299\n",
       "serum_sodium                299\n",
       "sex                         299\n",
       "smoking                     299\n",
       "time                        299\n",
       "DEATH_EVENT                 299\n",
       "dtype: int64"
      ]
     },
     "execution_count": 164,
     "metadata": {},
     "output_type": "execute_result"
    }
   ],
   "source": [
    "df.count()"
   ]
  },
  {
   "cell_type": "markdown",
   "metadata": {
    "id": "mXmqwwM-BTwN"
   },
   "source": [
    "Veri seti dengeli dağılmıştır."
   ]
  },
  {
   "cell_type": "code",
   "execution_count": null,
   "metadata": {
    "colab": {
     "base_uri": "https://localhost:8080/",
     "height": 350
    },
    "id": "ahhujj-mBZOy",
    "outputId": "abbda30f-432f-4f3c-e341-9550ae248b85"
   },
   "outputs": [
    {
     "name": "stderr",
     "output_type": "stream",
     "text": [
      "/usr/local/lib/python3.7/dist-packages/seaborn/_decorators.py:43: FutureWarning: Pass the following variable as a keyword arg: x. From version 0.12, the only valid positional argument will be `data`, and passing other arguments without an explicit keyword will result in an error or misinterpretation.\n",
      "  FutureWarning\n"
     ]
    },
    {
     "data": {
      "text/plain": [
       "<matplotlib.axes._subplots.AxesSubplot at 0x7fd991dd7a90>"
      ]
     },
     "execution_count": 165,
     "metadata": {},
     "output_type": "execute_result"
    },
    {
     "data": {
      "image/png": "[encoded data removed]",
      "text/plain": [
       "<Figure size 432x288 with 1 Axes>"
      ]
     },
     "metadata": {
      "needs_background": "light"
     },
     "output_type": "display_data"
    }
   ],
   "source": [
    "sns.countplot(df[\"smoking\"], hue=df[\"DEATH_EVENT\"], palette=['#D7263D','#27FB6B'])"
   ]
  },
  {
   "cell_type": "markdown",
   "metadata": {
    "id": "en8ZUUEeOR7D"
   },
   "source": [
    "Sigara içmediği halde ölenler daha çok görünüyor."
   ]
  },
  {
   "cell_type": "markdown",
   "metadata": {
    "id": "eUVG88WhPno1"
   },
   "source": [
    "### ANN BEKLENTİLERİ"
   ]
  },
  {
   "cell_type": "code",
   "execution_count": null,
   "metadata": {
    "colab": {
     "base_uri": "https://localhost:8080/"
    },
    "id": "YVDkPj-wQlpx",
    "outputId": "6b5993b0-e71b-468f-befa-30f937a7c350"
   },
   "outputs": [
    {
     "name": "stdout",
     "output_type": "stream",
     "text": [
      "<class 'pandas.core.frame.DataFrame'>\n",
      "RangeIndex: 299 entries, 0 to 298\n",
      "Data columns (total 13 columns):\n",
      " #   Column                    Non-Null Count  Dtype  \n",
      "---  ------                    --------------  -----  \n",
      " 0   age                       299 non-null    float64\n",
      " 1   anaemia                   299 non-null    int64  \n",
      " 2   creatinine_phosphokinase  299 non-null    int64  \n",
      " 3   diabetes                  299 non-null    int64  \n",
      " 4   ejection_fraction         299 non-null    int64  \n",
      " 5   high_blood_pressure       299 non-null    int64  \n",
      " 6   platelets                 299 non-null    float64\n",
      " 7   serum_creatinine          299 non-null    float64\n",
      " 8   serum_sodium              299 non-null    int64  \n",
      " 9   sex                       299 non-null    int64  \n",
      " 10  smoking                   299 non-null    int64  \n",
      " 11  time                      299 non-null    int64  \n",
      " 12  DEATH_EVENT               299 non-null    int64  \n",
      "dtypes: float64(3), int64(10)\n",
      "memory usage: 30.5 KB\n"
     ]
    }
   ],
   "source": [
    "df.info()"
   ]
  },
  {
   "cell_type": "code",
   "execution_count": null,
   "metadata": {
    "colab": {
     "base_uri": "https://localhost:8080/"
    },
    "id": "xpHdy2MbRuzg",
    "outputId": "70601e2e-e720-4780-d34a-954bb375556f"
   },
   "outputs": [
    {
     "data": {
      "text/plain": [
       "Index(['age', 'anaemia', 'creatinine_phosphokinase', 'diabetes',\n",
       "       'ejection_fraction', 'high_blood_pressure', 'platelets',\n",
       "       'serum_creatinine', 'serum_sodium', 'sex', 'smoking', 'time',\n",
       "       'DEATH_EVENT'],\n",
       "      dtype='object')"
      ]
     },
     "execution_count": 167,
     "metadata": {},
     "output_type": "execute_result"
    }
   ],
   "source": [
    "df.columns"
   ]
  },
  {
   "cell_type": "code",
   "execution_count": null,
   "metadata": {
    "id": "5QvcRbVLQBL7"
   },
   "outputs": [],
   "source": [
    "X = df.iloc[:, :-1].values\n",
    "y = df.iloc[:, -1].values"
   ]
  },
  {
   "cell_type": "code",
   "execution_count": null,
   "metadata": {
    "colab": {
     "base_uri": "https://localhost:8080/"
    },
    "id": "ntf_au5DTY6T",
    "outputId": "2373d717-5472-4f7a-83f2-c362a99a60c4"
   },
   "outputs": [
    {
     "data": {
      "text/plain": [
       "array([[7.500e+01, 0.000e+00, 5.820e+02, ..., 1.000e+00, 0.000e+00,\n",
       "        4.000e+00],\n",
       "       [5.500e+01, 0.000e+00, 7.861e+03, ..., 1.000e+00, 0.000e+00,\n",
       "        6.000e+00],\n",
       "       [6.500e+01, 0.000e+00, 1.460e+02, ..., 1.000e+00, 1.000e+00,\n",
       "        7.000e+00],\n",
       "       ...,\n",
       "       [4.500e+01, 0.000e+00, 2.060e+03, ..., 0.000e+00, 0.000e+00,\n",
       "        2.780e+02],\n",
       "       [4.500e+01, 0.000e+00, 2.413e+03, ..., 1.000e+00, 1.000e+00,\n",
       "        2.800e+02],\n",
       "       [5.000e+01, 0.000e+00, 1.960e+02, ..., 1.000e+00, 1.000e+00,\n",
       "        2.850e+02]])"
      ]
     },
     "execution_count": 169,
     "metadata": {},
     "output_type": "execute_result"
    }
   ],
   "source": [
    "X"
   ]
  },
  {
   "cell_type": "code",
   "execution_count": null,
   "metadata": {
    "colab": {
     "base_uri": "https://localhost:8080/"
    },
    "id": "m6t-F7OQTYaP",
    "outputId": "57fe6d08-946b-4355-ade4-40201e023e5c"
   },
   "outputs": [
    {
     "data": {
      "text/plain": [
       "array([1, 1, 1, 1, 1, 1, 1, 1, 1, 1, 1, 1, 1, 1, 0, 1, 1, 1, 1, 1, 0, 1,\n",
       "       1, 0, 1, 1, 1, 1, 1, 1, 1, 1, 1, 0, 1, 1, 1, 1, 0, 1, 1, 1, 1, 0,\n",
       "       1, 1, 1, 1, 1, 1, 1, 1, 1, 1, 1, 1, 0, 0, 1, 1, 1, 1, 0, 1, 0, 1,\n",
       "       1, 1, 1, 1, 0, 0, 1, 0, 1, 1, 0, 0, 0, 0, 0, 0, 1, 0, 1, 0, 0, 0,\n",
       "       0, 0, 0, 0, 0, 1, 0, 0, 0, 0, 0, 0, 0, 0, 0, 0, 0, 1, 0, 0, 0, 0,\n",
       "       1, 0, 0, 1, 0, 0, 0, 0, 0, 1, 0, 0, 0, 0, 1, 0, 1, 0, 0, 0, 0, 0,\n",
       "       0, 0, 0, 0, 0, 0, 0, 0, 1, 0, 0, 0, 1, 0, 0, 0, 1, 0, 1, 0, 0, 0,\n",
       "       0, 0, 0, 0, 0, 0, 0, 0, 0, 1, 1, 1, 0, 1, 0, 0, 0, 0, 0, 0, 0, 0,\n",
       "       0, 0, 0, 0, 0, 1, 1, 1, 1, 1, 1, 1, 0, 0, 0, 0, 0, 0, 1, 1, 0, 0,\n",
       "       0, 0, 0, 0, 0, 0, 0, 0, 0, 0, 0, 0, 0, 0, 0, 1, 0, 0, 0, 1, 0, 0,\n",
       "       1, 0, 0, 0, 0, 0, 0, 0, 0, 0, 1, 0, 0, 0, 0, 0, 0, 0, 0, 0, 0, 0,\n",
       "       0, 0, 0, 0, 1, 0, 0, 0, 0, 0, 0, 0, 0, 0, 0, 0, 0, 0, 0, 0, 1, 0,\n",
       "       0, 0, 1, 0, 0, 0, 0, 0, 0, 0, 0, 0, 0, 0, 0, 0, 0, 0, 0, 0, 0, 0,\n",
       "       0, 0, 0, 0, 0, 0, 0, 0, 0, 0, 0, 0, 0])"
      ]
     },
     "execution_count": 170,
     "metadata": {},
     "output_type": "execute_result"
    }
   ],
   "source": [
    "y"
   ]
  },
  {
   "cell_type": "code",
   "execution_count": null,
   "metadata": {
    "id": "UEYbVbRuCobC"
   },
   "outputs": [],
   "source": [
    "# split the dataset into train and test set\n",
    "from sklearn.model_selection import train_test_split\n",
    "X_train, X_test, y_train, y_test = train_test_split(X, y, test_size = 0.2, random_state = 0)"
   ]
  },
  {
   "cell_type": "code",
   "execution_count": null,
   "metadata": {
    "colab": {
     "base_uri": "https://localhost:8080/"
    },
    "id": "DHTa4ZEzTsSw",
    "outputId": "affe00b7-5b0f-480b-cc90-cdb864ecb746"
   },
   "outputs": [
    {
     "name": "stdout",
     "output_type": "stream",
     "text": [
      "(239, 12)\n",
      "(60, 12)\n"
     ]
    }
   ],
   "source": [
    "print(X_train.shape)\n",
    "print(X_test.shape)"
   ]
  },
  {
   "cell_type": "code",
   "execution_count": null,
   "metadata": {
    "colab": {
     "base_uri": "https://localhost:8080/"
    },
    "id": "UwTUGbJJMt2l",
    "outputId": "eb112103-6f50-44df-d2f5-6d58b1f31863"
   },
   "outputs": [
    {
     "data": {
      "text/plain": [
       "array([[8.10e+01, 0.00e+00, 4.54e+03, ..., 1.00e+00, 1.00e+00, 1.07e+02],\n",
       "       [5.00e+01, 0.00e+00, 1.85e+02, ..., 1.00e+00, 1.00e+00, 1.12e+02],\n",
       "       [4.50e+01, 0.00e+00, 5.82e+02, ..., 1.00e+00, 0.00e+00, 6.10e+01],\n",
       "       ...,\n",
       "       [8.50e+01, 1.00e+00, 1.02e+02, ..., 0.00e+00, 0.00e+00, 9.40e+01],\n",
       "       [6.00e+01, 0.00e+00, 5.82e+02, ..., 1.00e+00, 1.00e+00, 4.00e+01],\n",
       "       [7.00e+01, 1.00e+00, 1.71e+02, ..., 1.00e+00, 1.00e+00, 1.46e+02]])"
      ]
     },
     "execution_count": 173,
     "metadata": {},
     "output_type": "execute_result"
    }
   ],
   "source": [
    "X_train"
   ]
  },
  {
   "cell_type": "code",
   "execution_count": null,
   "metadata": {
    "colab": {
     "base_uri": "https://localhost:8080/"
    },
    "id": "r2VmBkDRM1iu",
    "outputId": "9bf0e367-5924-4332-84a5-eaa3f085df48"
   },
   "outputs": [
    {
     "data": {
      "text/plain": [
       "array([[4.0000000e+01, 1.0000000e+00, 1.0100000e+02, 0.0000000e+00,\n",
       "        4.0000000e+01, 0.0000000e+00, 2.2600000e+05, 8.0000000e-01,\n",
       "        1.4100000e+02, 0.0000000e+00, 0.0000000e+00, 1.8700000e+02],\n",
       "       [6.0667000e+01, 1.0000000e+00, 1.5100000e+02, 1.0000000e+00,\n",
       "        4.0000000e+01, 1.0000000e+00, 2.0100000e+05, 1.0000000e+00,\n",
       "        1.3600000e+02, 0.0000000e+00, 0.0000000e+00, 1.7200000e+02],\n",
       "       [4.5000000e+01, 1.0000000e+00, 9.8100000e+02, 0.0000000e+00,\n",
       "        3.0000000e+01, 0.0000000e+00, 1.3600000e+05, 1.1000000e+00,\n",
       "        1.3700000e+02, 1.0000000e+00, 0.0000000e+00, 1.1000000e+01],\n",
       "       [5.5000000e+01, 0.0000000e+00, 5.8200000e+02, 1.0000000e+00,\n",
       "        3.5000000e+01, 1.0000000e+00, 3.7100000e+05, 7.0000000e-01,\n",
       "        1.4000000e+02, 0.0000000e+00, 0.0000000e+00, 1.9700000e+02],\n",
       "       [7.0000000e+01, 0.0000000e+00, 2.3200000e+02, 0.0000000e+00,\n",
       "        3.0000000e+01, 0.0000000e+00, 1.7300000e+05, 1.2000000e+00,\n",
       "        1.3200000e+02, 1.0000000e+00, 0.0000000e+00, 2.1000000e+02],\n",
       "       [6.5000000e+01, 1.0000000e+00, 5.9000000e+01, 1.0000000e+00,\n",
       "        6.0000000e+01, 0.0000000e+00, 1.7200000e+05, 9.0000000e-01,\n",
       "        1.3700000e+02, 0.0000000e+00, 0.0000000e+00, 1.0700000e+02],\n",
       "       [6.5000000e+01, 0.0000000e+00, 5.6000000e+01, 0.0000000e+00,\n",
       "        2.5000000e+01, 0.0000000e+00, 2.3700000e+05, 5.0000000e+00,\n",
       "        1.3000000e+02, 0.0000000e+00, 0.0000000e+00, 2.0700000e+02],\n",
       "       [5.0000000e+01, 1.0000000e+00, 1.6700000e+02, 1.0000000e+00,\n",
       "        4.5000000e+01, 0.0000000e+00, 3.6200000e+05, 1.0000000e+00,\n",
       "        1.3600000e+02, 0.0000000e+00, 0.0000000e+00, 1.8700000e+02],\n",
       "       [6.0000000e+01, 0.0000000e+00, 3.9640000e+03, 1.0000000e+00,\n",
       "        6.2000000e+01, 0.0000000e+00, 2.6335803e+05, 6.8000000e+00,\n",
       "        1.4600000e+02, 0.0000000e+00, 0.0000000e+00, 4.3000000e+01],\n",
       "       [6.3000000e+01, 0.0000000e+00, 9.3600000e+02, 0.0000000e+00,\n",
       "        3.8000000e+01, 0.0000000e+00, 3.0400000e+05, 1.1000000e+00,\n",
       "        1.3300000e+02, 1.0000000e+00, 1.0000000e+00, 8.8000000e+01],\n",
       "       [7.0000000e+01, 0.0000000e+00, 8.1000000e+01, 1.0000000e+00,\n",
       "        3.5000000e+01, 1.0000000e+00, 5.3300000e+05, 1.3000000e+00,\n",
       "        1.3900000e+02, 0.0000000e+00, 0.0000000e+00, 2.1200000e+02],\n",
       "       [8.2000000e+01, 1.0000000e+00, 3.7900000e+02, 0.0000000e+00,\n",
       "        5.0000000e+01, 0.0000000e+00, 4.7000000e+04, 1.3000000e+00,\n",
       "        1.3600000e+02, 1.0000000e+00, 0.0000000e+00, 1.3000000e+01],\n",
       "       [5.8000000e+01, 1.0000000e+00, 1.4500000e+02, 0.0000000e+00,\n",
       "        2.5000000e+01, 0.0000000e+00, 2.1900000e+05, 1.2000000e+00,\n",
       "        1.3700000e+02, 1.0000000e+00, 1.0000000e+00, 1.7000000e+02],\n",
       "       [5.5000000e+01, 0.0000000e+00, 2.0170000e+03, 0.0000000e+00,\n",
       "        2.5000000e+01, 0.0000000e+00, 3.1400000e+05, 1.1000000e+00,\n",
       "        1.3800000e+02, 1.0000000e+00, 0.0000000e+00, 2.1400000e+02],\n",
       "       [6.8000000e+01, 1.0000000e+00, 2.2000000e+02, 0.0000000e+00,\n",
       "        3.5000000e+01, 1.0000000e+00, 2.8900000e+05, 9.0000000e-01,\n",
       "        1.4000000e+02, 1.0000000e+00, 1.0000000e+00, 2.0000000e+01],\n",
       "       [6.9000000e+01, 0.0000000e+00, 5.8200000e+02, 0.0000000e+00,\n",
       "        2.0000000e+01, 0.0000000e+00, 2.6600000e+05, 1.2000000e+00,\n",
       "        1.3400000e+02, 1.0000000e+00, 1.0000000e+00, 7.3000000e+01],\n",
       "       [4.0000000e+01, 0.0000000e+00, 5.8200000e+02, 1.0000000e+00,\n",
       "        3.5000000e+01, 0.0000000e+00, 2.2200000e+05, 1.0000000e+00,\n",
       "        1.3200000e+02, 1.0000000e+00, 0.0000000e+00, 2.4400000e+02],\n",
       "       [7.0000000e+01, 0.0000000e+00, 6.6000000e+01, 1.0000000e+00,\n",
       "        4.5000000e+01, 0.0000000e+00, 2.4900000e+05, 8.0000000e-01,\n",
       "        1.3600000e+02, 1.0000000e+00, 1.0000000e+00, 8.0000000e+01],\n",
       "       [5.5000000e+01, 1.0000000e+00, 2.7940000e+03, 0.0000000e+00,\n",
       "        3.5000000e+01, 1.0000000e+00, 1.4100000e+05, 1.0000000e+00,\n",
       "        1.4000000e+02, 1.0000000e+00, 0.0000000e+00, 2.0600000e+02],\n",
       "       [5.2000000e+01, 1.0000000e+00, 1.9100000e+02, 1.0000000e+00,\n",
       "        3.0000000e+01, 1.0000000e+00, 3.3400000e+05, 1.0000000e+00,\n",
       "        1.4200000e+02, 1.0000000e+00, 1.0000000e+00, 2.1600000e+02],\n",
       "       [8.0000000e+01, 0.0000000e+00, 5.8200000e+02, 1.0000000e+00,\n",
       "        3.5000000e+01, 0.0000000e+00, 3.5000000e+05, 2.1000000e+00,\n",
       "        1.3400000e+02, 1.0000000e+00, 0.0000000e+00, 1.7400000e+02],\n",
       "       [4.2000000e+01, 0.0000000e+00, 5.2090000e+03, 0.0000000e+00,\n",
       "        3.0000000e+01, 0.0000000e+00, 2.2600000e+05, 1.0000000e+00,\n",
       "        1.4000000e+02, 1.0000000e+00, 1.0000000e+00, 8.7000000e+01],\n",
       "       [6.0000000e+01, 0.0000000e+00, 5.8200000e+02, 0.0000000e+00,\n",
       "        4.0000000e+01, 0.0000000e+00, 2.1700000e+05, 3.7000000e+00,\n",
       "        1.3400000e+02, 1.0000000e+00, 0.0000000e+00, 9.6000000e+01],\n",
       "       [5.3000000e+01, 1.0000000e+00, 2.7000000e+02, 1.0000000e+00,\n",
       "        3.5000000e+01, 0.0000000e+00, 2.2700000e+05, 3.4000000e+00,\n",
       "        1.4500000e+02, 1.0000000e+00, 0.0000000e+00, 1.0500000e+02],\n",
       "       [7.3000000e+01, 0.0000000e+00, 5.8200000e+02, 0.0000000e+00,\n",
       "        2.0000000e+01, 0.0000000e+00, 2.6335803e+05, 1.8300000e+00,\n",
       "        1.3400000e+02, 1.0000000e+00, 0.0000000e+00, 1.9800000e+02],\n",
       "       [6.0000000e+01, 1.0000000e+00, 9.6000000e+01, 1.0000000e+00,\n",
       "        6.0000000e+01, 1.0000000e+00, 2.7100000e+05, 7.0000000e-01,\n",
       "        1.3600000e+02, 0.0000000e+00, 0.0000000e+00, 9.4000000e+01],\n",
       "       [4.5000000e+01, 0.0000000e+00, 5.8200000e+02, 0.0000000e+00,\n",
       "        2.0000000e+01, 1.0000000e+00, 1.2600000e+05, 1.6000000e+00,\n",
       "        1.3500000e+02, 1.0000000e+00, 0.0000000e+00, 1.8000000e+02],\n",
       "       [5.5000000e+01, 1.0000000e+00, 1.7000000e+02, 1.0000000e+00,\n",
       "        4.0000000e+01, 0.0000000e+00, 3.3600000e+05, 1.2000000e+00,\n",
       "        1.3500000e+02, 1.0000000e+00, 0.0000000e+00, 2.5000000e+02],\n",
       "       [6.2000000e+01, 0.0000000e+00, 6.1000000e+01, 1.0000000e+00,\n",
       "        3.8000000e+01, 1.0000000e+00, 1.5500000e+05, 1.1000000e+00,\n",
       "        1.4300000e+02, 1.0000000e+00, 1.0000000e+00, 2.7000000e+02],\n",
       "       [5.3000000e+01, 0.0000000e+00, 2.0700000e+02, 1.0000000e+00,\n",
       "        4.0000000e+01, 0.0000000e+00, 2.2300000e+05, 1.2000000e+00,\n",
       "        1.3000000e+02, 0.0000000e+00, 0.0000000e+00, 2.1400000e+02],\n",
       "       [4.2000000e+01, 0.0000000e+00, 5.8200000e+02, 0.0000000e+00,\n",
       "        6.0000000e+01, 0.0000000e+00, 2.6335803e+05, 1.1800000e+00,\n",
       "        1.3700000e+02, 0.0000000e+00, 0.0000000e+00, 8.2000000e+01],\n",
       "       [4.2000000e+01, 1.0000000e+00, 2.5000000e+02, 1.0000000e+00,\n",
       "        1.5000000e+01, 0.0000000e+00, 2.1300000e+05, 1.3000000e+00,\n",
       "        1.3600000e+02, 0.0000000e+00, 0.0000000e+00, 6.5000000e+01],\n",
       "       [6.5000000e+01, 0.0000000e+00, 1.5700000e+02, 0.0000000e+00,\n",
       "        6.5000000e+01, 0.0000000e+00, 2.6335803e+05, 1.5000000e+00,\n",
       "        1.3800000e+02, 0.0000000e+00, 0.0000000e+00, 1.0000000e+01],\n",
       "       [6.0000000e+01, 0.0000000e+00, 9.6000000e+01, 1.0000000e+00,\n",
       "        3.8000000e+01, 0.0000000e+00, 2.2800000e+05, 7.5000000e-01,\n",
       "        1.4000000e+02, 0.0000000e+00, 0.0000000e+00, 9.5000000e+01],\n",
       "       [5.4000000e+01, 1.0000000e+00, 4.2700000e+02, 0.0000000e+00,\n",
       "        7.0000000e+01, 1.0000000e+00, 1.5100000e+05, 9.0000000e+00,\n",
       "        1.3700000e+02, 0.0000000e+00, 0.0000000e+00, 1.9600000e+02],\n",
       "       [7.2000000e+01, 0.0000000e+00, 2.3300000e+02, 0.0000000e+00,\n",
       "        4.5000000e+01, 1.0000000e+00, 2.3500000e+05, 2.5000000e+00,\n",
       "        1.3500000e+02, 0.0000000e+00, 0.0000000e+00, 1.1500000e+02],\n",
       "       [6.9000000e+01, 0.0000000e+00, 1.4190000e+03, 0.0000000e+00,\n",
       "        4.0000000e+01, 0.0000000e+00, 1.0500000e+05, 1.0000000e+00,\n",
       "        1.3500000e+02, 1.0000000e+00, 1.0000000e+00, 1.4700000e+02],\n",
       "       [6.5000000e+01, 0.0000000e+00, 3.9500000e+02, 1.0000000e+00,\n",
       "        2.5000000e+01, 0.0000000e+00, 2.6500000e+05, 1.2000000e+00,\n",
       "        1.3600000e+02, 1.0000000e+00, 1.0000000e+00, 1.5400000e+02],\n",
       "       [5.0000000e+01, 0.0000000e+00, 1.9600000e+02, 0.0000000e+00,\n",
       "        4.5000000e+01, 0.0000000e+00, 3.9500000e+05, 1.6000000e+00,\n",
       "        1.3600000e+02, 1.0000000e+00, 1.0000000e+00, 2.8500000e+02],\n",
       "       [9.0000000e+01, 1.0000000e+00, 4.7000000e+01, 0.0000000e+00,\n",
       "        4.0000000e+01, 1.0000000e+00, 2.0400000e+05, 2.1000000e+00,\n",
       "        1.3200000e+02, 1.0000000e+00, 1.0000000e+00, 8.0000000e+00],\n",
       "       [6.8000000e+01, 1.0000000e+00, 1.5700000e+02, 1.0000000e+00,\n",
       "        6.0000000e+01, 0.0000000e+00, 2.0800000e+05, 1.0000000e+00,\n",
       "        1.4000000e+02, 0.0000000e+00, 0.0000000e+00, 2.3700000e+02],\n",
       "       [5.7000000e+01, 1.0000000e+00, 1.1500000e+02, 0.0000000e+00,\n",
       "        2.5000000e+01, 1.0000000e+00, 1.8100000e+05, 1.1000000e+00,\n",
       "        1.4400000e+02, 1.0000000e+00, 0.0000000e+00, 7.9000000e+01],\n",
       "       [6.7000000e+01, 0.0000000e+00, 5.8200000e+02, 0.0000000e+00,\n",
       "        5.0000000e+01, 0.0000000e+00, 2.6335803e+05, 1.1800000e+00,\n",
       "        1.3700000e+02, 1.0000000e+00, 1.0000000e+00, 7.6000000e+01],\n",
       "       [6.5000000e+01, 0.0000000e+00, 9.4000000e+01, 1.0000000e+00,\n",
       "        5.0000000e+01, 1.0000000e+00, 1.8800000e+05, 1.0000000e+00,\n",
       "        1.4000000e+02, 1.0000000e+00, 0.0000000e+00, 2.9000000e+01],\n",
       "       [9.5000000e+01, 1.0000000e+00, 3.7100000e+02, 0.0000000e+00,\n",
       "        3.0000000e+01, 0.0000000e+00, 4.6100000e+05, 2.0000000e+00,\n",
       "        1.3200000e+02, 1.0000000e+00, 0.0000000e+00, 5.0000000e+01],\n",
       "       [5.0000000e+01, 0.0000000e+00, 1.5480000e+03, 0.0000000e+00,\n",
       "        3.0000000e+01, 1.0000000e+00, 2.1100000e+05, 8.0000000e-01,\n",
       "        1.3800000e+02, 1.0000000e+00, 0.0000000e+00, 1.0800000e+02],\n",
       "       [5.3000000e+01, 1.0000000e+00, 5.8200000e+02, 0.0000000e+00,\n",
       "        4.5000000e+01, 0.0000000e+00, 3.0500000e+05, 1.1000000e+00,\n",
       "        1.3700000e+02, 1.0000000e+00, 1.0000000e+00, 2.0900000e+02],\n",
       "       [4.5000000e+01, 0.0000000e+00, 5.8200000e+02, 0.0000000e+00,\n",
       "        8.0000000e+01, 0.0000000e+00, 2.6335803e+05, 1.1800000e+00,\n",
       "        1.3700000e+02, 0.0000000e+00, 0.0000000e+00, 6.3000000e+01],\n",
       "       [6.0000000e+01, 1.0000000e+00, 3.1500000e+02, 1.0000000e+00,\n",
       "        6.0000000e+01, 0.0000000e+00, 4.5400000e+05, 1.1000000e+00,\n",
       "        1.3100000e+02, 1.0000000e+00, 1.0000000e+00, 1.0000000e+01],\n",
       "       [5.0000000e+01, 0.0000000e+00, 5.8200000e+02, 1.0000000e+00,\n",
       "        3.8000000e+01, 0.0000000e+00, 3.1000000e+05, 1.9000000e+00,\n",
       "        1.3500000e+02, 1.0000000e+00, 1.0000000e+00, 3.5000000e+01],\n",
       "       [6.5000000e+01, 0.0000000e+00, 2.2400000e+02, 1.0000000e+00,\n",
       "        5.0000000e+01, 0.0000000e+00, 1.4900000e+05, 1.3000000e+00,\n",
       "        1.3700000e+02, 1.0000000e+00, 1.0000000e+00, 7.2000000e+01],\n",
       "       [6.0000000e+01, 0.0000000e+00, 3.2000000e+02, 0.0000000e+00,\n",
       "        3.5000000e+01, 0.0000000e+00, 1.3300000e+05, 1.4000000e+00,\n",
       "        1.3900000e+02, 1.0000000e+00, 0.0000000e+00, 2.5800000e+02],\n",
       "       [5.0000000e+01, 1.0000000e+00, 1.1500000e+02, 0.0000000e+00,\n",
       "        2.0000000e+01, 0.0000000e+00, 1.8900000e+05, 8.0000000e-01,\n",
       "        1.3900000e+02, 1.0000000e+00, 0.0000000e+00, 1.4600000e+02],\n",
       "       [5.5000000e+01, 0.0000000e+00, 7.4800000e+02, 0.0000000e+00,\n",
       "        4.5000000e+01, 0.0000000e+00, 2.6300000e+05, 1.3000000e+00,\n",
       "        1.3700000e+02, 1.0000000e+00, 0.0000000e+00, 8.8000000e+01],\n",
       "       [7.2000000e+01, 0.0000000e+00, 3.6400000e+02, 1.0000000e+00,\n",
       "        2.0000000e+01, 1.0000000e+00, 2.5400000e+05, 1.3000000e+00,\n",
       "        1.3600000e+02, 1.0000000e+00, 1.0000000e+00, 5.9000000e+01],\n",
       "       [6.0000000e+01, 0.0000000e+00, 1.6600000e+02, 0.0000000e+00,\n",
       "        3.0000000e+01, 0.0000000e+00, 6.2000000e+04, 1.7000000e+00,\n",
       "        1.2700000e+02, 0.0000000e+00, 0.0000000e+00, 2.0700000e+02],\n",
       "       [6.5000000e+01, 0.0000000e+00, 5.8200000e+02, 1.0000000e+00,\n",
       "        4.0000000e+01, 0.0000000e+00, 2.7000000e+05, 1.0000000e+00,\n",
       "        1.3800000e+02, 0.0000000e+00, 0.0000000e+00, 1.4000000e+02],\n",
       "       [9.5000000e+01, 1.0000000e+00, 1.1200000e+02, 0.0000000e+00,\n",
       "        4.0000000e+01, 1.0000000e+00, 1.9600000e+05, 1.0000000e+00,\n",
       "        1.3800000e+02, 0.0000000e+00, 0.0000000e+00, 2.4000000e+01],\n",
       "       [6.5000000e+01, 0.0000000e+00, 1.6880000e+03, 0.0000000e+00,\n",
       "        3.8000000e+01, 0.0000000e+00, 2.6335803e+05, 1.1000000e+00,\n",
       "        1.3800000e+02, 1.0000000e+00, 1.0000000e+00, 2.5000000e+02],\n",
       "       [5.0000000e+01, 0.0000000e+00, 1.8460000e+03, 1.0000000e+00,\n",
       "        3.5000000e+01, 0.0000000e+00, 2.6335803e+05, 1.1800000e+00,\n",
       "        1.3700000e+02, 1.0000000e+00, 1.0000000e+00, 1.1900000e+02]])"
      ]
     },
     "execution_count": 174,
     "metadata": {},
     "output_type": "execute_result"
    }
   ],
   "source": [
    "X_test"
   ]
  },
  {
   "cell_type": "markdown",
   "metadata": {
    "id": "X0z_VBDFVyq0"
   },
   "source": [
    "### Ölçeklendirmesiz"
   ]
  },
  {
   "cell_type": "code",
   "execution_count": null,
   "metadata": {
    "id": "92yK8tpmVBdV"
   },
   "outputs": [],
   "source": []
  },
  {
   "cell_type": "markdown",
   "metadata": {
    "id": "58l8lrC0Vxoa"
   },
   "source": []
  },
  {
   "cell_type": "code",
   "execution_count": null,
   "metadata": {
    "id": "ijVOHmavVCa6"
   },
   "outputs": [],
   "source": []
  },
  {
   "cell_type": "code",
   "execution_count": null,
   "metadata": {
    "id": "4GTu3BMYVGAX"
   },
   "outputs": [],
   "source": [
    "import tensorflow as tf"
   ]
  },
  {
   "cell_type": "code",
   "execution_count": null,
   "metadata": {
    "colab": {
     "base_uri": "https://localhost:8080/"
    },
    "id": "ZT0DoWgCVvv2",
    "outputId": "9d31f30a-a403-4c51-ff99-7fa536e3d613"
   },
   "outputs": [
    {
     "data": {
      "text/plain": [
       "array([7.50e+01, 0.00e+00, 5.82e+02, 0.00e+00, 2.00e+01, 1.00e+00,\n",
       "       2.65e+05, 1.90e+00, 1.30e+02, 1.00e+00, 0.00e+00, 4.00e+00])"
      ]
     },
     "execution_count": 176,
     "metadata": {},
     "output_type": "execute_result"
    }
   ],
   "source": [
    "X[0]"
   ]
  },
  {
   "cell_type": "code",
   "execution_count": null,
   "metadata": {
    "colab": {
     "base_uri": "https://localhost:8080/",
     "height": 35
    },
    "id": "c8_k4Zy8K85i",
    "outputId": "caaa365a-834a-45ce-9b1b-c0afb8293f24"
   },
   "outputs": [
    {
     "data": {
      "application/vnd.google.colaboratory.intrinsic+json": {
       "type": "string"
      },
      "text/plain": [
       "'2.6.0'"
      ]
     },
     "execution_count": 177,
     "metadata": {},
     "output_type": "execute_result"
    }
   ],
   "source": [
    "from tensorflow import keras\n",
    "keras.__version__"
   ]
  },
  {
   "cell_type": "code",
   "execution_count": null,
   "metadata": {
    "id": "KYuPt7tzSbNC"
   },
   "outputs": [],
   "source": [
    "# scaling\n",
    "from sklearn.preprocessing import StandardScaler\n",
    "sc = StandardScaler()\n"
   ]
  },
  {
   "cell_type": "code",
   "execution_count": null,
   "metadata": {
    "id": "FX1b4o7uSyM6"
   },
   "outputs": [],
   "source": [
    "X_train = sc.fit_transform(X_train)\n",
    "X_test = sc.transform(X_test)"
   ]
  },
  {
   "cell_type": "code",
   "execution_count": null,
   "metadata": {
    "colab": {
     "base_uri": "https://localhost:8080/"
    },
    "id": "8ojRzdDYLDQe",
    "outputId": "4bfbe8e7-e00c-4ab3-cea3-41f8c1b02bfc"
   },
   "outputs": [
    {
     "data": {
      "text/plain": [
       "array([[ 1.70455927, -0.89274435,  4.04602991, ...,  0.73616267,\n",
       "         1.46449201, -0.29449203],\n",
       "       [-0.92576852, -0.89274435, -0.39339316, ...,  0.73616267,\n",
       "         1.46449201, -0.2297298 ],\n",
       "       [-1.35001494, -0.89274435,  0.01130281, ...,  0.73616267,\n",
       "        -0.68283063, -0.89030457],\n",
       "       ...,\n",
       "       [ 2.0439564 ,  1.1201415 , -0.47800215, ..., -1.35839541,\n",
       "        -0.68283063, -0.46287383],\n",
       "       [-0.07727569, -0.89274435,  0.01130281, ...,  0.73616267,\n",
       "         1.46449201, -1.16230595],\n",
       "       [ 0.77121715,  1.1201415 , -0.40766456, ...,  0.73616267,\n",
       "         1.46449201,  0.21065339]])"
      ]
     },
     "execution_count": 180,
     "metadata": {},
     "output_type": "execute_result"
    }
   ],
   "source": [
    "X_train"
   ]
  },
  {
   "cell_type": "code",
   "execution_count": null,
   "metadata": {
    "id": "gaEOW3zYNjia"
   },
   "outputs": [],
   "source": [
    "# Initializing the ANN\n",
    "ann = tf.keras.models.Sequential()\n",
    "# Add the input layer and first hidden layer\n",
    "ann.add(tf.keras.layers.Dense(units=12, activation='relu', input_shape=X_train[0].shape))\n",
    "# Add the second hidden layer\n",
    "ann.add(tf.keras.layers.Dense(units=8, activation='relu'))\n",
    "# Add the output layer\n",
    "ann.add(tf.keras.layers.Dense(units=1, activation='sigmoid'))"
   ]
  },
  {
   "cell_type": "code",
   "execution_count": null,
   "metadata": {
    "colab": {
     "base_uri": "https://localhost:8080/"
    },
    "id": "PRl3Hju7QBc7",
    "outputId": "7f7da6b6-ec86-4a57-a295-9e27be730979"
   },
   "outputs": [
    {
     "name": "stdout",
     "output_type": "stream",
     "text": [
      "Model: \"sequential_1\"\n",
      "_________________________________________________________________\n",
      "Layer (type)                 Output Shape              Param #   \n",
      "=================================================================\n",
      "dense_3 (Dense)              (None, 12)                156       \n",
      "_________________________________________________________________\n",
      "dense_4 (Dense)              (None, 8)                 104       \n",
      "_________________________________________________________________\n",
      "dense_5 (Dense)              (None, 1)                 9         \n",
      "=================================================================\n",
      "Total params: 269\n",
      "Trainable params: 269\n",
      "Non-trainable params: 0\n",
      "_________________________________________________________________\n"
     ]
    }
   ],
   "source": [
    "ann.summary()"
   ]
  },
  {
   "cell_type": "code",
   "execution_count": null,
   "metadata": {
    "colab": {
     "base_uri": "https://localhost:8080/"
    },
    "id": "rlwtGXw4Q5dI",
    "outputId": "44f58740-e5a3-47a9-d9b8-2aabdf600d96"
   },
   "outputs": [
    {
     "name": "stdout",
     "output_type": "stream",
     "text": [
      "Epoch 1/20\n",
      "8/8 [==============================] - 0s 3ms/step - loss: 0.8811 - accuracy: 0.3389\n",
      "Epoch 2/20\n",
      "8/8 [==============================] - 0s 3ms/step - loss: 0.8361 - accuracy: 0.3515\n",
      "Epoch 3/20\n",
      "8/8 [==============================] - 0s 2ms/step - loss: 0.7950 - accuracy: 0.4100\n",
      "Epoch 4/20\n",
      "8/8 [==============================] - 0s 2ms/step - loss: 0.7595 - accuracy: 0.4603\n",
      "Epoch 5/20\n",
      "8/8 [==============================] - 0s 2ms/step - loss: 0.7275 - accuracy: 0.4895\n",
      "Epoch 6/20\n",
      "8/8 [==============================] - 0s 2ms/step - loss: 0.7004 - accuracy: 0.5188\n",
      "Epoch 7/20\n",
      "8/8 [==============================] - 0s 2ms/step - loss: 0.6752 - accuracy: 0.5690\n",
      "Epoch 8/20\n",
      "8/8 [==============================] - 0s 2ms/step - loss: 0.6534 - accuracy: 0.5983\n",
      "Epoch 9/20\n",
      "8/8 [==============================] - 0s 2ms/step - loss: 0.6342 - accuracy: 0.6527\n",
      "Epoch 10/20\n",
      "8/8 [==============================] - 0s 2ms/step - loss: 0.6170 - accuracy: 0.6653\n",
      "Epoch 11/20\n",
      "8/8 [==============================] - 0s 2ms/step - loss: 0.6012 - accuracy: 0.6904\n",
      "Epoch 12/20\n",
      "8/8 [==============================] - 0s 2ms/step - loss: 0.5866 - accuracy: 0.6862\n",
      "Epoch 13/20\n",
      "8/8 [==============================] - 0s 3ms/step - loss: 0.5731 - accuracy: 0.7029\n",
      "Epoch 14/20\n",
      "8/8 [==============================] - 0s 3ms/step - loss: 0.5609 - accuracy: 0.7155\n",
      "Epoch 15/20\n",
      "8/8 [==============================] - 0s 3ms/step - loss: 0.5485 - accuracy: 0.7113\n",
      "Epoch 16/20\n",
      "8/8 [==============================] - 0s 3ms/step - loss: 0.5383 - accuracy: 0.7113\n",
      "Epoch 17/20\n",
      "8/8 [==============================] - 0s 2ms/step - loss: 0.5279 - accuracy: 0.7280\n",
      "Epoch 18/20\n",
      "8/8 [==============================] - 0s 2ms/step - loss: 0.5184 - accuracy: 0.7364\n",
      "Epoch 19/20\n",
      "8/8 [==============================] - 0s 2ms/step - loss: 0.5097 - accuracy: 0.7406\n",
      "Epoch 20/20\n",
      "8/8 [==============================] - 0s 3ms/step - loss: 0.5016 - accuracy: 0.7531\n"
     ]
    },
    {
     "data": {
      "text/plain": [
       "<keras.callbacks.History at 0x7fd992e7b6d0>"
      ]
     },
     "execution_count": 183,
     "metadata": {},
     "output_type": "execute_result"
    }
   ],
   "source": [
    "ann.compile(optimizer = 'adam', loss = 'binary_crossentropy', metrics = ['accuracy'])\n",
    "ann.fit(X_train, y_train, batch_size = 32, epochs = 20)"
   ]
  },
  {
   "cell_type": "code",
   "execution_count": null,
   "metadata": {
    "colab": {
     "base_uri": "https://localhost:8080/",
     "height": 224
    },
    "id": "I84KRDaoSH9_",
    "outputId": "46e270e6-fc55-4d1d-ab89-fc7b72bd7311"
   },
   "outputs": [
    {
     "data": {
      "text/html": [
       "<div>\n",
       "<style scoped>\n",
       "    .dataframe tbody tr th:only-of-type {\n",
       "        vertical-align: middle;\n",
       "    }\n",
       "\n",
       "    .dataframe tbody tr th {\n",
       "        vertical-align: top;\n",
       "    }\n",
       "\n",
       "    .dataframe thead th {\n",
       "        text-align: right;\n",
       "    }\n",
       "</style>\n",
       "<table border=\"1\" class=\"dataframe\">\n",
       "  <thead>\n",
       "    <tr style=\"text-align: right;\">\n",
       "      <th></th>\n",
       "      <th>age</th>\n",
       "      <th>anaemia</th>\n",
       "      <th>creatinine_phosphokinase</th>\n",
       "      <th>diabetes</th>\n",
       "      <th>ejection_fraction</th>\n",
       "      <th>high_blood_pressure</th>\n",
       "      <th>platelets</th>\n",
       "      <th>serum_creatinine</th>\n",
       "      <th>serum_sodium</th>\n",
       "      <th>sex</th>\n",
       "      <th>smoking</th>\n",
       "      <th>time</th>\n",
       "      <th>DEATH_EVENT</th>\n",
       "    </tr>\n",
       "  </thead>\n",
       "  <tbody>\n",
       "    <tr>\n",
       "      <th>0</th>\n",
       "      <td>75.0</td>\n",
       "      <td>0</td>\n",
       "      <td>582</td>\n",
       "      <td>0</td>\n",
       "      <td>20</td>\n",
       "      <td>1</td>\n",
       "      <td>265000.00</td>\n",
       "      <td>1.9</td>\n",
       "      <td>130</td>\n",
       "      <td>1</td>\n",
       "      <td>0</td>\n",
       "      <td>4</td>\n",
       "      <td>1</td>\n",
       "    </tr>\n",
       "    <tr>\n",
       "      <th>1</th>\n",
       "      <td>55.0</td>\n",
       "      <td>0</td>\n",
       "      <td>7861</td>\n",
       "      <td>0</td>\n",
       "      <td>38</td>\n",
       "      <td>0</td>\n",
       "      <td>263358.03</td>\n",
       "      <td>1.1</td>\n",
       "      <td>136</td>\n",
       "      <td>1</td>\n",
       "      <td>0</td>\n",
       "      <td>6</td>\n",
       "      <td>1</td>\n",
       "    </tr>\n",
       "    <tr>\n",
       "      <th>2</th>\n",
       "      <td>65.0</td>\n",
       "      <td>0</td>\n",
       "      <td>146</td>\n",
       "      <td>0</td>\n",
       "      <td>20</td>\n",
       "      <td>0</td>\n",
       "      <td>162000.00</td>\n",
       "      <td>1.3</td>\n",
       "      <td>129</td>\n",
       "      <td>1</td>\n",
       "      <td>1</td>\n",
       "      <td>7</td>\n",
       "      <td>1</td>\n",
       "    </tr>\n",
       "    <tr>\n",
       "      <th>3</th>\n",
       "      <td>50.0</td>\n",
       "      <td>1</td>\n",
       "      <td>111</td>\n",
       "      <td>0</td>\n",
       "      <td>20</td>\n",
       "      <td>0</td>\n",
       "      <td>210000.00</td>\n",
       "      <td>1.9</td>\n",
       "      <td>137</td>\n",
       "      <td>1</td>\n",
       "      <td>0</td>\n",
       "      <td>7</td>\n",
       "      <td>1</td>\n",
       "    </tr>\n",
       "    <tr>\n",
       "      <th>4</th>\n",
       "      <td>65.0</td>\n",
       "      <td>1</td>\n",
       "      <td>160</td>\n",
       "      <td>1</td>\n",
       "      <td>20</td>\n",
       "      <td>0</td>\n",
       "      <td>327000.00</td>\n",
       "      <td>2.7</td>\n",
       "      <td>116</td>\n",
       "      <td>0</td>\n",
       "      <td>0</td>\n",
       "      <td>8</td>\n",
       "      <td>1</td>\n",
       "    </tr>\n",
       "  </tbody>\n",
       "</table>\n",
       "</div>"
      ],
      "text/plain": [
       "    age  anaemia  creatinine_phosphokinase  ...  smoking  time  DEATH_EVENT\n",
       "0  75.0        0                       582  ...        0     4            1\n",
       "1  55.0        0                      7861  ...        0     6            1\n",
       "2  65.0        0                       146  ...        1     7            1\n",
       "3  50.0        1                       111  ...        0     7            1\n",
       "4  65.0        1                       160  ...        0     8            1\n",
       "\n",
       "[5 rows x 13 columns]"
      ]
     },
     "execution_count": 184,
     "metadata": {},
     "output_type": "execute_result"
    }
   ],
   "source": [
    "df.head()"
   ]
  },
  {
   "cell_type": "code",
   "execution_count": null,
   "metadata": {
    "colab": {
     "base_uri": "https://localhost:8080/",
     "height": 224
    },
    "id": "NwYPnSImSei7",
    "outputId": "d1932876-d128-473a-b0e4-b8cfce14493f"
   },
   "outputs": [
    {
     "data": {
      "text/html": [
       "<div>\n",
       "<style scoped>\n",
       "    .dataframe tbody tr th:only-of-type {\n",
       "        vertical-align: middle;\n",
       "    }\n",
       "\n",
       "    .dataframe tbody tr th {\n",
       "        vertical-align: top;\n",
       "    }\n",
       "\n",
       "    .dataframe thead th {\n",
       "        text-align: right;\n",
       "    }\n",
       "</style>\n",
       "<table border=\"1\" class=\"dataframe\">\n",
       "  <thead>\n",
       "    <tr style=\"text-align: right;\">\n",
       "      <th></th>\n",
       "      <th>age</th>\n",
       "      <th>anaemia</th>\n",
       "      <th>creatinine_phosphokinase</th>\n",
       "      <th>diabetes</th>\n",
       "      <th>ejection_fraction</th>\n",
       "      <th>high_blood_pressure</th>\n",
       "      <th>platelets</th>\n",
       "      <th>serum_creatinine</th>\n",
       "      <th>serum_sodium</th>\n",
       "      <th>sex</th>\n",
       "      <th>smoking</th>\n",
       "      <th>time</th>\n",
       "      <th>DEATH_EVENT</th>\n",
       "    </tr>\n",
       "  </thead>\n",
       "  <tbody>\n",
       "    <tr>\n",
       "      <th>294</th>\n",
       "      <td>62.0</td>\n",
       "      <td>0</td>\n",
       "      <td>61</td>\n",
       "      <td>1</td>\n",
       "      <td>38</td>\n",
       "      <td>1</td>\n",
       "      <td>155000.0</td>\n",
       "      <td>1.1</td>\n",
       "      <td>143</td>\n",
       "      <td>1</td>\n",
       "      <td>1</td>\n",
       "      <td>270</td>\n",
       "      <td>0</td>\n",
       "    </tr>\n",
       "    <tr>\n",
       "      <th>295</th>\n",
       "      <td>55.0</td>\n",
       "      <td>0</td>\n",
       "      <td>1820</td>\n",
       "      <td>0</td>\n",
       "      <td>38</td>\n",
       "      <td>0</td>\n",
       "      <td>270000.0</td>\n",
       "      <td>1.2</td>\n",
       "      <td>139</td>\n",
       "      <td>0</td>\n",
       "      <td>0</td>\n",
       "      <td>271</td>\n",
       "      <td>0</td>\n",
       "    </tr>\n",
       "    <tr>\n",
       "      <th>296</th>\n",
       "      <td>45.0</td>\n",
       "      <td>0</td>\n",
       "      <td>2060</td>\n",
       "      <td>1</td>\n",
       "      <td>60</td>\n",
       "      <td>0</td>\n",
       "      <td>742000.0</td>\n",
       "      <td>0.8</td>\n",
       "      <td>138</td>\n",
       "      <td>0</td>\n",
       "      <td>0</td>\n",
       "      <td>278</td>\n",
       "      <td>0</td>\n",
       "    </tr>\n",
       "    <tr>\n",
       "      <th>297</th>\n",
       "      <td>45.0</td>\n",
       "      <td>0</td>\n",
       "      <td>2413</td>\n",
       "      <td>0</td>\n",
       "      <td>38</td>\n",
       "      <td>0</td>\n",
       "      <td>140000.0</td>\n",
       "      <td>1.4</td>\n",
       "      <td>140</td>\n",
       "      <td>1</td>\n",
       "      <td>1</td>\n",
       "      <td>280</td>\n",
       "      <td>0</td>\n",
       "    </tr>\n",
       "    <tr>\n",
       "      <th>298</th>\n",
       "      <td>50.0</td>\n",
       "      <td>0</td>\n",
       "      <td>196</td>\n",
       "      <td>0</td>\n",
       "      <td>45</td>\n",
       "      <td>0</td>\n",
       "      <td>395000.0</td>\n",
       "      <td>1.6</td>\n",
       "      <td>136</td>\n",
       "      <td>1</td>\n",
       "      <td>1</td>\n",
       "      <td>285</td>\n",
       "      <td>0</td>\n",
       "    </tr>\n",
       "  </tbody>\n",
       "</table>\n",
       "</div>"
      ],
      "text/plain": [
       "      age  anaemia  creatinine_phosphokinase  ...  smoking  time  DEATH_EVENT\n",
       "294  62.0        0                        61  ...        1   270            0\n",
       "295  55.0        0                      1820  ...        0   271            0\n",
       "296  45.0        0                      2060  ...        0   278            0\n",
       "297  45.0        0                      2413  ...        1   280            0\n",
       "298  50.0        0                       196  ...        1   285            0\n",
       "\n",
       "[5 rows x 13 columns]"
      ]
     },
     "execution_count": 185,
     "metadata": {},
     "output_type": "execute_result"
    }
   ],
   "source": [
    "df.tail()"
   ]
  },
  {
   "cell_type": "code",
   "execution_count": null,
   "metadata": {
    "colab": {
     "base_uri": "https://localhost:8080/"
    },
    "id": "JBk3fRaDQ_2H",
    "outputId": "ec42b0ad-8cf1-497d-ea7f-e8766cab607a"
   },
   "outputs": [
    {
     "name": "stdout",
     "output_type": "stream",
     "text": [
      "[[0.4585652]]\n"
     ]
    }
   ],
   "source": [
    "# Evaluate the model\n",
    "print(ann.predict(sc.transform([[65, 0, 580, 1, 20, 0, 210000, 1.9, 130, 1, 1,150 ]])))"
   ]
  },
  {
   "cell_type": "code",
   "execution_count": null,
   "metadata": {
    "colab": {
     "base_uri": "https://localhost:8080/"
    },
    "id": "6Un66f3kSijD",
    "outputId": "101c147b-055d-4924-ec1e-49f39c9dea35"
   },
   "outputs": [
    {
     "name": "stdout",
     "output_type": "stream",
     "text": [
      "[[ True]]\n"
     ]
    }
   ],
   "source": [
    "print(ann.predict(sc.transform([[0, 0, 1, 600, 1, 40, 3, 60000, 2, 1, 1, 50000]])) > 0.5)"
   ]
  },
  {
   "cell_type": "code",
   "execution_count": null,
   "metadata": {
    "colab": {
     "base_uri": "https://localhost:8080/",
     "height": 1000
    },
    "id": "CEs-zTc0SnHh",
    "outputId": "b805cce2-8267-4b3f-eb1c-d7db0cf125f4"
   },
   "outputs": [
    {
     "data": {
      "text/html": [
       "<div>\n",
       "<style scoped>\n",
       "    .dataframe tbody tr th:only-of-type {\n",
       "        vertical-align: middle;\n",
       "    }\n",
       "\n",
       "    .dataframe tbody tr th {\n",
       "        vertical-align: top;\n",
       "    }\n",
       "\n",
       "    .dataframe thead th {\n",
       "        text-align: right;\n",
       "    }\n",
       "</style>\n",
       "<table border=\"1\" class=\"dataframe\">\n",
       "  <thead>\n",
       "    <tr style=\"text-align: right;\">\n",
       "      <th></th>\n",
       "      <th>Actual</th>\n",
       "      <th>Predicted</th>\n",
       "    </tr>\n",
       "  </thead>\n",
       "  <tbody>\n",
       "    <tr>\n",
       "      <th>0</th>\n",
       "      <td>0</td>\n",
       "      <td>[False]</td>\n",
       "    </tr>\n",
       "    <tr>\n",
       "      <th>1</th>\n",
       "      <td>0</td>\n",
       "      <td>[False]</td>\n",
       "    </tr>\n",
       "    <tr>\n",
       "      <th>2</th>\n",
       "      <td>1</td>\n",
       "      <td>[False]</td>\n",
       "    </tr>\n",
       "    <tr>\n",
       "      <th>3</th>\n",
       "      <td>0</td>\n",
       "      <td>[False]</td>\n",
       "    </tr>\n",
       "    <tr>\n",
       "      <th>4</th>\n",
       "      <td>0</td>\n",
       "      <td>[False]</td>\n",
       "    </tr>\n",
       "    <tr>\n",
       "      <th>5</th>\n",
       "      <td>0</td>\n",
       "      <td>[False]</td>\n",
       "    </tr>\n",
       "    <tr>\n",
       "      <th>6</th>\n",
       "      <td>0</td>\n",
       "      <td>[True]</td>\n",
       "    </tr>\n",
       "    <tr>\n",
       "      <th>7</th>\n",
       "      <td>0</td>\n",
       "      <td>[False]</td>\n",
       "    </tr>\n",
       "    <tr>\n",
       "      <th>8</th>\n",
       "      <td>1</td>\n",
       "      <td>[True]</td>\n",
       "    </tr>\n",
       "    <tr>\n",
       "      <th>9</th>\n",
       "      <td>0</td>\n",
       "      <td>[False]</td>\n",
       "    </tr>\n",
       "    <tr>\n",
       "      <th>10</th>\n",
       "      <td>0</td>\n",
       "      <td>[False]</td>\n",
       "    </tr>\n",
       "    <tr>\n",
       "      <th>11</th>\n",
       "      <td>1</td>\n",
       "      <td>[False]</td>\n",
       "    </tr>\n",
       "    <tr>\n",
       "      <th>12</th>\n",
       "      <td>1</td>\n",
       "      <td>[False]</td>\n",
       "    </tr>\n",
       "    <tr>\n",
       "      <th>13</th>\n",
       "      <td>1</td>\n",
       "      <td>[False]</td>\n",
       "    </tr>\n",
       "    <tr>\n",
       "      <th>14</th>\n",
       "      <td>1</td>\n",
       "      <td>[False]</td>\n",
       "    </tr>\n",
       "    <tr>\n",
       "      <th>15</th>\n",
       "      <td>1</td>\n",
       "      <td>[False]</td>\n",
       "    </tr>\n",
       "    <tr>\n",
       "      <th>16</th>\n",
       "      <td>0</td>\n",
       "      <td>[False]</td>\n",
       "    </tr>\n",
       "    <tr>\n",
       "      <th>17</th>\n",
       "      <td>0</td>\n",
       "      <td>[False]</td>\n",
       "    </tr>\n",
       "    <tr>\n",
       "      <th>18</th>\n",
       "      <td>0</td>\n",
       "      <td>[False]</td>\n",
       "    </tr>\n",
       "    <tr>\n",
       "      <th>19</th>\n",
       "      <td>0</td>\n",
       "      <td>[True]</td>\n",
       "    </tr>\n",
       "    <tr>\n",
       "      <th>20</th>\n",
       "      <td>0</td>\n",
       "      <td>[False]</td>\n",
       "    </tr>\n",
       "    <tr>\n",
       "      <th>21</th>\n",
       "      <td>0</td>\n",
       "      <td>[False]</td>\n",
       "    </tr>\n",
       "    <tr>\n",
       "      <th>22</th>\n",
       "      <td>1</td>\n",
       "      <td>[False]</td>\n",
       "    </tr>\n",
       "    <tr>\n",
       "      <th>23</th>\n",
       "      <td>0</td>\n",
       "      <td>[False]</td>\n",
       "    </tr>\n",
       "    <tr>\n",
       "      <th>24</th>\n",
       "      <td>1</td>\n",
       "      <td>[False]</td>\n",
       "    </tr>\n",
       "    <tr>\n",
       "      <th>25</th>\n",
       "      <td>0</td>\n",
       "      <td>[False]</td>\n",
       "    </tr>\n",
       "    <tr>\n",
       "      <th>26</th>\n",
       "      <td>1</td>\n",
       "      <td>[False]</td>\n",
       "    </tr>\n",
       "    <tr>\n",
       "      <th>27</th>\n",
       "      <td>0</td>\n",
       "      <td>[False]</td>\n",
       "    </tr>\n",
       "    <tr>\n",
       "      <th>28</th>\n",
       "      <td>0</td>\n",
       "      <td>[False]</td>\n",
       "    </tr>\n",
       "    <tr>\n",
       "      <th>29</th>\n",
       "      <td>0</td>\n",
       "      <td>[False]</td>\n",
       "    </tr>\n",
       "    <tr>\n",
       "      <th>30</th>\n",
       "      <td>0</td>\n",
       "      <td>[False]</td>\n",
       "    </tr>\n",
       "    <tr>\n",
       "      <th>31</th>\n",
       "      <td>1</td>\n",
       "      <td>[False]</td>\n",
       "    </tr>\n",
       "    <tr>\n",
       "      <th>32</th>\n",
       "      <td>1</td>\n",
       "      <td>[False]</td>\n",
       "    </tr>\n",
       "    <tr>\n",
       "      <th>33</th>\n",
       "      <td>0</td>\n",
       "      <td>[False]</td>\n",
       "    </tr>\n",
       "    <tr>\n",
       "      <th>34</th>\n",
       "      <td>1</td>\n",
       "      <td>[True]</td>\n",
       "    </tr>\n",
       "    <tr>\n",
       "      <th>35</th>\n",
       "      <td>1</td>\n",
       "      <td>[False]</td>\n",
       "    </tr>\n",
       "    <tr>\n",
       "      <th>36</th>\n",
       "      <td>0</td>\n",
       "      <td>[False]</td>\n",
       "    </tr>\n",
       "    <tr>\n",
       "      <th>37</th>\n",
       "      <td>1</td>\n",
       "      <td>[False]</td>\n",
       "    </tr>\n",
       "    <tr>\n",
       "      <th>38</th>\n",
       "      <td>0</td>\n",
       "      <td>[False]</td>\n",
       "    </tr>\n",
       "    <tr>\n",
       "      <th>39</th>\n",
       "      <td>1</td>\n",
       "      <td>[True]</td>\n",
       "    </tr>\n",
       "    <tr>\n",
       "      <th>40</th>\n",
       "      <td>0</td>\n",
       "      <td>[False]</td>\n",
       "    </tr>\n",
       "    <tr>\n",
       "      <th>41</th>\n",
       "      <td>0</td>\n",
       "      <td>[False]</td>\n",
       "    </tr>\n",
       "    <tr>\n",
       "      <th>42</th>\n",
       "      <td>0</td>\n",
       "      <td>[False]</td>\n",
       "    </tr>\n",
       "    <tr>\n",
       "      <th>43</th>\n",
       "      <td>1</td>\n",
       "      <td>[False]</td>\n",
       "    </tr>\n",
       "    <tr>\n",
       "      <th>44</th>\n",
       "      <td>1</td>\n",
       "      <td>[False]</td>\n",
       "    </tr>\n",
       "    <tr>\n",
       "      <th>45</th>\n",
       "      <td>0</td>\n",
       "      <td>[False]</td>\n",
       "    </tr>\n",
       "    <tr>\n",
       "      <th>46</th>\n",
       "      <td>0</td>\n",
       "      <td>[False]</td>\n",
       "    </tr>\n",
       "    <tr>\n",
       "      <th>47</th>\n",
       "      <td>0</td>\n",
       "      <td>[False]</td>\n",
       "    </tr>\n",
       "    <tr>\n",
       "      <th>48</th>\n",
       "      <td>1</td>\n",
       "      <td>[False]</td>\n",
       "    </tr>\n",
       "    <tr>\n",
       "      <th>49</th>\n",
       "      <td>1</td>\n",
       "      <td>[False]</td>\n",
       "    </tr>\n",
       "    <tr>\n",
       "      <th>50</th>\n",
       "      <td>0</td>\n",
       "      <td>[False]</td>\n",
       "    </tr>\n",
       "    <tr>\n",
       "      <th>51</th>\n",
       "      <td>0</td>\n",
       "      <td>[False]</td>\n",
       "    </tr>\n",
       "    <tr>\n",
       "      <th>52</th>\n",
       "      <td>0</td>\n",
       "      <td>[False]</td>\n",
       "    </tr>\n",
       "    <tr>\n",
       "      <th>53</th>\n",
       "      <td>0</td>\n",
       "      <td>[False]</td>\n",
       "    </tr>\n",
       "    <tr>\n",
       "      <th>54</th>\n",
       "      <td>1</td>\n",
       "      <td>[False]</td>\n",
       "    </tr>\n",
       "    <tr>\n",
       "      <th>55</th>\n",
       "      <td>1</td>\n",
       "      <td>[True]</td>\n",
       "    </tr>\n",
       "    <tr>\n",
       "      <th>56</th>\n",
       "      <td>0</td>\n",
       "      <td>[False]</td>\n",
       "    </tr>\n",
       "    <tr>\n",
       "      <th>57</th>\n",
       "      <td>1</td>\n",
       "      <td>[True]</td>\n",
       "    </tr>\n",
       "    <tr>\n",
       "      <th>58</th>\n",
       "      <td>0</td>\n",
       "      <td>[False]</td>\n",
       "    </tr>\n",
       "    <tr>\n",
       "      <th>59</th>\n",
       "      <td>0</td>\n",
       "      <td>[False]</td>\n",
       "    </tr>\n",
       "  </tbody>\n",
       "</table>\n",
       "</div>"
      ],
      "text/plain": [
       "    Actual Predicted\n",
       "0        0   [False]\n",
       "1        0   [False]\n",
       "2        1   [False]\n",
       "3        0   [False]\n",
       "4        0   [False]\n",
       "5        0   [False]\n",
       "6        0    [True]\n",
       "7        0   [False]\n",
       "8        1    [True]\n",
       "9        0   [False]\n",
       "10       0   [False]\n",
       "11       1   [False]\n",
       "12       1   [False]\n",
       "13       1   [False]\n",
       "14       1   [False]\n",
       "15       1   [False]\n",
       "16       0   [False]\n",
       "17       0   [False]\n",
       "18       0   [False]\n",
       "19       0    [True]\n",
       "20       0   [False]\n",
       "21       0   [False]\n",
       "22       1   [False]\n",
       "23       0   [False]\n",
       "24       1   [False]\n",
       "25       0   [False]\n",
       "26       1   [False]\n",
       "27       0   [False]\n",
       "28       0   [False]\n",
       "29       0   [False]\n",
       "30       0   [False]\n",
       "31       1   [False]\n",
       "32       1   [False]\n",
       "33       0   [False]\n",
       "34       1    [True]\n",
       "35       1   [False]\n",
       "36       0   [False]\n",
       "37       1   [False]\n",
       "38       0   [False]\n",
       "39       1    [True]\n",
       "40       0   [False]\n",
       "41       0   [False]\n",
       "42       0   [False]\n",
       "43       1   [False]\n",
       "44       1   [False]\n",
       "45       0   [False]\n",
       "46       0   [False]\n",
       "47       0   [False]\n",
       "48       1   [False]\n",
       "49       1   [False]\n",
       "50       0   [False]\n",
       "51       0   [False]\n",
       "52       0   [False]\n",
       "53       0   [False]\n",
       "54       1   [False]\n",
       "55       1    [True]\n",
       "56       0   [False]\n",
       "57       1    [True]\n",
       "58       0   [False]\n",
       "59       0   [False]"
      ]
     },
     "execution_count": 188,
     "metadata": {},
     "output_type": "execute_result"
    }
   ],
   "source": [
    "y_pred = ann.predict(X_test)\n",
    "y_pred = (y_pred > 0.5)\n",
    "pd.DataFrame(list(zip(y_test, y_pred)), columns=['Actual', 'Predicted'])"
   ]
  },
  {
   "cell_type": "markdown",
   "metadata": {
    "id": "I7aKKjHJUSoA"
   },
   "source": [
    "Actual : Gerçek\n",
    "Predicted : Tahmin edilen "
   ]
  },
  {
   "cell_type": "code",
   "execution_count": null,
   "metadata": {
    "colab": {
     "base_uri": "https://localhost:8080/"
    },
    "id": "GZm1Mtr1UJDE",
    "outputId": "d51826f2-f2df-4e1a-8c34-14b57b1d3f55"
   },
   "outputs": [
    {
     "name": "stdout",
     "output_type": "stream",
     "text": [
      "[[35  2]\n",
      " [18  5]]\n",
      "0.6666666666666666\n"
     ]
    }
   ],
   "source": [
    "from sklearn.metrics import confusion_matrix, accuracy_score\n",
    "print(confusion_matrix(y_test, y_pred))\n",
    "print(accuracy_score(y_test, y_pred))"
   ]
  },
  {
   "cell_type": "markdown",
   "metadata": {
    "id": "HgyHo4fde5OW"
   },
   "source": [
    "Şu ana kadar yaptığımız modele verdiğimiz aktivasyon fonksiyonları, derin katman sayısı, nöron\n",
    "sayısı, optimizer türü, epoch sayısına göre doğruluk 0.65 çıktı. Şimdi bu değerleri değiştirerek doğruluğu artırmaya çalışalım.:)"
   ]
  },
  {
   "cell_type": "markdown",
   "metadata": {
    "id": "HIZz8Ci0e9YU"
   },
   "source": [
    "Derin katman sayısını artıralım...\n",
    "Modelimizi tekrar oluşturalım."
   ]
  },
  {
   "cell_type": "code",
   "execution_count": null,
   "metadata": {
    "id": "ipebO4ltdyeR"
   },
   "outputs": [],
   "source": [
    "ann2 = tf.keras.models.Sequential()\n"
   ]
  },
  {
   "cell_type": "markdown",
   "metadata": {
    "id": "lxS5_BJIu2cG"
   },
   "source": [
    "Modelimizi tekrar kurduktan sonra katman sayısını artıralım... İlk deneyimizde 3 katman vardı bu sefer 5 katman yapalım."
   ]
  },
  {
   "cell_type": "markdown",
   "metadata": {
    "id": "fUC0S8_5vsKm"
   },
   "source": [
    "Giriş katmanını ekleyelim."
   ]
  },
  {
   "cell_type": "code",
   "execution_count": null,
   "metadata": {
    "id": "klAur4Q-ufiz"
   },
   "outputs": [],
   "source": [
    "ann2.add(tf.keras.layers.Dense(units=12, activation='relu', input_shape=X_train[0].shape))"
   ]
  },
  {
   "cell_type": "markdown",
   "metadata": {
    "id": "64aHS1Bkv1R8"
   },
   "source": [
    "Ara (gizli) katmanları da ekleyelim."
   ]
  },
  {
   "cell_type": "code",
   "execution_count": null,
   "metadata": {
    "id": "5AfA8S45uoqk"
   },
   "outputs": [],
   "source": [
    "ann2.add(tf.keras.layers.Dense(units=8, activation='relu'))"
   ]
  },
  {
   "cell_type": "code",
   "execution_count": null,
   "metadata": {
    "id": "8Z3EDMTtvR3h"
   },
   "outputs": [],
   "source": [
    "ann2.add(tf.keras.layers.Dense(units=8, activation='relu'))"
   ]
  },
  {
   "cell_type": "code",
   "execution_count": null,
   "metadata": {
    "id": "upM9kN5gvSvx"
   },
   "outputs": [],
   "source": [
    "ann2.add(tf.keras.layers.Dense(units=8, activation='relu'))"
   ]
  },
  {
   "cell_type": "markdown",
   "metadata": {
    "id": "AECq3hUOwBQM"
   },
   "source": [
    "Çıkış katmanı ile bitirelim."
   ]
  },
  {
   "cell_type": "code",
   "execution_count": null,
   "metadata": {
    "id": "A4XMAQ6Suq3d"
   },
   "outputs": [],
   "source": [
    "ann2.add(tf.keras.layers.Dense(units=1, activation='sigmoid'))"
   ]
  },
  {
   "cell_type": "code",
   "execution_count": null,
   "metadata": {
    "colab": {
     "base_uri": "https://localhost:8080/"
    },
    "id": "lIRIU1v6wJJj",
    "outputId": "ec69197a-9e82-403b-868d-11b1db1d5aa3"
   },
   "outputs": [
    {
     "name": "stdout",
     "output_type": "stream",
     "text": [
      "Model: \"sequential_5\"\n",
      "_________________________________________________________________\n",
      "Layer (type)                 Output Shape              Param #   \n",
      "=================================================================\n",
      "dense_14 (Dense)             (None, 12)                156       \n",
      "_________________________________________________________________\n",
      "dense_15 (Dense)             (None, 8)                 104       \n",
      "_________________________________________________________________\n",
      "dense_16 (Dense)             (None, 8)                 72        \n",
      "_________________________________________________________________\n",
      "dense_17 (Dense)             (None, 8)                 72        \n",
      "_________________________________________________________________\n",
      "dense_18 (Dense)             (None, 1)                 9         \n",
      "=================================================================\n",
      "Total params: 413\n",
      "Trainable params: 413\n",
      "Non-trainable params: 0\n",
      "_________________________________________________________________\n"
     ]
    }
   ],
   "source": [
    "ann2.summary()"
   ]
  },
  {
   "cell_type": "markdown",
   "metadata": {
    "id": "nbsNP9hQwpDI"
   },
   "source": [
    "Katman sayısını artırınca parametre sayısı da arttı."
   ]
  },
  {
   "cell_type": "code",
   "execution_count": null,
   "metadata": {
    "colab": {
     "base_uri": "https://localhost:8080/"
    },
    "id": "VdHNyStTwmyJ",
    "outputId": "b74305c9-2fb3-4c1b-99fe-655124808284"
   },
   "outputs": [
    {
     "name": "stdout",
     "output_type": "stream",
     "text": [
      "Epoch 1/20\n",
      "8/8 [==============================] - 0s 3ms/step - loss: 0.6888 - accuracy: 0.6318\n",
      "Epoch 2/20\n",
      "8/8 [==============================] - 0s 2ms/step - loss: 0.6750 - accuracy: 0.6862\n",
      "Epoch 3/20\n",
      "8/8 [==============================] - 0s 2ms/step - loss: 0.6637 - accuracy: 0.6946\n",
      "Epoch 4/20\n",
      "8/8 [==============================] - 0s 4ms/step - loss: 0.6514 - accuracy: 0.7029\n",
      "Epoch 5/20\n",
      "8/8 [==============================] - 0s 3ms/step - loss: 0.6396 - accuracy: 0.7071\n",
      "Epoch 6/20\n",
      "8/8 [==============================] - 0s 3ms/step - loss: 0.6279 - accuracy: 0.7113\n",
      "Epoch 7/20\n",
      "8/8 [==============================] - 0s 2ms/step - loss: 0.6155 - accuracy: 0.7155\n",
      "Epoch 8/20\n",
      "8/8 [==============================] - 0s 2ms/step - loss: 0.6014 - accuracy: 0.7322\n",
      "Epoch 9/20\n",
      "8/8 [==============================] - 0s 2ms/step - loss: 0.5878 - accuracy: 0.7448\n",
      "Epoch 10/20\n",
      "8/8 [==============================] - 0s 3ms/step - loss: 0.5731 - accuracy: 0.7573\n",
      "Epoch 11/20\n",
      "8/8 [==============================] - 0s 2ms/step - loss: 0.5594 - accuracy: 0.7615\n",
      "Epoch 12/20\n",
      "8/8 [==============================] - 0s 2ms/step - loss: 0.5454 - accuracy: 0.7657\n",
      "Epoch 13/20\n",
      "8/8 [==============================] - 0s 2ms/step - loss: 0.5315 - accuracy: 0.7741\n",
      "Epoch 14/20\n",
      "8/8 [==============================] - 0s 3ms/step - loss: 0.5180 - accuracy: 0.7657\n",
      "Epoch 15/20\n",
      "8/8 [==============================] - 0s 2ms/step - loss: 0.5042 - accuracy: 0.7741\n",
      "Epoch 16/20\n",
      "8/8 [==============================] - 0s 3ms/step - loss: 0.4910 - accuracy: 0.7741\n",
      "Epoch 17/20\n",
      "8/8 [==============================] - 0s 3ms/step - loss: 0.4785 - accuracy: 0.7866\n",
      "Epoch 18/20\n",
      "8/8 [==============================] - 0s 2ms/step - loss: 0.4654 - accuracy: 0.7950\n",
      "Epoch 19/20\n",
      "8/8 [==============================] - 0s 3ms/step - loss: 0.4530 - accuracy: 0.8117\n",
      "Epoch 20/20\n",
      "8/8 [==============================] - 0s 3ms/step - loss: 0.4396 - accuracy: 0.8159\n"
     ]
    },
    {
     "data": {
      "text/plain": [
       "<keras.callbacks.History at 0x7fd9a61f8f50>"
      ]
     },
     "execution_count": 205,
     "metadata": {},
     "output_type": "execute_result"
    }
   ],
   "source": [
    "ann2.compile(optimizer = 'adam', loss = 'binary_crossentropy', metrics = ['accuracy'])\n",
    "ann2.fit(X_train, y_train, batch_size = 32, epochs = 20)"
   ]
  },
  {
   "cell_type": "markdown",
   "metadata": {
    "id": "XfM5SAJAxfyF"
   },
   "source": [
    "Derin katman sayısını artırınca (geçen 3 katmanlıya göre)\n",
    " accuracy arttı."
   ]
  },
  {
   "cell_type": "code",
   "execution_count": null,
   "metadata": {
    "colab": {
     "base_uri": "https://localhost:8080/",
     "height": 1000
    },
    "id": "55Jt5veaw_lA",
    "outputId": "38a994c4-d015-4c8b-efcf-058e22f638da"
   },
   "outputs": [
    {
     "data": {
      "text/html": [
       "<div>\n",
       "<style scoped>\n",
       "    .dataframe tbody tr th:only-of-type {\n",
       "        vertical-align: middle;\n",
       "    }\n",
       "\n",
       "    .dataframe tbody tr th {\n",
       "        vertical-align: top;\n",
       "    }\n",
       "\n",
       "    .dataframe thead th {\n",
       "        text-align: right;\n",
       "    }\n",
       "</style>\n",
       "<table border=\"1\" class=\"dataframe\">\n",
       "  <thead>\n",
       "    <tr style=\"text-align: right;\">\n",
       "      <th></th>\n",
       "      <th>Gerçek</th>\n",
       "      <th>Tahmin_Edilen</th>\n",
       "    </tr>\n",
       "  </thead>\n",
       "  <tbody>\n",
       "    <tr>\n",
       "      <th>0</th>\n",
       "      <td>0</td>\n",
       "      <td>[False]</td>\n",
       "    </tr>\n",
       "    <tr>\n",
       "      <th>1</th>\n",
       "      <td>0</td>\n",
       "      <td>[False]</td>\n",
       "    </tr>\n",
       "    <tr>\n",
       "      <th>2</th>\n",
       "      <td>1</td>\n",
       "      <td>[False]</td>\n",
       "    </tr>\n",
       "    <tr>\n",
       "      <th>3</th>\n",
       "      <td>0</td>\n",
       "      <td>[False]</td>\n",
       "    </tr>\n",
       "    <tr>\n",
       "      <th>4</th>\n",
       "      <td>0</td>\n",
       "      <td>[False]</td>\n",
       "    </tr>\n",
       "    <tr>\n",
       "      <th>5</th>\n",
       "      <td>0</td>\n",
       "      <td>[False]</td>\n",
       "    </tr>\n",
       "    <tr>\n",
       "      <th>6</th>\n",
       "      <td>0</td>\n",
       "      <td>[True]</td>\n",
       "    </tr>\n",
       "    <tr>\n",
       "      <th>7</th>\n",
       "      <td>0</td>\n",
       "      <td>[False]</td>\n",
       "    </tr>\n",
       "    <tr>\n",
       "      <th>8</th>\n",
       "      <td>1</td>\n",
       "      <td>[True]</td>\n",
       "    </tr>\n",
       "    <tr>\n",
       "      <th>9</th>\n",
       "      <td>0</td>\n",
       "      <td>[True]</td>\n",
       "    </tr>\n",
       "    <tr>\n",
       "      <th>10</th>\n",
       "      <td>0</td>\n",
       "      <td>[False]</td>\n",
       "    </tr>\n",
       "    <tr>\n",
       "      <th>11</th>\n",
       "      <td>1</td>\n",
       "      <td>[True]</td>\n",
       "    </tr>\n",
       "    <tr>\n",
       "      <th>12</th>\n",
       "      <td>1</td>\n",
       "      <td>[False]</td>\n",
       "    </tr>\n",
       "    <tr>\n",
       "      <th>13</th>\n",
       "      <td>1</td>\n",
       "      <td>[False]</td>\n",
       "    </tr>\n",
       "    <tr>\n",
       "      <th>14</th>\n",
       "      <td>1</td>\n",
       "      <td>[True]</td>\n",
       "    </tr>\n",
       "    <tr>\n",
       "      <th>15</th>\n",
       "      <td>1</td>\n",
       "      <td>[True]</td>\n",
       "    </tr>\n",
       "    <tr>\n",
       "      <th>16</th>\n",
       "      <td>0</td>\n",
       "      <td>[False]</td>\n",
       "    </tr>\n",
       "    <tr>\n",
       "      <th>17</th>\n",
       "      <td>0</td>\n",
       "      <td>[False]</td>\n",
       "    </tr>\n",
       "    <tr>\n",
       "      <th>18</th>\n",
       "      <td>0</td>\n",
       "      <td>[False]</td>\n",
       "    </tr>\n",
       "    <tr>\n",
       "      <th>19</th>\n",
       "      <td>0</td>\n",
       "      <td>[False]</td>\n",
       "    </tr>\n",
       "    <tr>\n",
       "      <th>20</th>\n",
       "      <td>0</td>\n",
       "      <td>[True]</td>\n",
       "    </tr>\n",
       "    <tr>\n",
       "      <th>21</th>\n",
       "      <td>0</td>\n",
       "      <td>[False]</td>\n",
       "    </tr>\n",
       "    <tr>\n",
       "      <th>22</th>\n",
       "      <td>1</td>\n",
       "      <td>[True]</td>\n",
       "    </tr>\n",
       "    <tr>\n",
       "      <th>23</th>\n",
       "      <td>0</td>\n",
       "      <td>[True]</td>\n",
       "    </tr>\n",
       "    <tr>\n",
       "      <th>24</th>\n",
       "      <td>1</td>\n",
       "      <td>[False]</td>\n",
       "    </tr>\n",
       "    <tr>\n",
       "      <th>25</th>\n",
       "      <td>0</td>\n",
       "      <td>[False]</td>\n",
       "    </tr>\n",
       "    <tr>\n",
       "      <th>26</th>\n",
       "      <td>1</td>\n",
       "      <td>[False]</td>\n",
       "    </tr>\n",
       "    <tr>\n",
       "      <th>27</th>\n",
       "      <td>0</td>\n",
       "      <td>[False]</td>\n",
       "    </tr>\n",
       "    <tr>\n",
       "      <th>28</th>\n",
       "      <td>0</td>\n",
       "      <td>[False]</td>\n",
       "    </tr>\n",
       "    <tr>\n",
       "      <th>29</th>\n",
       "      <td>0</td>\n",
       "      <td>[False]</td>\n",
       "    </tr>\n",
       "    <tr>\n",
       "      <th>30</th>\n",
       "      <td>0</td>\n",
       "      <td>[False]</td>\n",
       "    </tr>\n",
       "    <tr>\n",
       "      <th>31</th>\n",
       "      <td>1</td>\n",
       "      <td>[True]</td>\n",
       "    </tr>\n",
       "    <tr>\n",
       "      <th>32</th>\n",
       "      <td>1</td>\n",
       "      <td>[True]</td>\n",
       "    </tr>\n",
       "    <tr>\n",
       "      <th>33</th>\n",
       "      <td>0</td>\n",
       "      <td>[False]</td>\n",
       "    </tr>\n",
       "    <tr>\n",
       "      <th>34</th>\n",
       "      <td>1</td>\n",
       "      <td>[True]</td>\n",
       "    </tr>\n",
       "    <tr>\n",
       "      <th>35</th>\n",
       "      <td>1</td>\n",
       "      <td>[True]</td>\n",
       "    </tr>\n",
       "    <tr>\n",
       "      <th>36</th>\n",
       "      <td>0</td>\n",
       "      <td>[False]</td>\n",
       "    </tr>\n",
       "    <tr>\n",
       "      <th>37</th>\n",
       "      <td>1</td>\n",
       "      <td>[False]</td>\n",
       "    </tr>\n",
       "    <tr>\n",
       "      <th>38</th>\n",
       "      <td>0</td>\n",
       "      <td>[False]</td>\n",
       "    </tr>\n",
       "    <tr>\n",
       "      <th>39</th>\n",
       "      <td>1</td>\n",
       "      <td>[True]</td>\n",
       "    </tr>\n",
       "    <tr>\n",
       "      <th>40</th>\n",
       "      <td>0</td>\n",
       "      <td>[False]</td>\n",
       "    </tr>\n",
       "    <tr>\n",
       "      <th>41</th>\n",
       "      <td>0</td>\n",
       "      <td>[False]</td>\n",
       "    </tr>\n",
       "    <tr>\n",
       "      <th>42</th>\n",
       "      <td>0</td>\n",
       "      <td>[True]</td>\n",
       "    </tr>\n",
       "    <tr>\n",
       "      <th>43</th>\n",
       "      <td>1</td>\n",
       "      <td>[False]</td>\n",
       "    </tr>\n",
       "    <tr>\n",
       "      <th>44</th>\n",
       "      <td>1</td>\n",
       "      <td>[True]</td>\n",
       "    </tr>\n",
       "    <tr>\n",
       "      <th>45</th>\n",
       "      <td>0</td>\n",
       "      <td>[False]</td>\n",
       "    </tr>\n",
       "    <tr>\n",
       "      <th>46</th>\n",
       "      <td>0</td>\n",
       "      <td>[False]</td>\n",
       "    </tr>\n",
       "    <tr>\n",
       "      <th>47</th>\n",
       "      <td>0</td>\n",
       "      <td>[False]</td>\n",
       "    </tr>\n",
       "    <tr>\n",
       "      <th>48</th>\n",
       "      <td>1</td>\n",
       "      <td>[True]</td>\n",
       "    </tr>\n",
       "    <tr>\n",
       "      <th>49</th>\n",
       "      <td>1</td>\n",
       "      <td>[False]</td>\n",
       "    </tr>\n",
       "    <tr>\n",
       "      <th>50</th>\n",
       "      <td>0</td>\n",
       "      <td>[False]</td>\n",
       "    </tr>\n",
       "    <tr>\n",
       "      <th>51</th>\n",
       "      <td>0</td>\n",
       "      <td>[False]</td>\n",
       "    </tr>\n",
       "    <tr>\n",
       "      <th>52</th>\n",
       "      <td>0</td>\n",
       "      <td>[False]</td>\n",
       "    </tr>\n",
       "    <tr>\n",
       "      <th>53</th>\n",
       "      <td>0</td>\n",
       "      <td>[False]</td>\n",
       "    </tr>\n",
       "    <tr>\n",
       "      <th>54</th>\n",
       "      <td>1</td>\n",
       "      <td>[False]</td>\n",
       "    </tr>\n",
       "    <tr>\n",
       "      <th>55</th>\n",
       "      <td>1</td>\n",
       "      <td>[False]</td>\n",
       "    </tr>\n",
       "    <tr>\n",
       "      <th>56</th>\n",
       "      <td>0</td>\n",
       "      <td>[False]</td>\n",
       "    </tr>\n",
       "    <tr>\n",
       "      <th>57</th>\n",
       "      <td>1</td>\n",
       "      <td>[True]</td>\n",
       "    </tr>\n",
       "    <tr>\n",
       "      <th>58</th>\n",
       "      <td>0</td>\n",
       "      <td>[False]</td>\n",
       "    </tr>\n",
       "    <tr>\n",
       "      <th>59</th>\n",
       "      <td>0</td>\n",
       "      <td>[False]</td>\n",
       "    </tr>\n",
       "  </tbody>\n",
       "</table>\n",
       "</div>"
      ],
      "text/plain": [
       "    Gerçek Tahmin_Edilen\n",
       "0        0       [False]\n",
       "1        0       [False]\n",
       "2        1       [False]\n",
       "3        0       [False]\n",
       "4        0       [False]\n",
       "5        0       [False]\n",
       "6        0        [True]\n",
       "7        0       [False]\n",
       "8        1        [True]\n",
       "9        0        [True]\n",
       "10       0       [False]\n",
       "11       1        [True]\n",
       "12       1       [False]\n",
       "13       1       [False]\n",
       "14       1        [True]\n",
       "15       1        [True]\n",
       "16       0       [False]\n",
       "17       0       [False]\n",
       "18       0       [False]\n",
       "19       0       [False]\n",
       "20       0        [True]\n",
       "21       0       [False]\n",
       "22       1        [True]\n",
       "23       0        [True]\n",
       "24       1       [False]\n",
       "25       0       [False]\n",
       "26       1       [False]\n",
       "27       0       [False]\n",
       "28       0       [False]\n",
       "29       0       [False]\n",
       "30       0       [False]\n",
       "31       1        [True]\n",
       "32       1        [True]\n",
       "33       0       [False]\n",
       "34       1        [True]\n",
       "35       1        [True]\n",
       "36       0       [False]\n",
       "37       1       [False]\n",
       "38       0       [False]\n",
       "39       1        [True]\n",
       "40       0       [False]\n",
       "41       0       [False]\n",
       "42       0        [True]\n",
       "43       1       [False]\n",
       "44       1        [True]\n",
       "45       0       [False]\n",
       "46       0       [False]\n",
       "47       0       [False]\n",
       "48       1        [True]\n",
       "49       1       [False]\n",
       "50       0       [False]\n",
       "51       0       [False]\n",
       "52       0       [False]\n",
       "53       0       [False]\n",
       "54       1       [False]\n",
       "55       1       [False]\n",
       "56       0       [False]\n",
       "57       1        [True]\n",
       "58       0       [False]\n",
       "59       0       [False]"
      ]
     },
     "execution_count": 208,
     "metadata": {},
     "output_type": "execute_result"
    }
   ],
   "source": [
    "y_pred = ann2.predict(X_test)\n",
    "y_pred = (y_pred > 0.5)\n",
    "pd.DataFrame(list(zip(y_test, y_pred)), columns=['Gerçek', 'Tahmin_Edilen'])"
   ]
  },
  {
   "cell_type": "code",
   "execution_count": null,
   "metadata": {
    "colab": {
     "base_uri": "https://localhost:8080/"
    },
    "id": "1RfDRhfCxV3q",
    "outputId": "dc9841c0-90ce-4792-ab81-c1e3f914ba96"
   },
   "outputs": [
    {
     "name": "stdout",
     "output_type": "stream",
     "text": [
      "[[32  5]\n",
      " [10 13]]\n",
      "0.75\n"
     ]
    }
   ],
   "source": [
    "from sklearn.metrics import confusion_matrix, accuracy_score\n",
    "print(confusion_matrix(y_test, y_pred))\n",
    "print(accuracy_score(y_test, y_pred))"
   ]
  },
  {
   "cell_type": "markdown",
   "metadata": {
    "id": "fJxrGr1IyKQe"
   },
   "source": [
    "Accuracy_score => 0.65'den 0.75'e çıktı."
   ]
  },
  {
   "cell_type": "markdown",
   "metadata": {
    "id": "Ta4x0mbGy6oZ"
   },
   "source": [
    "Şimdi de epoch sayısını artırarak deneyelim.İlk olarak 20 yapmıştık. Yavaş yavaş artırarak gözlemleyelim."
   ]
  },
  {
   "cell_type": "code",
   "execution_count": null,
   "metadata": {
    "colab": {
     "base_uri": "https://localhost:8080/"
    },
    "id": "yQtc8Eyjy15Q",
    "outputId": "7f877e21-4f80-48ec-8cbd-c684b2819ed0"
   },
   "outputs": [
    {
     "name": "stdout",
     "output_type": "stream",
     "text": [
      "Epoch 1/30\n",
      "8/8 [==============================] - 0s 2ms/step - loss: 0.4285 - accuracy: 0.8159\n",
      "Epoch 2/30\n",
      "8/8 [==============================] - 0s 2ms/step - loss: 0.4159 - accuracy: 0.8326\n",
      "Epoch 3/30\n",
      "8/8 [==============================] - 0s 2ms/step - loss: 0.4049 - accuracy: 0.8410\n",
      "Epoch 4/30\n",
      "8/8 [==============================] - 0s 3ms/step - loss: 0.3953 - accuracy: 0.8452\n",
      "Epoch 5/30\n",
      "8/8 [==============================] - 0s 2ms/step - loss: 0.3850 - accuracy: 0.8452\n",
      "Epoch 6/30\n",
      "8/8 [==============================] - 0s 3ms/step - loss: 0.3771 - accuracy: 0.8536\n",
      "Epoch 7/30\n",
      "8/8 [==============================] - 0s 3ms/step - loss: 0.3679 - accuracy: 0.8536\n",
      "Epoch 8/30\n",
      "8/8 [==============================] - 0s 3ms/step - loss: 0.3609 - accuracy: 0.8536\n",
      "Epoch 9/30\n",
      "8/8 [==============================] - 0s 2ms/step - loss: 0.3533 - accuracy: 0.8577\n",
      "Epoch 10/30\n",
      "8/8 [==============================] - 0s 3ms/step - loss: 0.3474 - accuracy: 0.8536\n",
      "Epoch 11/30\n",
      "8/8 [==============================] - 0s 2ms/step - loss: 0.3410 - accuracy: 0.8577\n",
      "Epoch 12/30\n",
      "8/8 [==============================] - 0s 2ms/step - loss: 0.3367 - accuracy: 0.8536\n",
      "Epoch 13/30\n",
      "8/8 [==============================] - 0s 3ms/step - loss: 0.3319 - accuracy: 0.8577\n",
      "Epoch 14/30\n",
      "8/8 [==============================] - 0s 3ms/step - loss: 0.3275 - accuracy: 0.8619\n",
      "Epoch 15/30\n",
      "8/8 [==============================] - 0s 2ms/step - loss: 0.3241 - accuracy: 0.8619\n",
      "Epoch 16/30\n",
      "8/8 [==============================] - 0s 2ms/step - loss: 0.3198 - accuracy: 0.8619\n",
      "Epoch 17/30\n",
      "8/8 [==============================] - 0s 3ms/step - loss: 0.3162 - accuracy: 0.8619\n",
      "Epoch 18/30\n",
      "8/8 [==============================] - 0s 3ms/step - loss: 0.3126 - accuracy: 0.8619\n",
      "Epoch 19/30\n",
      "8/8 [==============================] - 0s 2ms/step - loss: 0.3099 - accuracy: 0.8619\n",
      "Epoch 20/30\n",
      "8/8 [==============================] - 0s 2ms/step - loss: 0.3064 - accuracy: 0.8661\n",
      "Epoch 21/30\n",
      "8/8 [==============================] - 0s 2ms/step - loss: 0.3037 - accuracy: 0.8619\n",
      "Epoch 22/30\n",
      "8/8 [==============================] - 0s 2ms/step - loss: 0.3005 - accuracy: 0.8661\n",
      "Epoch 23/30\n",
      "8/8 [==============================] - 0s 3ms/step - loss: 0.2980 - accuracy: 0.8703\n",
      "Epoch 24/30\n",
      "8/8 [==============================] - 0s 2ms/step - loss: 0.2961 - accuracy: 0.8703\n",
      "Epoch 25/30\n",
      "8/8 [==============================] - 0s 2ms/step - loss: 0.2926 - accuracy: 0.8703\n",
      "Epoch 26/30\n",
      "8/8 [==============================] - 0s 2ms/step - loss: 0.2898 - accuracy: 0.8703\n",
      "Epoch 27/30\n",
      "8/8 [==============================] - 0s 2ms/step - loss: 0.2869 - accuracy: 0.8703\n",
      "Epoch 28/30\n",
      "8/8 [==============================] - 0s 3ms/step - loss: 0.2849 - accuracy: 0.8703\n",
      "Epoch 29/30\n",
      "8/8 [==============================] - 0s 3ms/step - loss: 0.2825 - accuracy: 0.8745\n",
      "Epoch 30/30\n",
      "8/8 [==============================] - 0s 2ms/step - loss: 0.2790 - accuracy: 0.8787\n"
     ]
    },
    {
     "data": {
      "text/plain": [
       "<keras.callbacks.History at 0x7fd991bb2c50>"
      ]
     },
     "execution_count": 210,
     "metadata": {},
     "output_type": "execute_result"
    }
   ],
   "source": [
    "ann2.compile(optimizer = 'adam', loss = 'binary_crossentropy', metrics = ['accuracy'])\n",
    "ann2.fit(X_train, y_train, batch_size = 32, epochs = 30)"
   ]
  },
  {
   "cell_type": "markdown",
   "metadata": {
    "id": "lJAEJmzgzXXY"
   },
   "source": [
    "Accuracy:0.8787'ye çıkmış"
   ]
  },
  {
   "cell_type": "code",
   "execution_count": null,
   "metadata": {
    "colab": {
     "base_uri": "https://localhost:8080/"
    },
    "id": "byLCApXnyJnb",
    "outputId": "53a3621e-3f8a-4ac7-a853-a4afd22d4cd0"
   },
   "outputs": [
    {
     "name": "stdout",
     "output_type": "stream",
     "text": [
      "Epoch 1/100\n",
      "8/8 [==============================] - 0s 2ms/step - loss: 0.2801 - accuracy: 0.8828\n",
      "Epoch 2/100\n",
      "8/8 [==============================] - 0s 2ms/step - loss: 0.2753 - accuracy: 0.8828\n",
      "Epoch 3/100\n",
      "8/8 [==============================] - 0s 2ms/step - loss: 0.2727 - accuracy: 0.8787\n",
      "Epoch 4/100\n",
      "8/8 [==============================] - 0s 2ms/step - loss: 0.2702 - accuracy: 0.8787\n",
      "Epoch 5/100\n",
      "8/8 [==============================] - 0s 4ms/step - loss: 0.2674 - accuracy: 0.8870\n",
      "Epoch 6/100\n",
      "8/8 [==============================] - 0s 2ms/step - loss: 0.2662 - accuracy: 0.8870\n",
      "Epoch 7/100\n",
      "8/8 [==============================] - 0s 3ms/step - loss: 0.2640 - accuracy: 0.8870\n",
      "Epoch 8/100\n",
      "8/8 [==============================] - 0s 3ms/step - loss: 0.2613 - accuracy: 0.8870\n",
      "Epoch 9/100\n",
      "8/8 [==============================] - 0s 2ms/step - loss: 0.2614 - accuracy: 0.8912\n",
      "Epoch 10/100\n",
      "8/8 [==============================] - 0s 2ms/step - loss: 0.2565 - accuracy: 0.8954\n",
      "Epoch 11/100\n",
      "8/8 [==============================] - 0s 2ms/step - loss: 0.2546 - accuracy: 0.8912\n",
      "Epoch 12/100\n",
      "8/8 [==============================] - 0s 2ms/step - loss: 0.2526 - accuracy: 0.8912\n",
      "Epoch 13/100\n",
      "8/8 [==============================] - 0s 2ms/step - loss: 0.2501 - accuracy: 0.8996\n",
      "Epoch 14/100\n",
      "8/8 [==============================] - 0s 3ms/step - loss: 0.2482 - accuracy: 0.8996\n",
      "Epoch 15/100\n",
      "8/8 [==============================] - 0s 2ms/step - loss: 0.2461 - accuracy: 0.8996\n",
      "Epoch 16/100\n",
      "8/8 [==============================] - 0s 2ms/step - loss: 0.2438 - accuracy: 0.8996\n",
      "Epoch 17/100\n",
      "8/8 [==============================] - 0s 3ms/step - loss: 0.2421 - accuracy: 0.8996\n",
      "Epoch 18/100\n",
      "8/8 [==============================] - 0s 3ms/step - loss: 0.2402 - accuracy: 0.8996\n",
      "Epoch 19/100\n",
      "8/8 [==============================] - 0s 2ms/step - loss: 0.2382 - accuracy: 0.8996\n",
      "Epoch 20/100\n",
      "8/8 [==============================] - 0s 2ms/step - loss: 0.2361 - accuracy: 0.8996\n",
      "Epoch 21/100\n",
      "8/8 [==============================] - 0s 3ms/step - loss: 0.2342 - accuracy: 0.9079\n",
      "Epoch 22/100\n",
      "8/8 [==============================] - 0s 2ms/step - loss: 0.2326 - accuracy: 0.9038\n",
      "Epoch 23/100\n",
      "8/8 [==============================] - 0s 2ms/step - loss: 0.2308 - accuracy: 0.9038\n",
      "Epoch 24/100\n",
      "8/8 [==============================] - 0s 3ms/step - loss: 0.2294 - accuracy: 0.8954\n",
      "Epoch 25/100\n",
      "8/8 [==============================] - 0s 3ms/step - loss: 0.2272 - accuracy: 0.9038\n",
      "Epoch 26/100\n",
      "8/8 [==============================] - 0s 3ms/step - loss: 0.2257 - accuracy: 0.9121\n",
      "Epoch 27/100\n",
      "8/8 [==============================] - 0s 3ms/step - loss: 0.2244 - accuracy: 0.9121\n",
      "Epoch 28/100\n",
      "8/8 [==============================] - 0s 3ms/step - loss: 0.2225 - accuracy: 0.9079\n",
      "Epoch 29/100\n",
      "8/8 [==============================] - 0s 3ms/step - loss: 0.2212 - accuracy: 0.9163\n",
      "Epoch 30/100\n",
      "8/8 [==============================] - 0s 2ms/step - loss: 0.2195 - accuracy: 0.9163\n",
      "Epoch 31/100\n",
      "8/8 [==============================] - 0s 2ms/step - loss: 0.2182 - accuracy: 0.9121\n",
      "Epoch 32/100\n",
      "8/8 [==============================] - 0s 2ms/step - loss: 0.2169 - accuracy: 0.9163\n",
      "Epoch 33/100\n",
      "8/8 [==============================] - 0s 2ms/step - loss: 0.2158 - accuracy: 0.9163\n",
      "Epoch 34/100\n",
      "8/8 [==============================] - 0s 2ms/step - loss: 0.2139 - accuracy: 0.9163\n",
      "Epoch 35/100\n",
      "8/8 [==============================] - 0s 3ms/step - loss: 0.2125 - accuracy: 0.9163\n",
      "Epoch 36/100\n",
      "8/8 [==============================] - 0s 2ms/step - loss: 0.2108 - accuracy: 0.9163\n",
      "Epoch 37/100\n",
      "8/8 [==============================] - 0s 2ms/step - loss: 0.2095 - accuracy: 0.9163\n",
      "Epoch 38/100\n",
      "8/8 [==============================] - 0s 3ms/step - loss: 0.2080 - accuracy: 0.9163\n",
      "Epoch 39/100\n",
      "8/8 [==============================] - 0s 2ms/step - loss: 0.2067 - accuracy: 0.9163\n",
      "Epoch 40/100\n",
      "8/8 [==============================] - 0s 2ms/step - loss: 0.2047 - accuracy: 0.9163\n",
      "Epoch 41/100\n",
      "8/8 [==============================] - 0s 3ms/step - loss: 0.2033 - accuracy: 0.9163\n",
      "Epoch 42/100\n",
      "8/8 [==============================] - 0s 2ms/step - loss: 0.2017 - accuracy: 0.9163\n",
      "Epoch 43/100\n",
      "8/8 [==============================] - 0s 2ms/step - loss: 0.2001 - accuracy: 0.9163\n",
      "Epoch 44/100\n",
      "8/8 [==============================] - 0s 2ms/step - loss: 0.1982 - accuracy: 0.9163\n",
      "Epoch 45/100\n",
      "8/8 [==============================] - 0s 2ms/step - loss: 0.1969 - accuracy: 0.9163\n",
      "Epoch 46/100\n",
      "8/8 [==============================] - 0s 2ms/step - loss: 0.1956 - accuracy: 0.9163\n",
      "Epoch 47/100\n",
      "8/8 [==============================] - 0s 3ms/step - loss: 0.1941 - accuracy: 0.9163\n",
      "Epoch 48/100\n",
      "8/8 [==============================] - 0s 2ms/step - loss: 0.1925 - accuracy: 0.9163\n",
      "Epoch 49/100\n",
      "8/8 [==============================] - 0s 3ms/step - loss: 0.1908 - accuracy: 0.9163\n",
      "Epoch 50/100\n",
      "8/8 [==============================] - 0s 3ms/step - loss: 0.1891 - accuracy: 0.9163\n",
      "Epoch 51/100\n",
      "8/8 [==============================] - 0s 3ms/step - loss: 0.1874 - accuracy: 0.9205\n",
      "Epoch 52/100\n",
      "8/8 [==============================] - 0s 3ms/step - loss: 0.1854 - accuracy: 0.9205\n",
      "Epoch 53/100\n",
      "8/8 [==============================] - 0s 2ms/step - loss: 0.1845 - accuracy: 0.9205\n",
      "Epoch 54/100\n",
      "8/8 [==============================] - 0s 3ms/step - loss: 0.1825 - accuracy: 0.9205\n",
      "Epoch 55/100\n",
      "8/8 [==============================] - 0s 2ms/step - loss: 0.1819 - accuracy: 0.9205\n",
      "Epoch 56/100\n",
      "8/8 [==============================] - 0s 2ms/step - loss: 0.1797 - accuracy: 0.9247\n",
      "Epoch 57/100\n",
      "8/8 [==============================] - 0s 3ms/step - loss: 0.1787 - accuracy: 0.9205\n",
      "Epoch 58/100\n",
      "8/8 [==============================] - 0s 3ms/step - loss: 0.1766 - accuracy: 0.9205\n",
      "Epoch 59/100\n",
      "8/8 [==============================] - 0s 3ms/step - loss: 0.1752 - accuracy: 0.9205\n",
      "Epoch 60/100\n",
      "8/8 [==============================] - 0s 2ms/step - loss: 0.1736 - accuracy: 0.9205\n",
      "Epoch 61/100\n",
      "8/8 [==============================] - 0s 2ms/step - loss: 0.1720 - accuracy: 0.9205\n",
      "Epoch 62/100\n",
      "8/8 [==============================] - 0s 3ms/step - loss: 0.1709 - accuracy: 0.9247\n",
      "Epoch 63/100\n",
      "8/8 [==============================] - 0s 2ms/step - loss: 0.1695 - accuracy: 0.9247\n",
      "Epoch 64/100\n",
      "8/8 [==============================] - 0s 3ms/step - loss: 0.1686 - accuracy: 0.9247\n",
      "Epoch 65/100\n",
      "8/8 [==============================] - 0s 4ms/step - loss: 0.1667 - accuracy: 0.9289\n",
      "Epoch 66/100\n",
      "8/8 [==============================] - 0s 3ms/step - loss: 0.1658 - accuracy: 0.9247\n",
      "Epoch 67/100\n",
      "8/8 [==============================] - 0s 3ms/step - loss: 0.1649 - accuracy: 0.9247\n",
      "Epoch 68/100\n",
      "8/8 [==============================] - 0s 3ms/step - loss: 0.1631 - accuracy: 0.9247\n",
      "Epoch 69/100\n",
      "8/8 [==============================] - 0s 3ms/step - loss: 0.1619 - accuracy: 0.9289\n",
      "Epoch 70/100\n",
      "8/8 [==============================] - 0s 3ms/step - loss: 0.1606 - accuracy: 0.9289\n",
      "Epoch 71/100\n",
      "8/8 [==============================] - 0s 2ms/step - loss: 0.1595 - accuracy: 0.9289\n",
      "Epoch 72/100\n",
      "8/8 [==============================] - 0s 2ms/step - loss: 0.1572 - accuracy: 0.9331\n",
      "Epoch 73/100\n",
      "8/8 [==============================] - 0s 3ms/step - loss: 0.1565 - accuracy: 0.9331\n",
      "Epoch 74/100\n",
      "8/8 [==============================] - 0s 2ms/step - loss: 0.1547 - accuracy: 0.9289\n",
      "Epoch 75/100\n",
      "8/8 [==============================] - 0s 2ms/step - loss: 0.1536 - accuracy: 0.9331\n",
      "Epoch 76/100\n",
      "8/8 [==============================] - 0s 2ms/step - loss: 0.1519 - accuracy: 0.9372\n",
      "Epoch 77/100\n",
      "8/8 [==============================] - 0s 2ms/step - loss: 0.1507 - accuracy: 0.9414\n",
      "Epoch 78/100\n",
      "8/8 [==============================] - 0s 3ms/step - loss: 0.1494 - accuracy: 0.9414\n",
      "Epoch 79/100\n",
      "8/8 [==============================] - 0s 3ms/step - loss: 0.1481 - accuracy: 0.9456\n",
      "Epoch 80/100\n",
      "8/8 [==============================] - 0s 2ms/step - loss: 0.1470 - accuracy: 0.9414\n",
      "Epoch 81/100\n",
      "8/8 [==============================] - 0s 3ms/step - loss: 0.1455 - accuracy: 0.9414\n",
      "Epoch 82/100\n",
      "8/8 [==============================] - 0s 2ms/step - loss: 0.1446 - accuracy: 0.9372\n",
      "Epoch 83/100\n",
      "8/8 [==============================] - 0s 2ms/step - loss: 0.1438 - accuracy: 0.9498\n",
      "Epoch 84/100\n",
      "8/8 [==============================] - 0s 4ms/step - loss: 0.1420 - accuracy: 0.9498\n",
      "Epoch 85/100\n",
      "8/8 [==============================] - 0s 4ms/step - loss: 0.1405 - accuracy: 0.9582\n",
      "Epoch 86/100\n",
      "8/8 [==============================] - 0s 3ms/step - loss: 0.1398 - accuracy: 0.9582\n",
      "Epoch 87/100\n",
      "8/8 [==============================] - 0s 2ms/step - loss: 0.1380 - accuracy: 0.9582\n",
      "Epoch 88/100\n",
      "8/8 [==============================] - 0s 3ms/step - loss: 0.1380 - accuracy: 0.9582\n",
      "Epoch 89/100\n",
      "8/8 [==============================] - 0s 2ms/step - loss: 0.1357 - accuracy: 0.9582\n",
      "Epoch 90/100\n",
      "8/8 [==============================] - 0s 3ms/step - loss: 0.1344 - accuracy: 0.9582\n",
      "Epoch 91/100\n",
      "8/8 [==============================] - 0s 3ms/step - loss: 0.1335 - accuracy: 0.9582\n",
      "Epoch 92/100\n",
      "8/8 [==============================] - 0s 2ms/step - loss: 0.1322 - accuracy: 0.9582\n",
      "Epoch 93/100\n",
      "8/8 [==============================] - 0s 2ms/step - loss: 0.1317 - accuracy: 0.9582\n",
      "Epoch 94/100\n",
      "8/8 [==============================] - 0s 3ms/step - loss: 0.1307 - accuracy: 0.9582\n",
      "Epoch 95/100\n",
      "8/8 [==============================] - 0s 3ms/step - loss: 0.1296 - accuracy: 0.9623\n",
      "Epoch 96/100\n",
      "8/8 [==============================] - 0s 2ms/step - loss: 0.1286 - accuracy: 0.9623\n",
      "Epoch 97/100\n",
      "8/8 [==============================] - 0s 3ms/step - loss: 0.1278 - accuracy: 0.9623\n",
      "Epoch 98/100\n",
      "8/8 [==============================] - 0s 2ms/step - loss: 0.1259 - accuracy: 0.9623\n",
      "Epoch 99/100\n",
      "8/8 [==============================] - 0s 3ms/step - loss: 0.1256 - accuracy: 0.9582\n",
      "Epoch 100/100\n",
      "8/8 [==============================] - 0s 3ms/step - loss: 0.1243 - accuracy: 0.9582\n"
     ]
    },
    {
     "data": {
      "text/plain": [
       "<keras.callbacks.History at 0x7fd995ccd790>"
      ]
     },
     "execution_count": 211,
     "metadata": {},
     "output_type": "execute_result"
    }
   ],
   "source": [
    "ann2.compile(optimizer = 'adam', loss = 'binary_crossentropy', metrics = ['accuracy'])\n",
    "ann2.fit(X_train, y_train, batch_size = 32, epochs = 100)"
   ]
  },
  {
   "cell_type": "markdown",
   "metadata": {
    "id": "c0ueA8yszsY3"
   },
   "source": [
    "Epoch sayısı 100 olunca Accuracy: 0.96 oldu . "
   ]
  },
  {
   "cell_type": "code",
   "execution_count": null,
   "metadata": {
    "colab": {
     "base_uri": "https://localhost:8080/"
    },
    "id": "GKanjh2MxdIr",
    "outputId": "925bdfce-cde0-4fb0-b04a-2a8e67eee3c5"
   },
   "outputs": [
    {
     "name": "stdout",
     "output_type": "stream",
     "text": [
      "Epoch 1/200\n",
      "8/8 [==============================] - 1s 2ms/step - loss: 0.1272 - accuracy: 0.9623\n",
      "Epoch 2/200\n",
      "8/8 [==============================] - 0s 2ms/step - loss: 0.1224 - accuracy: 0.9623\n",
      "Epoch 3/200\n",
      "8/8 [==============================] - 0s 2ms/step - loss: 0.1222 - accuracy: 0.9623\n",
      "Epoch 4/200\n",
      "8/8 [==============================] - 0s 2ms/step - loss: 0.1208 - accuracy: 0.9540\n",
      "Epoch 5/200\n",
      "8/8 [==============================] - 0s 2ms/step - loss: 0.1189 - accuracy: 0.9540\n",
      "Epoch 6/200\n",
      "8/8 [==============================] - 0s 2ms/step - loss: 0.1182 - accuracy: 0.9582\n",
      "Epoch 7/200\n",
      "8/8 [==============================] - 0s 2ms/step - loss: 0.1170 - accuracy: 0.9623\n",
      "Epoch 8/200\n",
      "8/8 [==============================] - 0s 2ms/step - loss: 0.1158 - accuracy: 0.9623\n",
      "Epoch 9/200\n",
      "8/8 [==============================] - 0s 2ms/step - loss: 0.1152 - accuracy: 0.9623\n",
      "Epoch 10/200\n",
      "8/8 [==============================] - 0s 3ms/step - loss: 0.1140 - accuracy: 0.9623\n",
      "Epoch 11/200\n",
      "8/8 [==============================] - 0s 2ms/step - loss: 0.1132 - accuracy: 0.9623\n",
      "Epoch 12/200\n",
      "8/8 [==============================] - 0s 2ms/step - loss: 0.1124 - accuracy: 0.9623\n",
      "Epoch 13/200\n",
      "8/8 [==============================] - 0s 2ms/step - loss: 0.1111 - accuracy: 0.9623\n",
      "Epoch 14/200\n",
      "8/8 [==============================] - 0s 2ms/step - loss: 0.1097 - accuracy: 0.9623\n",
      "Epoch 15/200\n",
      "8/8 [==============================] - 0s 3ms/step - loss: 0.1092 - accuracy: 0.9582\n",
      "Epoch 16/200\n",
      "8/8 [==============================] - 0s 3ms/step - loss: 0.1086 - accuracy: 0.9582\n",
      "Epoch 17/200\n",
      "8/8 [==============================] - 0s 3ms/step - loss: 0.1075 - accuracy: 0.9582\n",
      "Epoch 18/200\n",
      "8/8 [==============================] - 0s 2ms/step - loss: 0.1064 - accuracy: 0.9582\n",
      "Epoch 19/200\n",
      "8/8 [==============================] - 0s 2ms/step - loss: 0.1056 - accuracy: 0.9582\n",
      "Epoch 20/200\n",
      "8/8 [==============================] - 0s 2ms/step - loss: 0.1047 - accuracy: 0.9582\n",
      "Epoch 21/200\n",
      "8/8 [==============================] - 0s 3ms/step - loss: 0.1041 - accuracy: 0.9582\n",
      "Epoch 22/200\n",
      "8/8 [==============================] - 0s 2ms/step - loss: 0.1032 - accuracy: 0.9623\n",
      "Epoch 23/200\n",
      "8/8 [==============================] - 0s 2ms/step - loss: 0.1023 - accuracy: 0.9623\n",
      "Epoch 24/200\n",
      "8/8 [==============================] - 0s 3ms/step - loss: 0.1012 - accuracy: 0.9623\n",
      "Epoch 25/200\n",
      "8/8 [==============================] - 0s 3ms/step - loss: 0.1008 - accuracy: 0.9623\n",
      "Epoch 26/200\n",
      "8/8 [==============================] - 0s 2ms/step - loss: 0.1000 - accuracy: 0.9665\n",
      "Epoch 27/200\n",
      "8/8 [==============================] - 0s 3ms/step - loss: 0.0993 - accuracy: 0.9623\n",
      "Epoch 28/200\n",
      "8/8 [==============================] - 0s 3ms/step - loss: 0.0982 - accuracy: 0.9665\n",
      "Epoch 29/200\n",
      "8/8 [==============================] - 0s 3ms/step - loss: 0.0970 - accuracy: 0.9623\n",
      "Epoch 30/200\n",
      "8/8 [==============================] - 0s 2ms/step - loss: 0.0966 - accuracy: 0.9623\n",
      "Epoch 31/200\n",
      "8/8 [==============================] - 0s 2ms/step - loss: 0.0956 - accuracy: 0.9582\n",
      "Epoch 32/200\n",
      "8/8 [==============================] - 0s 2ms/step - loss: 0.0950 - accuracy: 0.9623\n",
      "Epoch 33/200\n",
      "8/8 [==============================] - 0s 2ms/step - loss: 0.0937 - accuracy: 0.9665\n",
      "Epoch 34/200\n",
      "8/8 [==============================] - 0s 2ms/step - loss: 0.0931 - accuracy: 0.9623\n",
      "Epoch 35/200\n",
      "8/8 [==============================] - 0s 2ms/step - loss: 0.0923 - accuracy: 0.9623\n",
      "Epoch 36/200\n",
      "8/8 [==============================] - 0s 2ms/step - loss: 0.0920 - accuracy: 0.9665\n",
      "Epoch 37/200\n",
      "8/8 [==============================] - 0s 3ms/step - loss: 0.0910 - accuracy: 0.9665\n",
      "Epoch 38/200\n",
      "8/8 [==============================] - 0s 2ms/step - loss: 0.0903 - accuracy: 0.9665\n",
      "Epoch 39/200\n",
      "8/8 [==============================] - 0s 2ms/step - loss: 0.0893 - accuracy: 0.9665\n",
      "Epoch 40/200\n",
      "8/8 [==============================] - 0s 2ms/step - loss: 0.0883 - accuracy: 0.9665\n",
      "Epoch 41/200\n",
      "8/8 [==============================] - 0s 2ms/step - loss: 0.0881 - accuracy: 0.9707\n",
      "Epoch 42/200\n",
      "8/8 [==============================] - 0s 2ms/step - loss: 0.0870 - accuracy: 0.9707\n",
      "Epoch 43/200\n",
      "8/8 [==============================] - 0s 3ms/step - loss: 0.0864 - accuracy: 0.9707\n",
      "Epoch 44/200\n",
      "8/8 [==============================] - 0s 3ms/step - loss: 0.0860 - accuracy: 0.9707\n",
      "Epoch 45/200\n",
      "8/8 [==============================] - 0s 2ms/step - loss: 0.0850 - accuracy: 0.9707\n",
      "Epoch 46/200\n",
      "8/8 [==============================] - 0s 3ms/step - loss: 0.0840 - accuracy: 0.9707\n",
      "Epoch 47/200\n",
      "8/8 [==============================] - 0s 3ms/step - loss: 0.0833 - accuracy: 0.9707\n",
      "Epoch 48/200\n",
      "8/8 [==============================] - 0s 2ms/step - loss: 0.0824 - accuracy: 0.9749\n",
      "Epoch 49/200\n",
      "8/8 [==============================] - 0s 3ms/step - loss: 0.0816 - accuracy: 0.9749\n",
      "Epoch 50/200\n",
      "8/8 [==============================] - 0s 2ms/step - loss: 0.0811 - accuracy: 0.9707\n",
      "Epoch 51/200\n",
      "8/8 [==============================] - 0s 2ms/step - loss: 0.0802 - accuracy: 0.9749\n",
      "Epoch 52/200\n",
      "8/8 [==============================] - 0s 3ms/step - loss: 0.0793 - accuracy: 0.9749\n",
      "Epoch 53/200\n",
      "8/8 [==============================] - 0s 3ms/step - loss: 0.0786 - accuracy: 0.9749\n",
      "Epoch 54/200\n",
      "8/8 [==============================] - 0s 3ms/step - loss: 0.0776 - accuracy: 0.9749\n",
      "Epoch 55/200\n",
      "8/8 [==============================] - 0s 3ms/step - loss: 0.0777 - accuracy: 0.9749\n",
      "Epoch 56/200\n",
      "8/8 [==============================] - 0s 3ms/step - loss: 0.0767 - accuracy: 0.9791\n",
      "Epoch 57/200\n",
      "8/8 [==============================] - 0s 3ms/step - loss: 0.0766 - accuracy: 0.9833\n",
      "Epoch 58/200\n",
      "8/8 [==============================] - 0s 3ms/step - loss: 0.0749 - accuracy: 0.9833\n",
      "Epoch 59/200\n",
      "8/8 [==============================] - 0s 2ms/step - loss: 0.0746 - accuracy: 0.9791\n",
      "Epoch 60/200\n",
      "8/8 [==============================] - 0s 2ms/step - loss: 0.0734 - accuracy: 0.9791\n",
      "Epoch 61/200\n",
      "8/8 [==============================] - 0s 2ms/step - loss: 0.0725 - accuracy: 0.9749\n",
      "Epoch 62/200\n",
      "8/8 [==============================] - 0s 3ms/step - loss: 0.0719 - accuracy: 0.9833\n",
      "Epoch 63/200\n",
      "8/8 [==============================] - 0s 2ms/step - loss: 0.0708 - accuracy: 0.9833\n",
      "Epoch 64/200\n",
      "8/8 [==============================] - 0s 3ms/step - loss: 0.0702 - accuracy: 0.9833\n",
      "Epoch 65/200\n",
      "8/8 [==============================] - 0s 2ms/step - loss: 0.0694 - accuracy: 0.9833\n",
      "Epoch 66/200\n",
      "8/8 [==============================] - 0s 3ms/step - loss: 0.0687 - accuracy: 0.9833\n",
      "Epoch 67/200\n",
      "8/8 [==============================] - 0s 3ms/step - loss: 0.0680 - accuracy: 0.9833\n",
      "Epoch 68/200\n",
      "8/8 [==============================] - 0s 2ms/step - loss: 0.0674 - accuracy: 0.9833\n",
      "Epoch 69/200\n",
      "8/8 [==============================] - 0s 2ms/step - loss: 0.0664 - accuracy: 0.9833\n",
      "Epoch 70/200\n",
      "8/8 [==============================] - 0s 3ms/step - loss: 0.0661 - accuracy: 0.9833\n",
      "Epoch 71/200\n",
      "8/8 [==============================] - 0s 3ms/step - loss: 0.0653 - accuracy: 0.9833\n",
      "Epoch 72/200\n",
      "8/8 [==============================] - 0s 2ms/step - loss: 0.0646 - accuracy: 0.9833\n",
      "Epoch 73/200\n",
      "8/8 [==============================] - 0s 3ms/step - loss: 0.0641 - accuracy: 0.9833\n",
      "Epoch 74/200\n",
      "8/8 [==============================] - 0s 3ms/step - loss: 0.0636 - accuracy: 0.9833\n",
      "Epoch 75/200\n",
      "8/8 [==============================] - 0s 2ms/step - loss: 0.0637 - accuracy: 0.9833\n",
      "Epoch 76/200\n",
      "8/8 [==============================] - 0s 2ms/step - loss: 0.0628 - accuracy: 0.9833\n",
      "Epoch 77/200\n",
      "8/8 [==============================] - 0s 2ms/step - loss: 0.0617 - accuracy: 0.9833\n",
      "Epoch 78/200\n",
      "8/8 [==============================] - 0s 2ms/step - loss: 0.0613 - accuracy: 0.9833\n",
      "Epoch 79/200\n",
      "8/8 [==============================] - 0s 3ms/step - loss: 0.0606 - accuracy: 0.9833\n",
      "Epoch 80/200\n",
      "8/8 [==============================] - 0s 2ms/step - loss: 0.0597 - accuracy: 0.9833\n",
      "Epoch 81/200\n",
      "8/8 [==============================] - 0s 2ms/step - loss: 0.0592 - accuracy: 0.9833\n",
      "Epoch 82/200\n",
      "8/8 [==============================] - 0s 2ms/step - loss: 0.0587 - accuracy: 0.9833\n",
      "Epoch 83/200\n",
      "8/8 [==============================] - 0s 4ms/step - loss: 0.0581 - accuracy: 0.9833\n",
      "Epoch 84/200\n",
      "8/8 [==============================] - 0s 3ms/step - loss: 0.0574 - accuracy: 0.9833\n",
      "Epoch 85/200\n",
      "8/8 [==============================] - 0s 2ms/step - loss: 0.0570 - accuracy: 0.9833\n",
      "Epoch 86/200\n",
      "8/8 [==============================] - 0s 3ms/step - loss: 0.0562 - accuracy: 0.9833\n",
      "Epoch 87/200\n",
      "8/8 [==============================] - 0s 2ms/step - loss: 0.0558 - accuracy: 0.9833\n",
      "Epoch 88/200\n",
      "8/8 [==============================] - 0s 3ms/step - loss: 0.0555 - accuracy: 0.9833\n",
      "Epoch 89/200\n",
      "8/8 [==============================] - 0s 3ms/step - loss: 0.0546 - accuracy: 0.9833\n",
      "Epoch 90/200\n",
      "8/8 [==============================] - 0s 4ms/step - loss: 0.0548 - accuracy: 0.9874\n",
      "Epoch 91/200\n",
      "8/8 [==============================] - 0s 3ms/step - loss: 0.0539 - accuracy: 0.9916\n",
      "Epoch 92/200\n",
      "8/8 [==============================] - 0s 2ms/step - loss: 0.0535 - accuracy: 0.9916\n",
      "Epoch 93/200\n",
      "8/8 [==============================] - 0s 3ms/step - loss: 0.0530 - accuracy: 0.9916\n",
      "Epoch 94/200\n",
      "8/8 [==============================] - 0s 3ms/step - loss: 0.0524 - accuracy: 0.9874\n",
      "Epoch 95/200\n",
      "8/8 [==============================] - 0s 2ms/step - loss: 0.0515 - accuracy: 0.9874\n",
      "Epoch 96/200\n",
      "8/8 [==============================] - 0s 3ms/step - loss: 0.0512 - accuracy: 0.9916\n",
      "Epoch 97/200\n",
      "8/8 [==============================] - 0s 3ms/step - loss: 0.0505 - accuracy: 0.9916\n",
      "Epoch 98/200\n",
      "8/8 [==============================] - 0s 2ms/step - loss: 0.0501 - accuracy: 0.9916\n",
      "Epoch 99/200\n",
      "8/8 [==============================] - 0s 2ms/step - loss: 0.0496 - accuracy: 0.9916\n",
      "Epoch 100/200\n",
      "8/8 [==============================] - 0s 2ms/step - loss: 0.0493 - accuracy: 0.9916\n",
      "Epoch 101/200\n",
      "8/8 [==============================] - 0s 3ms/step - loss: 0.0488 - accuracy: 0.9916\n",
      "Epoch 102/200\n",
      "8/8 [==============================] - 0s 2ms/step - loss: 0.0482 - accuracy: 0.9916\n",
      "Epoch 103/200\n",
      "8/8 [==============================] - 0s 3ms/step - loss: 0.0478 - accuracy: 0.9916\n",
      "Epoch 104/200\n",
      "8/8 [==============================] - 0s 3ms/step - loss: 0.0475 - accuracy: 0.9916\n",
      "Epoch 105/200\n",
      "8/8 [==============================] - 0s 2ms/step - loss: 0.0469 - accuracy: 0.9916\n",
      "Epoch 106/200\n",
      "8/8 [==============================] - 0s 3ms/step - loss: 0.0464 - accuracy: 0.9916\n",
      "Epoch 107/200\n",
      "8/8 [==============================] - 0s 2ms/step - loss: 0.0460 - accuracy: 0.9916\n",
      "Epoch 108/200\n",
      "8/8 [==============================] - 0s 2ms/step - loss: 0.0457 - accuracy: 0.9916\n",
      "Epoch 109/200\n",
      "8/8 [==============================] - 0s 3ms/step - loss: 0.0449 - accuracy: 0.9916\n",
      "Epoch 110/200\n",
      "8/8 [==============================] - 0s 2ms/step - loss: 0.0448 - accuracy: 0.9916\n",
      "Epoch 111/200\n",
      "8/8 [==============================] - 0s 3ms/step - loss: 0.0442 - accuracy: 0.9916\n",
      "Epoch 112/200\n",
      "8/8 [==============================] - 0s 2ms/step - loss: 0.0440 - accuracy: 0.9916\n",
      "Epoch 113/200\n",
      "8/8 [==============================] - 0s 2ms/step - loss: 0.0433 - accuracy: 0.9916\n",
      "Epoch 114/200\n",
      "8/8 [==============================] - 0s 3ms/step - loss: 0.0433 - accuracy: 0.9916\n",
      "Epoch 115/200\n",
      "8/8 [==============================] - 0s 3ms/step - loss: 0.0427 - accuracy: 0.9916\n",
      "Epoch 116/200\n",
      "8/8 [==============================] - 0s 3ms/step - loss: 0.0425 - accuracy: 0.9916\n",
      "Epoch 117/200\n",
      "8/8 [==============================] - 0s 3ms/step - loss: 0.0420 - accuracy: 0.9916\n",
      "Epoch 118/200\n",
      "8/8 [==============================] - 0s 3ms/step - loss: 0.0415 - accuracy: 0.9916\n",
      "Epoch 119/200\n",
      "8/8 [==============================] - 0s 4ms/step - loss: 0.0408 - accuracy: 0.9916\n",
      "Epoch 120/200\n",
      "8/8 [==============================] - 0s 4ms/step - loss: 0.0403 - accuracy: 0.9916\n",
      "Epoch 121/200\n",
      "8/8 [==============================] - 0s 3ms/step - loss: 0.0401 - accuracy: 0.9916\n",
      "Epoch 122/200\n",
      "8/8 [==============================] - 0s 3ms/step - loss: 0.0400 - accuracy: 0.9916\n",
      "Epoch 123/200\n",
      "8/8 [==============================] - 0s 2ms/step - loss: 0.0396 - accuracy: 0.9916\n",
      "Epoch 124/200\n",
      "8/8 [==============================] - 0s 4ms/step - loss: 0.0391 - accuracy: 0.9916\n",
      "Epoch 125/200\n",
      "8/8 [==============================] - 0s 3ms/step - loss: 0.0384 - accuracy: 0.9916\n",
      "Epoch 126/200\n",
      "8/8 [==============================] - 0s 2ms/step - loss: 0.0379 - accuracy: 0.9916\n",
      "Epoch 127/200\n",
      "8/8 [==============================] - 0s 4ms/step - loss: 0.0373 - accuracy: 0.9916\n",
      "Epoch 128/200\n",
      "8/8 [==============================] - 0s 3ms/step - loss: 0.0372 - accuracy: 0.9916\n",
      "Epoch 129/200\n",
      "8/8 [==============================] - 0s 2ms/step - loss: 0.0370 - accuracy: 0.9916\n",
      "Epoch 130/200\n",
      "8/8 [==============================] - 0s 2ms/step - loss: 0.0366 - accuracy: 0.9916\n",
      "Epoch 131/200\n",
      "8/8 [==============================] - 0s 3ms/step - loss: 0.0360 - accuracy: 0.9916\n",
      "Epoch 132/200\n",
      "8/8 [==============================] - 0s 3ms/step - loss: 0.0359 - accuracy: 0.9916\n",
      "Epoch 133/200\n",
      "8/8 [==============================] - 0s 3ms/step - loss: 0.0352 - accuracy: 0.9916\n",
      "Epoch 134/200\n",
      "8/8 [==============================] - 0s 2ms/step - loss: 0.0347 - accuracy: 0.9916\n",
      "Epoch 135/200\n",
      "8/8 [==============================] - 0s 3ms/step - loss: 0.0343 - accuracy: 0.9916\n",
      "Epoch 136/200\n",
      "8/8 [==============================] - 0s 2ms/step - loss: 0.0340 - accuracy: 0.9916\n",
      "Epoch 137/200\n",
      "8/8 [==============================] - 0s 3ms/step - loss: 0.0337 - accuracy: 0.9916\n",
      "Epoch 138/200\n",
      "8/8 [==============================] - 0s 3ms/step - loss: 0.0335 - accuracy: 0.9916\n",
      "Epoch 139/200\n",
      "8/8 [==============================] - 0s 3ms/step - loss: 0.0331 - accuracy: 0.9916\n",
      "Epoch 140/200\n",
      "8/8 [==============================] - 0s 3ms/step - loss: 0.0327 - accuracy: 0.9916\n",
      "Epoch 141/200\n",
      "8/8 [==============================] - 0s 2ms/step - loss: 0.0324 - accuracy: 0.9916\n",
      "Epoch 142/200\n",
      "8/8 [==============================] - 0s 2ms/step - loss: 0.0321 - accuracy: 0.9916\n",
      "Epoch 143/200\n",
      "8/8 [==============================] - 0s 2ms/step - loss: 0.0315 - accuracy: 0.9916\n",
      "Epoch 144/200\n",
      "8/8 [==============================] - 0s 3ms/step - loss: 0.0313 - accuracy: 0.9916\n",
      "Epoch 145/200\n",
      "8/8 [==============================] - 0s 2ms/step - loss: 0.0313 - accuracy: 0.9916\n",
      "Epoch 146/200\n",
      "8/8 [==============================] - 0s 3ms/step - loss: 0.0307 - accuracy: 0.9916\n",
      "Epoch 147/200\n",
      "8/8 [==============================] - 0s 4ms/step - loss: 0.0303 - accuracy: 0.9916\n",
      "Epoch 148/200\n",
      "8/8 [==============================] - 0s 2ms/step - loss: 0.0299 - accuracy: 0.9916\n",
      "Epoch 149/200\n",
      "8/8 [==============================] - 0s 2ms/step - loss: 0.0297 - accuracy: 0.9916\n",
      "Epoch 150/200\n",
      "8/8 [==============================] - 0s 2ms/step - loss: 0.0297 - accuracy: 0.9916\n",
      "Epoch 151/200\n",
      "8/8 [==============================] - 0s 2ms/step - loss: 0.0293 - accuracy: 0.9916\n",
      "Epoch 152/200\n",
      "8/8 [==============================] - 0s 4ms/step - loss: 0.0291 - accuracy: 0.9916\n",
      "Epoch 153/200\n",
      "8/8 [==============================] - 0s 4ms/step - loss: 0.0288 - accuracy: 0.9916\n",
      "Epoch 154/200\n",
      "8/8 [==============================] - 0s 3ms/step - loss: 0.0284 - accuracy: 0.9916\n",
      "Epoch 155/200\n",
      "8/8 [==============================] - 0s 2ms/step - loss: 0.0279 - accuracy: 0.9916\n",
      "Epoch 156/200\n",
      "8/8 [==============================] - 0s 3ms/step - loss: 0.0275 - accuracy: 0.9916\n",
      "Epoch 157/200\n",
      "8/8 [==============================] - 0s 3ms/step - loss: 0.0275 - accuracy: 0.9916\n",
      "Epoch 158/200\n",
      "8/8 [==============================] - 0s 3ms/step - loss: 0.0270 - accuracy: 0.9916\n",
      "Epoch 159/200\n",
      "8/8 [==============================] - 0s 3ms/step - loss: 0.0268 - accuracy: 0.9916\n",
      "Epoch 160/200\n",
      "8/8 [==============================] - 0s 3ms/step - loss: 0.0264 - accuracy: 0.9916\n",
      "Epoch 161/200\n",
      "8/8 [==============================] - 0s 3ms/step - loss: 0.0262 - accuracy: 0.9916\n",
      "Epoch 162/200\n",
      "8/8 [==============================] - 0s 6ms/step - loss: 0.0258 - accuracy: 0.9916\n",
      "Epoch 163/200\n",
      "8/8 [==============================] - 0s 3ms/step - loss: 0.0254 - accuracy: 0.9916\n",
      "Epoch 164/200\n",
      "8/8 [==============================] - 0s 3ms/step - loss: 0.0251 - accuracy: 0.9916\n",
      "Epoch 165/200\n",
      "8/8 [==============================] - 0s 3ms/step - loss: 0.0250 - accuracy: 0.9916\n",
      "Epoch 166/200\n",
      "8/8 [==============================] - 0s 3ms/step - loss: 0.0245 - accuracy: 0.9916\n",
      "Epoch 167/200\n",
      "8/8 [==============================] - 0s 2ms/step - loss: 0.0243 - accuracy: 0.9916\n",
      "Epoch 168/200\n",
      "8/8 [==============================] - 0s 2ms/step - loss: 0.0237 - accuracy: 0.9916\n",
      "Epoch 169/200\n",
      "8/8 [==============================] - 0s 3ms/step - loss: 0.0235 - accuracy: 0.9916\n",
      "Epoch 170/200\n",
      "8/8 [==============================] - 0s 2ms/step - loss: 0.0231 - accuracy: 0.9916\n",
      "Epoch 171/200\n",
      "8/8 [==============================] - 0s 3ms/step - loss: 0.0228 - accuracy: 0.9916\n",
      "Epoch 172/200\n",
      "8/8 [==============================] - 0s 4ms/step - loss: 0.0224 - accuracy: 0.9916\n",
      "Epoch 173/200\n",
      "8/8 [==============================] - 0s 3ms/step - loss: 0.0221 - accuracy: 0.9916\n",
      "Epoch 174/200\n",
      "8/8 [==============================] - 0s 2ms/step - loss: 0.0218 - accuracy: 0.9916\n",
      "Epoch 175/200\n",
      "8/8 [==============================] - 0s 2ms/step - loss: 0.0217 - accuracy: 0.9916\n",
      "Epoch 176/200\n",
      "8/8 [==============================] - 0s 3ms/step - loss: 0.0214 - accuracy: 0.9916\n",
      "Epoch 177/200\n",
      "8/8 [==============================] - 0s 3ms/step - loss: 0.0212 - accuracy: 0.9958\n",
      "Epoch 178/200\n",
      "8/8 [==============================] - 0s 3ms/step - loss: 0.0209 - accuracy: 0.9916\n",
      "Epoch 179/200\n",
      "8/8 [==============================] - 0s 2ms/step - loss: 0.0205 - accuracy: 0.9958\n",
      "Epoch 180/200\n",
      "8/8 [==============================] - 0s 3ms/step - loss: 0.0200 - accuracy: 0.9958\n",
      "Epoch 181/200\n",
      "8/8 [==============================] - 0s 2ms/step - loss: 0.0199 - accuracy: 0.9958\n",
      "Epoch 182/200\n",
      "8/8 [==============================] - 0s 2ms/step - loss: 0.0197 - accuracy: 0.9958\n",
      "Epoch 183/200\n",
      "8/8 [==============================] - 0s 2ms/step - loss: 0.0194 - accuracy: 0.9958\n",
      "Epoch 184/200\n",
      "8/8 [==============================] - 0s 2ms/step - loss: 0.0189 - accuracy: 0.9958\n",
      "Epoch 185/200\n",
      "8/8 [==============================] - 0s 3ms/step - loss: 0.0186 - accuracy: 0.9958\n",
      "Epoch 186/200\n",
      "8/8 [==============================] - 0s 4ms/step - loss: 0.0186 - accuracy: 0.9958\n",
      "Epoch 187/200\n",
      "8/8 [==============================] - 0s 2ms/step - loss: 0.0181 - accuracy: 0.9958\n",
      "Epoch 188/200\n",
      "8/8 [==============================] - 0s 3ms/step - loss: 0.0179 - accuracy: 0.9958\n",
      "Epoch 189/200\n",
      "8/8 [==============================] - 0s 3ms/step - loss: 0.0176 - accuracy: 0.9958\n",
      "Epoch 190/200\n",
      "8/8 [==============================] - 0s 2ms/step - loss: 0.0174 - accuracy: 1.0000\n",
      "Epoch 191/200\n",
      "8/8 [==============================] - 0s 3ms/step - loss: 0.0171 - accuracy: 1.0000\n",
      "Epoch 192/200\n",
      "8/8 [==============================] - 0s 2ms/step - loss: 0.0168 - accuracy: 1.0000\n",
      "Epoch 193/200\n",
      "8/8 [==============================] - 0s 2ms/step - loss: 0.0167 - accuracy: 1.0000\n",
      "Epoch 194/200\n",
      "8/8 [==============================] - 0s 2ms/step - loss: 0.0164 - accuracy: 1.0000\n",
      "Epoch 195/200\n",
      "8/8 [==============================] - 0s 2ms/step - loss: 0.0163 - accuracy: 1.0000\n",
      "Epoch 196/200\n",
      "8/8 [==============================] - 0s 3ms/step - loss: 0.0160 - accuracy: 1.0000\n",
      "Epoch 197/200\n",
      "8/8 [==============================] - 0s 2ms/step - loss: 0.0157 - accuracy: 1.0000\n",
      "Epoch 198/200\n",
      "8/8 [==============================] - 0s 3ms/step - loss: 0.0155 - accuracy: 1.0000\n",
      "Epoch 199/200\n",
      "8/8 [==============================] - 0s 3ms/step - loss: 0.0154 - accuracy: 1.0000\n",
      "Epoch 200/200\n",
      "8/8 [==============================] - 0s 3ms/step - loss: 0.0151 - accuracy: 1.0000\n"
     ]
    },
    {
     "data": {
      "text/plain": [
       "<keras.callbacks.History at 0x7fd992e68710>"
      ]
     },
     "execution_count": 212,
     "metadata": {},
     "output_type": "execute_result"
    }
   ],
   "source": [
    "ann2.compile(optimizer = 'adam', loss = 'binary_crossentropy', metrics = ['accuracy'])\n",
    "ann2.fit(X_train, y_train, batch_size = 32, epochs = 200)"
   ]
  },
  {
   "cell_type": "markdown",
   "metadata": {
    "id": "Pzi4uFw80ODc"
   },
   "source": [
    "Epoch sayısı 200 olunca accuracy: 1 e çıktı."
   ]
  },
  {
   "cell_type": "markdown",
   "metadata": {
    "id": "qNzHWle40gtr"
   },
   "source": [
    "Nöron sayısını artıralım."
   ]
  },
  {
   "cell_type": "code",
   "execution_count": null,
   "metadata": {
    "id": "8amX9FqR0Iu-"
   },
   "outputs": [],
   "source": [
    "ann3 = tf.keras.models.Sequential()"
   ]
  },
  {
   "cell_type": "code",
   "execution_count": null,
   "metadata": {
    "colab": {
     "base_uri": "https://localhost:8080/"
    },
    "id": "0ICTiAYi01Mb",
    "outputId": "daf359b0-6ba5-4324-f1a8-4656be76379c"
   },
   "outputs": [
    {
     "name": "stdout",
     "output_type": "stream",
     "text": [
      "Epoch 1/20\n",
      "8/8 [==============================] - 0s 2ms/step - loss: 0.7496 - accuracy: 0.3975\n",
      "Epoch 2/20\n",
      "8/8 [==============================] - 0s 2ms/step - loss: 0.7216 - accuracy: 0.4477\n",
      "Epoch 3/20\n",
      "8/8 [==============================] - 0s 2ms/step - loss: 0.6998 - accuracy: 0.4979\n",
      "Epoch 4/20\n",
      "8/8 [==============================] - 0s 2ms/step - loss: 0.6790 - accuracy: 0.5690\n",
      "Epoch 5/20\n",
      "8/8 [==============================] - 0s 2ms/step - loss: 0.6620 - accuracy: 0.6067\n",
      "Epoch 6/20\n",
      "8/8 [==============================] - 0s 2ms/step - loss: 0.6444 - accuracy: 0.6402\n",
      "Epoch 7/20\n",
      "8/8 [==============================] - 0s 3ms/step - loss: 0.6297 - accuracy: 0.6820\n",
      "Epoch 8/20\n",
      "8/8 [==============================] - 0s 2ms/step - loss: 0.6153 - accuracy: 0.7071\n",
      "Epoch 9/20\n",
      "8/8 [==============================] - 0s 2ms/step - loss: 0.6011 - accuracy: 0.7364\n",
      "Epoch 10/20\n",
      "8/8 [==============================] - 0s 2ms/step - loss: 0.5883 - accuracy: 0.7490\n",
      "Epoch 11/20\n",
      "8/8 [==============================] - 0s 2ms/step - loss: 0.5753 - accuracy: 0.7699\n",
      "Epoch 12/20\n",
      "8/8 [==============================] - 0s 3ms/step - loss: 0.5627 - accuracy: 0.7782\n",
      "Epoch 13/20\n",
      "8/8 [==============================] - 0s 2ms/step - loss: 0.5514 - accuracy: 0.7950\n",
      "Epoch 14/20\n",
      "8/8 [==============================] - 0s 2ms/step - loss: 0.5407 - accuracy: 0.8033\n",
      "Epoch 15/20\n",
      "8/8 [==============================] - 0s 3ms/step - loss: 0.5304 - accuracy: 0.8033\n",
      "Epoch 16/20\n",
      "8/8 [==============================] - 0s 2ms/step - loss: 0.5198 - accuracy: 0.7950\n",
      "Epoch 17/20\n",
      "8/8 [==============================] - 0s 2ms/step - loss: 0.5095 - accuracy: 0.8075\n",
      "Epoch 18/20\n",
      "8/8 [==============================] - 0s 2ms/step - loss: 0.4991 - accuracy: 0.8201\n",
      "Epoch 19/20\n",
      "8/8 [==============================] - 0s 3ms/step - loss: 0.4897 - accuracy: 0.8201\n",
      "Epoch 20/20\n",
      "8/8 [==============================] - 0s 2ms/step - loss: 0.4804 - accuracy: 0.8285\n"
     ]
    },
    {
     "data": {
      "text/plain": [
       "<keras.callbacks.History at 0x7fd98abb2810>"
      ]
     },
     "execution_count": 227,
     "metadata": {},
     "output_type": "execute_result"
    }
   ],
   "source": [
    "ann3.add(tf.keras.layers.Dense(units=12, activation='relu', input_shape=X_train[0].shape))\n",
    "ann3.add(tf.keras.layers.Dense(units=8, activation='relu'))\n",
    "ann3.add(tf.keras.layers.Dense(units=1, activation='sigmoid'))\n",
    "ann3.compile(optimizer = 'adam', loss = 'binary_crossentropy', metrics = ['accuracy'])\n",
    "ann3.fit(X_train, y_train, batch_size = 32, epochs = 20)"
   ]
  },
  {
   "cell_type": "markdown",
   "metadata": {
    "id": "hEd91tZc2pIb"
   },
   "source": [
    " Nöron sayısını artırınca accuracy:  0.8285 oldu.."
   ]
  },
  {
   "cell_type": "markdown",
   "metadata": {
    "id": "1P2mtghW3GgK"
   },
   "source": [
    "Aktivasyon fonksiyonlarını değiştirelim.Sigmoid, Hiperbolik Tanjant, ReLU, Leaky ReLU ve Swish aktivasyon fonksiyonlarıdır."
   ]
  },
  {
   "cell_type": "code",
   "execution_count": null,
   "metadata": {
    "colab": {
     "base_uri": "https://localhost:8080/"
    },
    "id": "OeCKYK581hyB",
    "outputId": "ef0f05c7-0a02-4999-b80f-e9cf6da98aef"
   },
   "outputs": [
    {
     "name": "stdout",
     "output_type": "stream",
     "text": [
      "Epoch 1/20\n",
      "8/8 [==============================] - 0s 2ms/step - loss: 0.6167 - accuracy: 0.6946\n",
      "Epoch 2/20\n",
      "8/8 [==============================] - 0s 2ms/step - loss: 0.6121 - accuracy: 0.6946\n",
      "Epoch 3/20\n",
      "8/8 [==============================] - 0s 2ms/step - loss: 0.6089 - accuracy: 0.6946\n",
      "Epoch 4/20\n",
      "8/8 [==============================] - 0s 3ms/step - loss: 0.6064 - accuracy: 0.6946\n",
      "Epoch 5/20\n",
      "8/8 [==============================] - 0s 2ms/step - loss: 0.6043 - accuracy: 0.6946\n",
      "Epoch 6/20\n",
      "8/8 [==============================] - 0s 2ms/step - loss: 0.6025 - accuracy: 0.6946\n",
      "Epoch 7/20\n",
      "8/8 [==============================] - 0s 2ms/step - loss: 0.6003 - accuracy: 0.6946\n",
      "Epoch 8/20\n",
      "8/8 [==============================] - 0s 2ms/step - loss: 0.5985 - accuracy: 0.6946\n",
      "Epoch 9/20\n",
      "8/8 [==============================] - 0s 2ms/step - loss: 0.5964 - accuracy: 0.6946\n",
      "Epoch 10/20\n",
      "8/8 [==============================] - 0s 2ms/step - loss: 0.5943 - accuracy: 0.6946\n",
      "Epoch 11/20\n",
      "8/8 [==============================] - 0s 2ms/step - loss: 0.5921 - accuracy: 0.6946\n",
      "Epoch 12/20\n",
      "8/8 [==============================] - 0s 2ms/step - loss: 0.5899 - accuracy: 0.6946\n",
      "Epoch 13/20\n",
      "8/8 [==============================] - 0s 2ms/step - loss: 0.5874 - accuracy: 0.6946\n",
      "Epoch 14/20\n",
      "8/8 [==============================] - 0s 2ms/step - loss: 0.5849 - accuracy: 0.6946\n",
      "Epoch 15/20\n",
      "8/8 [==============================] - 0s 2ms/step - loss: 0.5823 - accuracy: 0.6946\n",
      "Epoch 16/20\n",
      "8/8 [==============================] - 0s 2ms/step - loss: 0.5794 - accuracy: 0.6946\n",
      "Epoch 17/20\n",
      "8/8 [==============================] - 0s 3ms/step - loss: 0.5765 - accuracy: 0.6946\n",
      "Epoch 18/20\n",
      "8/8 [==============================] - 0s 2ms/step - loss: 0.5735 - accuracy: 0.6946\n",
      "Epoch 19/20\n",
      "8/8 [==============================] - 0s 2ms/step - loss: 0.5704 - accuracy: 0.6946\n",
      "Epoch 20/20\n",
      "8/8 [==============================] - 0s 2ms/step - loss: 0.5670 - accuracy: 0.6946\n"
     ]
    },
    {
     "data": {
      "text/plain": [
       "<keras.callbacks.History at 0x7fd985646890>"
      ]
     },
     "execution_count": 229,
     "metadata": {},
     "output_type": "execute_result"
    }
   ],
   "source": [
    "ann4 = tf.keras.models.Sequential()\n",
    "ann4.add(tf.keras.layers.Dense(units=12, activation='sigmoid', input_shape=X_train[0].shape))\n",
    "ann4.add(tf.keras.layers.Dense(units=8, activation='sigmoid'))\n",
    "ann4.add(tf.keras.layers.Dense(units=1, activation='sigmoid'))\n",
    "ann4.compile(optimizer = 'adam', loss = 'binary_crossentropy', metrics = ['accuracy'])\n",
    "ann4.fit(X_train, y_train, batch_size = 32, epochs = 20)"
   ]
  },
  {
   "cell_type": "markdown",
   "metadata": {
    "id": "qWqySPef55nD"
   },
   "source": [
    "Accuracy: 0.69 oldu. Aktivasyon fonksiyonunu sigmoid olarak değiştirdim."
   ]
  },
  {
   "cell_type": "code",
   "execution_count": null,
   "metadata": {
    "colab": {
     "base_uri": "https://localhost:8080/"
    },
    "id": "DAUwPRHe5brP",
    "outputId": "1efc0e29-06d3-4fca-ce71-1086c497176a"
   },
   "outputs": [
    {
     "name": "stdout",
     "output_type": "stream",
     "text": [
      "Epoch 1/20\n",
      "8/8 [==============================] - 0s 2ms/step - loss: 0.6687 - accuracy: 0.3054\n",
      "Epoch 2/20\n",
      "8/8 [==============================] - 0s 2ms/step - loss: 0.6649 - accuracy: 0.3054\n",
      "Epoch 3/20\n",
      "8/8 [==============================] - 0s 2ms/step - loss: 0.6610 - accuracy: 0.3054\n",
      "Epoch 4/20\n",
      "8/8 [==============================] - 0s 2ms/step - loss: 0.6578 - accuracy: 0.3054\n",
      "Epoch 5/20\n",
      "8/8 [==============================] - 0s 3ms/step - loss: 0.6548 - accuracy: 0.3054\n",
      "Epoch 6/20\n",
      "8/8 [==============================] - 0s 3ms/step - loss: 0.6516 - accuracy: 0.3054\n",
      "Epoch 7/20\n",
      "8/8 [==============================] - 0s 2ms/step - loss: 0.6488 - accuracy: 0.3054\n",
      "Epoch 8/20\n",
      "8/8 [==============================] - 0s 2ms/step - loss: 0.6462 - accuracy: 0.3054\n",
      "Epoch 9/20\n",
      "8/8 [==============================] - 0s 2ms/step - loss: 0.6434 - accuracy: 0.3054\n",
      "Epoch 10/20\n",
      "8/8 [==============================] - 0s 4ms/step - loss: 0.6409 - accuracy: 0.3054\n",
      "Epoch 11/20\n",
      "8/8 [==============================] - 0s 3ms/step - loss: 0.6386 - accuracy: 0.3054\n",
      "Epoch 12/20\n",
      "8/8 [==============================] - 0s 3ms/step - loss: 0.6365 - accuracy: 0.3054\n",
      "Epoch 13/20\n",
      "8/8 [==============================] - 0s 3ms/step - loss: 0.6341 - accuracy: 0.3054\n",
      "Epoch 14/20\n",
      "8/8 [==============================] - 0s 3ms/step - loss: 0.6323 - accuracy: 0.3054\n",
      "Epoch 15/20\n",
      "8/8 [==============================] - 0s 2ms/step - loss: 0.6302 - accuracy: 0.3054\n",
      "Epoch 16/20\n",
      "8/8 [==============================] - 0s 3ms/step - loss: 0.6282 - accuracy: 0.3054\n",
      "Epoch 17/20\n",
      "8/8 [==============================] - 0s 2ms/step - loss: 0.6263 - accuracy: 0.3054\n",
      "Epoch 18/20\n",
      "8/8 [==============================] - 0s 2ms/step - loss: 0.6246 - accuracy: 0.3054\n",
      "Epoch 19/20\n",
      "8/8 [==============================] - 0s 3ms/step - loss: 0.6229 - accuracy: 0.3054\n",
      "Epoch 20/20\n",
      "8/8 [==============================] - 0s 2ms/step - loss: 0.6213 - accuracy: 0.3054\n"
     ]
    },
    {
     "data": {
      "text/plain": [
       "<keras.callbacks.History at 0x7fd9853e5310>"
      ]
     },
     "execution_count": 231,
     "metadata": {},
     "output_type": "execute_result"
    }
   ],
   "source": [
    "ann6 = tf.keras.models.Sequential()\n",
    "ann6.add(tf.keras.layers.Dense(units=12, activation='softmax', input_shape=X_train[0].shape))\n",
    "ann6.add(tf.keras.layers.Dense(units=8, activation='softmax'))\n",
    "ann6.add(tf.keras.layers.Dense(units=1, activation='softmax'))\n",
    "ann6.compile(optimizer = 'adam', loss = 'binary_crossentropy', metrics = ['accuracy'])\n",
    "ann6.fit(X_train, y_train, batch_size = 32, epochs = 20)"
   ]
  },
  {
   "cell_type": "markdown",
   "metadata": {
    "id": "A_EDeNQM6x0E"
   },
   "source": [
    "Aktivasyon fonksiyonunu softmax yapınca accuracy : 0.30 a düştü. Buradan anladığım softmax aktivasyon fonksiyonu bu veri seti için hiç uygun değil. Zaten softmax fonksiyonunu çok sınıflı output çıkan modellerde kullanmak doğrudur. Yanlış olduğunu accuracyde çıkan değerin düşük olmasıyla göstermek istedim."
   ]
  },
  {
   "cell_type": "code",
   "execution_count": null,
   "metadata": {
    "colab": {
     "base_uri": "https://localhost:8080/"
    },
    "id": "HpSbgbDc6fkx",
    "outputId": "4e11141e-d875-4792-af75-de0ca3b34c51"
   },
   "outputs": [
    {
     "name": "stdout",
     "output_type": "stream",
     "text": [
      "Epoch 1/20\n",
      "8/8 [==============================] - 0s 2ms/step - loss: 2.2580 - accuracy: 0.6569\n",
      "Epoch 2/20\n",
      "8/8 [==============================] - 0s 2ms/step - loss: 2.1040 - accuracy: 0.6820\n",
      "Epoch 3/20\n",
      "8/8 [==============================] - 0s 2ms/step - loss: 1.9924 - accuracy: 0.6862\n",
      "Epoch 4/20\n",
      "8/8 [==============================] - 0s 2ms/step - loss: 1.8957 - accuracy: 0.7113\n",
      "Epoch 5/20\n",
      "8/8 [==============================] - 0s 2ms/step - loss: 1.8855 - accuracy: 0.7155\n",
      "Epoch 6/20\n",
      "8/8 [==============================] - 0s 2ms/step - loss: 1.8800 - accuracy: 0.7238\n",
      "Epoch 7/20\n",
      "8/8 [==============================] - 0s 3ms/step - loss: 1.8760 - accuracy: 0.7238\n",
      "Epoch 8/20\n",
      "8/8 [==============================] - 0s 2ms/step - loss: 1.8729 - accuracy: 0.7280\n",
      "Epoch 9/20\n",
      "8/8 [==============================] - 0s 2ms/step - loss: 1.8705 - accuracy: 0.7322\n",
      "Epoch 10/20\n",
      "8/8 [==============================] - 0s 2ms/step - loss: 1.8253 - accuracy: 0.7322\n",
      "Epoch 11/20\n",
      "8/8 [==============================] - 0s 2ms/step - loss: 1.8128 - accuracy: 0.7322\n",
      "Epoch 12/20\n",
      "8/8 [==============================] - 0s 2ms/step - loss: 1.8080 - accuracy: 0.7364\n",
      "Epoch 13/20\n",
      "8/8 [==============================] - 0s 2ms/step - loss: 1.8047 - accuracy: 0.7406\n",
      "Epoch 14/20\n",
      "8/8 [==============================] - 0s 2ms/step - loss: 1.8024 - accuracy: 0.7448\n",
      "Epoch 15/20\n",
      "8/8 [==============================] - 0s 2ms/step - loss: 1.8001 - accuracy: 0.7448\n",
      "Epoch 16/20\n",
      "8/8 [==============================] - 0s 2ms/step - loss: 1.7621 - accuracy: 0.7490\n",
      "Epoch 17/20\n",
      "8/8 [==============================] - 0s 2ms/step - loss: 1.7389 - accuracy: 0.7448\n",
      "Epoch 18/20\n",
      "8/8 [==============================] - 0s 3ms/step - loss: 1.7355 - accuracy: 0.7364\n",
      "Epoch 19/20\n",
      "8/8 [==============================] - 0s 2ms/step - loss: 1.7322 - accuracy: 0.7322\n",
      "Epoch 20/20\n",
      "8/8 [==============================] - 0s 2ms/step - loss: 1.7301 - accuracy: 0.7322\n"
     ]
    },
    {
     "data": {
      "text/plain": [
       "<keras.callbacks.History at 0x7fd983101550>"
      ]
     },
     "execution_count": 233,
     "metadata": {},
     "output_type": "execute_result"
    }
   ],
   "source": [
    "ann7 = tf.keras.models.Sequential()\n",
    "ann7.add(tf.keras.layers.Dense(units=12, activation='tanh', input_shape=X_train[0].shape))\n",
    "ann7.add(tf.keras.layers.Dense(units=8, activation='tanh'))\n",
    "ann7.add(tf.keras.layers.Dense(units=1, activation='tanh'))\n",
    "ann7.compile(optimizer = 'adam', loss = 'binary_crossentropy', metrics = ['accuracy'])\n",
    "ann7.fit(X_train, y_train, batch_size = 32, epochs = 20)"
   ]
  },
  {
   "cell_type": "markdown",
   "metadata": {
    "id": "4TWIRdwU9YUH"
   },
   "source": [
    "Hiperbolik tanjant fonksiyonu ile denedim.\n"
   ]
  },
  {
   "cell_type": "markdown",
   "metadata": {
    "id": "kFIhJnEP9zUK"
   },
   "source": [
    "Optimizerı 'adam' olarak seçmiştik. Farklı optimizerları da deneyerek accuracy_score'u gözlemleyebiliriz."
   ]
  },
  {
   "cell_type": "markdown",
   "metadata": {
    "id": "9Zrt12Gn-4Xy"
   },
   "source": [
    "Optimizer türleri\n",
    "\n",
    "1.   SGD\n",
    "2.   Momentum\n",
    "3.   Adam\n",
    "4.   AdaGrad\n",
    "5.   RMSProp\n",
    "6.   Adadelta\n",
    "\n",
    "En başarılıdan en düşük başarıya doğru sıralama:\n",
    "Adam,Adadelta,Momentum,Adagrad,SGD,RMSProp\n",
    "\n",
    "\n"
   ]
  },
  {
   "cell_type": "markdown",
   "metadata": {
    "id": "lbRErkkx_-EL"
   },
   "source": [
    "Optimizer olarak Adam'ı seçmiştik yani en başarılı olanı. Diğerlerini de deneyelim ve şu anda daha az başarılı olacağını tahmin ediyorum. Çünkü başarı sıralaması en yüksek Adam'dı."
   ]
  },
  {
   "cell_type": "code",
   "execution_count": null,
   "metadata": {
    "id": "E_LGn5kU9Pqn"
   },
   "outputs": [],
   "source": [
    "\n",
    "ann8 = tf.keras.models.Sequential()\n",
    "\n",
    "ann8.add(tf.keras.layers.Dense(units=12, activation='relu', input_shape=X_train[0].shape))\n",
    "\n",
    "ann8.add(tf.keras.layers.Dense(units=8, activation='relu'))\n",
    "\n",
    "ann8.add(tf.keras.layers.Dense(units=1, activation='sigmoid'))"
   ]
  },
  {
   "cell_type": "code",
   "execution_count": null,
   "metadata": {
    "colab": {
     "base_uri": "https://localhost:8080/"
    },
    "id": "d_s4jm_5DJCb",
    "outputId": "5ed10b66-8300-4dc9-bdd6-8028a1d3d87b"
   },
   "outputs": [
    {
     "name": "stdout",
     "output_type": "stream",
     "text": [
      "Epoch 1/20\n",
      "8/8 [==============================] - 1s 2ms/step - loss: 0.4488 - accuracy: 0.8075\n",
      "Epoch 2/20\n",
      "8/8 [==============================] - 0s 2ms/step - loss: 0.4369 - accuracy: 0.8201\n",
      "Epoch 3/20\n",
      "8/8 [==============================] - 0s 2ms/step - loss: 0.4292 - accuracy: 0.8243\n",
      "Epoch 4/20\n",
      "8/8 [==============================] - 0s 2ms/step - loss: 0.4232 - accuracy: 0.8201\n",
      "Epoch 5/20\n",
      "8/8 [==============================] - 0s 2ms/step - loss: 0.4176 - accuracy: 0.8243\n",
      "Epoch 6/20\n",
      "8/8 [==============================] - 0s 2ms/step - loss: 0.4123 - accuracy: 0.8243\n",
      "Epoch 7/20\n",
      "8/8 [==============================] - 0s 2ms/step - loss: 0.4071 - accuracy: 0.8285\n",
      "Epoch 8/20\n",
      "8/8 [==============================] - 0s 2ms/step - loss: 0.4022 - accuracy: 0.8243\n",
      "Epoch 9/20\n",
      "8/8 [==============================] - 0s 2ms/step - loss: 0.3972 - accuracy: 0.8243\n",
      "Epoch 10/20\n",
      "8/8 [==============================] - 0s 2ms/step - loss: 0.3926 - accuracy: 0.8243\n",
      "Epoch 11/20\n",
      "8/8 [==============================] - 0s 3ms/step - loss: 0.3885 - accuracy: 0.8243\n",
      "Epoch 12/20\n",
      "8/8 [==============================] - 0s 3ms/step - loss: 0.3846 - accuracy: 0.8243\n",
      "Epoch 13/20\n",
      "8/8 [==============================] - 0s 2ms/step - loss: 0.3811 - accuracy: 0.8201\n",
      "Epoch 14/20\n",
      "8/8 [==============================] - 0s 3ms/step - loss: 0.3780 - accuracy: 0.8285\n",
      "Epoch 15/20\n",
      "8/8 [==============================] - 0s 2ms/step - loss: 0.3748 - accuracy: 0.8201\n",
      "Epoch 16/20\n",
      "8/8 [==============================] - 0s 2ms/step - loss: 0.3717 - accuracy: 0.8326\n",
      "Epoch 17/20\n",
      "8/8 [==============================] - 0s 2ms/step - loss: 0.3696 - accuracy: 0.8368\n",
      "Epoch 18/20\n",
      "8/8 [==============================] - 0s 3ms/step - loss: 0.3665 - accuracy: 0.8368\n",
      "Epoch 19/20\n",
      "8/8 [==============================] - 0s 2ms/step - loss: 0.3638 - accuracy: 0.8368\n",
      "Epoch 20/20\n",
      "8/8 [==============================] - 0s 2ms/step - loss: 0.3619 - accuracy: 0.8326\n"
     ]
    },
    {
     "data": {
      "text/plain": [
       "<keras.callbacks.History at 0x7fd982e15950>"
      ]
     },
     "execution_count": 237,
     "metadata": {},
     "output_type": "execute_result"
    }
   ],
   "source": [
    "# Training ANN\n",
    "ann8.compile(optimizer = 'rmsprop', loss = 'binary_crossentropy', metrics = ['accuracy'])\n",
    "ann8.fit(X_train, y_train, batch_size = 32, epochs = 20)"
   ]
  },
  {
   "cell_type": "code",
   "execution_count": null,
   "metadata": {
    "colab": {
     "base_uri": "https://localhost:8080/"
    },
    "id": "EUGpTY23DUsc",
    "outputId": "1f0ef5f5-440e-4c2b-8ccb-e17845423ef8"
   },
   "outputs": [
    {
     "name": "stdout",
     "output_type": "stream",
     "text": [
      "Epoch 1/20\n",
      "8/8 [==============================] - 0s 2ms/step - loss: 0.7217 - accuracy: 0.5021\n",
      "Epoch 2/20\n",
      "8/8 [==============================] - 0s 2ms/step - loss: 0.7216 - accuracy: 0.5021\n",
      "Epoch 3/20\n",
      "8/8 [==============================] - 0s 2ms/step - loss: 0.7216 - accuracy: 0.5021\n",
      "Epoch 4/20\n",
      "8/8 [==============================] - 0s 2ms/step - loss: 0.7216 - accuracy: 0.5021\n",
      "Epoch 5/20\n",
      "8/8 [==============================] - 0s 3ms/step - loss: 0.7216 - accuracy: 0.5021\n",
      "Epoch 6/20\n",
      "8/8 [==============================] - 0s 2ms/step - loss: 0.7215 - accuracy: 0.5021\n",
      "Epoch 7/20\n",
      "8/8 [==============================] - 0s 2ms/step - loss: 0.7215 - accuracy: 0.5021\n",
      "Epoch 8/20\n",
      "8/8 [==============================] - 0s 2ms/step - loss: 0.7215 - accuracy: 0.5021\n",
      "Epoch 9/20\n",
      "8/8 [==============================] - 0s 2ms/step - loss: 0.7214 - accuracy: 0.5021\n",
      "Epoch 10/20\n",
      "8/8 [==============================] - 0s 3ms/step - loss: 0.7214 - accuracy: 0.5021\n",
      "Epoch 11/20\n",
      "8/8 [==============================] - 0s 2ms/step - loss: 0.7214 - accuracy: 0.5021\n",
      "Epoch 12/20\n",
      "8/8 [==============================] - 0s 2ms/step - loss: 0.7214 - accuracy: 0.5063\n",
      "Epoch 13/20\n",
      "8/8 [==============================] - 0s 3ms/step - loss: 0.7213 - accuracy: 0.5063\n",
      "Epoch 14/20\n",
      "8/8 [==============================] - 0s 2ms/step - loss: 0.7213 - accuracy: 0.5063\n",
      "Epoch 15/20\n",
      "8/8 [==============================] - 0s 2ms/step - loss: 0.7213 - accuracy: 0.5063\n",
      "Epoch 16/20\n",
      "8/8 [==============================] - 0s 2ms/step - loss: 0.7212 - accuracy: 0.5063\n",
      "Epoch 17/20\n",
      "8/8 [==============================] - 0s 2ms/step - loss: 0.7212 - accuracy: 0.5063\n",
      "Epoch 18/20\n",
      "8/8 [==============================] - 0s 2ms/step - loss: 0.7212 - accuracy: 0.5063\n",
      "Epoch 19/20\n",
      "8/8 [==============================] - 0s 2ms/step - loss: 0.7212 - accuracy: 0.5063\n",
      "Epoch 20/20\n",
      "8/8 [==============================] - 0s 2ms/step - loss: 0.7211 - accuracy: 0.5063\n"
     ]
    },
    {
     "data": {
      "text/plain": [
       "<keras.callbacks.History at 0x7fd982c2c710>"
      ]
     },
     "execution_count": 238,
     "metadata": {},
     "output_type": "execute_result"
    }
   ],
   "source": [
    "ann9 = tf.keras.models.Sequential()\n",
    "\n",
    "ann9.add(tf.keras.layers.Dense(units=12, activation='relu', input_shape=X_train[0].shape))\n",
    "\n",
    "ann9.add(tf.keras.layers.Dense(units=8, activation='relu'))\n",
    "\n",
    "ann9.add(tf.keras.layers.Dense(units=1, activation='sigmoid'))\n",
    "\n",
    "ann9.compile(optimizer = 'adadelta', loss = 'binary_crossentropy', metrics = ['accuracy'])\n",
    "\n",
    "ann9.fit(X_train, y_train, batch_size = 32, epochs = 20)"
   ]
  },
  {
   "cell_type": "code",
   "execution_count": null,
   "metadata": {
    "colab": {
     "base_uri": "https://localhost:8080/"
    },
    "id": "lCEqfAmCDx5-",
    "outputId": "ea03963d-c663-4810-82b3-05a89a6fcf75"
   },
   "outputs": [
    {
     "name": "stdout",
     "output_type": "stream",
     "text": [
      "Epoch 1/20\n",
      "8/8 [==============================] - 0s 2ms/step - loss: 0.7185 - accuracy: 0.4686\n",
      "Epoch 2/20\n",
      "8/8 [==============================] - 0s 2ms/step - loss: 0.7038 - accuracy: 0.5021\n",
      "Epoch 3/20\n",
      "8/8 [==============================] - 0s 2ms/step - loss: 0.6901 - accuracy: 0.5230\n",
      "Epoch 4/20\n",
      "8/8 [==============================] - 0s 2ms/step - loss: 0.6783 - accuracy: 0.5732\n",
      "Epoch 5/20\n",
      "8/8 [==============================] - 0s 2ms/step - loss: 0.6685 - accuracy: 0.6109\n",
      "Epoch 6/20\n",
      "8/8 [==============================] - 0s 2ms/step - loss: 0.6594 - accuracy: 0.6360\n",
      "Epoch 7/20\n",
      "8/8 [==============================] - 0s 3ms/step - loss: 0.6510 - accuracy: 0.6485\n",
      "Epoch 8/20\n",
      "8/8 [==============================] - 0s 2ms/step - loss: 0.6434 - accuracy: 0.6778\n",
      "Epoch 9/20\n",
      "8/8 [==============================] - 0s 2ms/step - loss: 0.6362 - accuracy: 0.6862\n",
      "Epoch 10/20\n",
      "8/8 [==============================] - 0s 3ms/step - loss: 0.6292 - accuracy: 0.6987\n",
      "Epoch 11/20\n",
      "8/8 [==============================] - 0s 3ms/step - loss: 0.6225 - accuracy: 0.7364\n",
      "Epoch 12/20\n",
      "8/8 [==============================] - 0s 3ms/step - loss: 0.6165 - accuracy: 0.7615\n",
      "Epoch 13/20\n",
      "8/8 [==============================] - 0s 2ms/step - loss: 0.6108 - accuracy: 0.7615\n",
      "Epoch 14/20\n",
      "8/8 [==============================] - 0s 2ms/step - loss: 0.6056 - accuracy: 0.7448\n",
      "Epoch 15/20\n",
      "8/8 [==============================] - 0s 2ms/step - loss: 0.6010 - accuracy: 0.7573\n",
      "Epoch 16/20\n",
      "8/8 [==============================] - 0s 2ms/step - loss: 0.5959 - accuracy: 0.7615\n",
      "Epoch 17/20\n",
      "8/8 [==============================] - 0s 2ms/step - loss: 0.5914 - accuracy: 0.7657\n",
      "Epoch 18/20\n",
      "8/8 [==============================] - 0s 2ms/step - loss: 0.5871 - accuracy: 0.7615\n",
      "Epoch 19/20\n",
      "8/8 [==============================] - 0s 3ms/step - loss: 0.5830 - accuracy: 0.7615\n",
      "Epoch 20/20\n",
      "8/8 [==============================] - 0s 2ms/step - loss: 0.5795 - accuracy: 0.7657\n"
     ]
    },
    {
     "data": {
      "text/plain": [
       "<keras.callbacks.History at 0x7fd982e11690>"
      ]
     },
     "execution_count": 240,
     "metadata": {},
     "output_type": "execute_result"
    }
   ],
   "source": [
    "ann10 = tf.keras.models.Sequential()\n",
    "\n",
    "ann10.add(tf.keras.layers.Dense(units=12, activation='relu', input_shape=X_train[0].shape))\n",
    "\n",
    "ann10.add(tf.keras.layers.Dense(units=8, activation='relu'))\n",
    "\n",
    "ann10.add(tf.keras.layers.Dense(units=1, activation='sigmoid'))\n",
    "\n",
    "ann10.compile(optimizer = 'sgd', loss = 'binary_crossentropy', metrics = ['accuracy'])\n",
    "\n",
    "ann10.fit(X_train, y_train, batch_size = 32, epochs = 20)"
   ]
  },
  {
   "cell_type": "code",
   "execution_count": null,
   "metadata": {
    "id": "1zsZHCAXEP7z"
   },
   "outputs": [],
   "source": []
  }
 ],
 "metadata": {
  "colab": {
   "collapsed_sections": [],
   "name": "Odev1.ipynb",
   "provenance": []
  },
  "kernelspec": {
   "display_name": "Python 3 (ipykernel)",
   "language": "python",
   "name": "python3"
  },
  "language_info": {
   "codemirror_mode": {
    "name": "ipython",
    "version": 3
   },
   "file_extension": ".py",
   "mimetype": "text/x-python",
   "name": "python",
   "nbconvert_exporter": "python",
   "pygments_lexer": "ipython3",
   "version": "3.9.7"
  }
 },
 "nbformat": 4,
 "nbformat_minor": 1
}
